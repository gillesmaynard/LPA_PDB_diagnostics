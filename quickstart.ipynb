{
 "cells": [
  {
   "cell_type": "markdown",
   "metadata": {},
   "source": [
    "###This notebook contains some usual analysis for LPA\n",
    "It only works for output format in pdb."
   ]
  },
  {
   "cell_type": "code",
   "execution_count": 1,
   "metadata": {
    "collapsed": false
   },
   "outputs": [],
   "source": [
    "import numpy as np\n",
    "import pylab as plt\n",
    "from lpa_pdb_diagnostics import *\n",
    "from scipy.constants import e, c, m_e, epsilon_0\n",
    "%matplotlib inline"
   ]
  },
  {
   "cell_type": "markdown",
   "metadata": {},
   "source": [
    "Setting the directory path:"
   ]
  },
  {
   "cell_type": "code",
   "execution_count": 2,
   "metadata": {
    "collapsed": true
   },
   "outputs": [],
   "source": [
    "dir_path = \"//Volumes/Orsay/circ_a01.1_foc1.9mm_400um_dens7.8_nzplambda50/data/\""
   ]
  },
  {
   "cell_type": "markdown",
   "metadata": {},
   "source": [
    "#Laser - Plasma Parameters\n",
    "Here we define some of the laser plasma parameters."
   ]
  },
  {
   "cell_type": "code",
   "execution_count": 3,
   "metadata": {
    "collapsed": false
   },
   "outputs": [],
   "source": [
    "# Some definitions of the laser plasma parameters\n",
    "lambda0 = 0.8e-6\n",
    "w0 = 2*np.pi*c/lambda0\n",
    "laser_waist = 17e-6\n",
    "plasma_dens = 7.8e24\n",
    "plasma_length = 3e-3\n",
    "wp = np.sqrt(plasma_dens * e**2/ (epsilon_0 * m_e))\n",
    "lambda_plasma = 2*np.pi*c/wp"
   ]
  },
  {
   "cell_type": "markdown",
   "metadata": {},
   "source": [
    "#Numerical Parameters\n",
    "Here we define the necessary numerical parameters for the analysis"
   ]
  },
  {
   "cell_type": "code",
   "execution_count": 4,
   "metadata": {
    "collapsed": true
   },
   "outputs": [],
   "source": [
    "zmin = -8*lambda_plasma\n",
    "zmax = 2*lambda0\n",
    "nzplambda = 50\n",
    "w_size = zmax - zmin\n",
    "Nz = int(w_size*nzplambda/lambda0)\n",
    "dz = w_size/Nz"
   ]
  },
  {
   "cell_type": "markdown",
   "metadata": {},
   "source": [
    "#Generate values for file reading"
   ]
  },
  {
   "cell_type": "code",
   "execution_count": 5,
   "metadata": {
    "collapsed": false
   },
   "outputs": [
    {
     "name": "stderr",
     "output_type": "stream",
     "text": [
      "/anaconda/lib/python2.7/site-packages/IPython/kernel/__main__.py:6: VisibleDeprecationWarning: using a non-integer number instead of an integer will result in an error in the future\n"
     ]
    }
   ],
   "source": [
    "inf = 0\n",
    "sup = 0\n",
    "period_int = 1000\n",
    "period_ext = 1000\n",
    "val = values( inf, sup, period_int, period_ext, plasma_length/dz )\n",
    "longitudinal_position = val*dz"
   ]
  },
  {
   "cell_type": "markdown",
   "metadata": {},
   "source": [
    "We create an array of file names that we analyze."
   ]
  },
  {
   "cell_type": "code",
   "execution_count": 6,
   "metadata": {
    "collapsed": false
   },
   "outputs": [],
   "source": [
    "field = np.empty(len(val),dtype=\"S100\")\n",
    "N5 = np.empty(len(val),dtype=\"S100\")\n",
    "N6 = np.empty(len(val),dtype=\"S100\")\n",
    "N7 = np.empty(len(val),dtype=\"S100\")\n",
    "H = np.empty(len(val),dtype=\"S100\")\n",
    "\n",
    "# Initialize file names\n",
    "for i, v in enumerate(val):\n",
    "    field[i] = dir_path + \"fields%06d.pdb\" %v\n",
    "    N5[i] = dir_path + \"N5%06d.pdb\" %v\n",
    "    N6[i] = dir_path + \"N6%06d.pdb\" %v\n",
    "    N7[i] = dir_path + \"N7%06d.pdb\" %v\n",
    "    H[i] = dir_path + \"H%06d.pdb\" %v"
   ]
  },
  {
   "cell_type": "markdown",
   "metadata": {},
   "source": [
    "#Reading files"
   ]
  },
  {
   "cell_type": "markdown",
   "metadata": {},
   "source": [
    "We can either read a single file, or we can read a number of files using a loop."
   ]
  },
  {
   "cell_type": "markdown",
   "metadata": {},
   "source": [
    "##Single file reading"
   ]
  },
  {
   "cell_type": "markdown",
   "metadata": {
    "collapsed": false
   },
   "source": [
    "Example Case: Evaluation of laser c$\\tau$ at one given instant\n",
    "The instant that I would like to investigate is at $1.5mm$."
   ]
  },
  {
   "cell_type": "code",
   "execution_count": 7,
   "metadata": {
    "collapsed": false
   },
   "outputs": [
    {
     "name": "stdout",
     "output_type": "stream",
     "text": [
      "** Processing ** Fields: Intialisation of //Volumes/Orsay/circ_a01.1_foc1.9mm_400um_dens7.8_nzplambda50/data/fields125000.pdb **\n"
     ]
    }
   ],
   "source": [
    "it_instant = int(2.0e-3/dz/period_int) #round off to the nearest 1000\n",
    "f = FieldInstant(field[it_instant], np.pi/2, \n",
    "                 quantities= [\"E\", \"zfield\", \"densH\", \"densN5\", \"densN6\", \"densN7\"])"
   ]
  },
  {
   "cell_type": "markdown",
   "metadata": {},
   "source": [
    "####Zero crossing analysis"
   ]
  },
  {
   "cell_type": "code",
   "execution_count": 8,
   "metadata": {
    "collapsed": false
   },
   "outputs": [],
   "source": [
    "buckets = f.wakefield_zero_crossing()"
   ]
  },
  {
   "cell_type": "markdown",
   "metadata": {},
   "source": [
    "###Fields analysis"
   ]
  },
  {
   "cell_type": "markdown",
   "metadata": {},
   "source": [
    "####2D laser field"
   ]
  },
  {
   "cell_type": "code",
   "execution_count": 9,
   "metadata": {
    "collapsed": false
   },
   "outputs": [
    {
     "data": {
      "text/plain": [
       "<matplotlib.image.AxesImage at 0x127843890>"
      ]
     },
     "execution_count": 9,
     "metadata": {},
     "output_type": "execute_result"
    },
    {
     "data": {
      "image/png": "[encoded data removed]",
      "text/plain": [
       "<matplotlib.figure.Figure at 0x1106d8290>"
      ]
     },
     "metadata": {},
     "output_type": "display_data"
    }
   ],
   "source": [
    "fig, axarr = plt.subplots(dpi = 150)\n",
    "fig.patch.set_facecolor('white')\n",
    "plt.imshow(f.laser_field, aspect = 'auto', extent = f.extent )"
   ]
  },
  {
   "cell_type": "markdown",
   "metadata": {},
   "source": [
    "####1D laser field"
   ]
  },
  {
   "cell_type": "code",
   "execution_count": 10,
   "metadata": {
    "collapsed": false
   },
   "outputs": [
    {
     "data": {
      "text/plain": [
       "(1896.9121114855629, 1994.138787293424)"
      ]
     },
     "execution_count": 10,
     "metadata": {},
     "output_type": "execute_result"
    },
    {
     "data": {
      "image/png": "[encoded data removed]",
      "text/plain": [
       "<matplotlib.figure.Figure at 0x110684e50>"
      ]
     },
     "metadata": {},
     "output_type": "display_data"
    }
   ],
   "source": [
    "fig, axarr = plt.subplots(dpi = 150)\n",
    "fig.patch.set_facecolor('white')\n",
    "axarr.plot( np.array(f.zfield)*1e6, np.array(f.laser_field[int(f.shape[0]/2),:])*1e-12 )\n",
    "axarr.set_xlabel(r\"$\\mathrm{z[\\mu m]}$\")\n",
    "axarr.set_ylabel(r\"$\\mathrm{Ez[TV/m]}$\")\n",
    "axarr.set_xlim( min(np.array(f.zfield)*1e6), max(np.array(f.zfield)*1e6))"
   ]
  },
  {
   "cell_type": "markdown",
   "metadata": {},
   "source": [
    "####Laser c$\\tau$"
   ]
  },
  {
   "cell_type": "code",
   "execution_count": 11,
   "metadata": {
    "collapsed": false
   },
   "outputs": [
    {
     "data": {
      "text/plain": [
       "1.9814936199213249e-05"
      ]
     },
     "execution_count": 11,
     "metadata": {},
     "output_type": "execute_result"
    }
   ],
   "source": [
    "f.laser_ctau()"
   ]
  },
  {
   "cell_type": "markdown",
   "metadata": {},
   "source": [
    "####Laser envelop"
   ]
  },
  {
   "cell_type": "code",
   "execution_count": 12,
   "metadata": {
    "collapsed": false
   },
   "outputs": [
    {
     "data": {
      "text/plain": [
       "(1897.2481483835163, 1994.0747802652425)"
      ]
     },
     "execution_count": 12,
     "metadata": {},
     "output_type": "execute_result"
    },
    {
     "data": {
      "image/png": "[encoded data removed]",
      "text/plain": [
       "<matplotlib.figure.Figure at 0x110684350>"
      ]
     },
     "metadata": {},
     "output_type": "display_data"
    }
   ],
   "source": [
    "z, env = f.laser_envelop()\n",
    "#Plotting\n",
    "fig, axarr = plt.subplots(dpi = 150)\n",
    "fig.patch.set_facecolor('white')\n",
    "axarr.plot( np.array(z)*1e6, np.array(env)*1e-12 )\n",
    "axarr.set_xlabel(r\"$\\mathrm{z[\\mu m]}$\")\n",
    "axarr.set_ylabel(r\"$\\mathrm{Ez[TV/m]}$\")\n",
    "axarr.set_xlim( min(np.array(z)*1e6), max(np.array(z)*1e6))"
   ]
  },
  {
   "cell_type": "markdown",
   "metadata": {},
   "source": [
    "####2D wakefield"
   ]
  },
  {
   "cell_type": "code",
   "execution_count": 13,
   "metadata": {
    "collapsed": false
   },
   "outputs": [
    {
     "data": {
      "text/plain": [
       "<matplotlib.image.AxesImage at 0x1386db750>"
      ]
     },
     "execution_count": 13,
     "metadata": {},
     "output_type": "execute_result"
    },
    {
     "data": {
      "image/png": "[encoded data removed]",
      "text/plain": [
       "<matplotlib.figure.Figure at 0x1106a9150>"
      ]
     },
     "metadata": {},
     "output_type": "display_data"
    }
   ],
   "source": [
    "fig.patch.set_facecolor('white')\n",
    "plt.imshow(f.ez, aspect = 'auto', extent = f.extent )"
   ]
  },
  {
   "cell_type": "markdown",
   "metadata": {},
   "source": [
    "####1D wakefield"
   ]
  },
  {
   "cell_type": "code",
   "execution_count": 14,
   "metadata": {
    "collapsed": false
   },
   "outputs": [
    {
     "data": {
      "text/plain": [
       "(1897.2481483835163, 1994.0747802652425)"
      ]
     },
     "execution_count": 14,
     "metadata": {},
     "output_type": "execute_result"
    },
    {
     "data": {
      "image/png": "[encoded data removed]",
      "text/plain": [
       "<matplotlib.figure.Figure at 0x1386dbc50>"
      ]
     },
     "metadata": {},
     "output_type": "display_data"
    }
   ],
   "source": [
    "fig, axarr = plt.subplots(dpi = 150)\n",
    "fig.patch.set_facecolor('white')\n",
    "axarr.plot( np.array(f.zfield)*1e6, np.array(f.ez[int(f.shape[0]/2),:])*1e-12 )\n",
    "axarr.set_xlabel(r\"$\\mathrm{z[\\mu m]}$\")\n",
    "axarr.set_ylabel(r\"$\\mathrm{E_z[TV/m]}$\")\n",
    "axarr.set_xlim( min(np.array(z)*1e6), max(np.array(z)*1e6))"
   ]
  },
  {
   "cell_type": "markdown",
   "metadata": {},
   "source": [
    "###Particle analysis"
   ]
  },
  {
   "cell_type": "markdown",
   "metadata": {},
   "source": [
    "####Beam spectrum\n",
    "Instantiate partilcle objects"
   ]
  },
  {
   "cell_type": "code",
   "execution_count": 15,
   "metadata": {
    "collapsed": false
   },
   "outputs": [
    {
     "name": "stdout",
     "output_type": "stream",
     "text": [
      "** Processing ** Particles: Initialisation of //Volumes/Orsay/circ_a01.1_foc1.9mm_400um_dens7.8_nzplambda50/data/H125000.pdb **\n",
      "** Processing ** Particles: Initialisation of //Volumes/Orsay/circ_a01.1_foc1.9mm_400um_dens7.8_nzplambda50/data/N6125000.pdb **\n",
      "** Processing ** Particles: Initialisation of //Volumes/Orsay/circ_a01.1_foc1.9mm_400um_dens7.8_nzplambda50/data/N7125000.pdb **\n"
     ]
    }
   ],
   "source": [
    "HH = ParticleInstant(H[it_instant], quantities = [\"PID\", \"Weight\", \"Position\", \"Momentum\"])\n",
    "N66 = ParticleInstant(N6[it_instant])\n",
    "N77 = ParticleInstant(N7[it_instant])"
   ]
  },
  {
   "cell_type": "markdown",
   "metadata": {},
   "source": [
    "We choose particles, two parameters of choice are offered: gamma_threshold and region of interest."
   ]
  },
  {
   "cell_type": "code",
   "execution_count": 16,
   "metadata": {
    "collapsed": true
   },
   "outputs": [],
   "source": [
    "# we choose particles which have a gamma threshold between 40 to 400 \n",
    "#and situated in the first accelerating bucket \n",
    "cPH, qdict = HH.select( gamma_threshold = [40,400], ROI = buckets[0])\n",
    "cPN6, qdict = N66.select( gamma_threshold = [40,400], ROI = buckets[0])\n",
    "cPN7, qdict = N77.select( gamma_threshold = [40,400], ROI = buckets[0])"
   ]
  },
  {
   "cell_type": "markdown",
   "metadata": {},
   "source": [
    "Group all the particles before doing beam spectrum analysis"
   ]
  },
  {
   "cell_type": "code",
   "execution_count": 17,
   "metadata": {
    "collapsed": false
   },
   "outputs": [],
   "source": [
    "xa = [cPN6[qdict[\"x\"]]] + [cPN7[qdict[\"x\"]]]\n",
    "ya = [cPN6[qdict[\"y\"]]] + [cPN7[qdict[\"y\"]]]\n",
    "za =  [cPN6[qdict[\"z\"]]] + [cPN7[qdict[\"z\"]]]\n",
    "uxa =  [cPN6[qdict[\"ux\"]]] + [cPN7[qdict[\"ux\"]]]\n",
    "uya =  [cPN6[qdict[\"uy\"]]] + [cPN7[qdict[\"uy\"]]]\n",
    "uza =  [cPN6[qdict[\"uz\"]]] + [cPN7[qdict[\"uz\"]]]\n",
    "wa = [cPN6[qdict[\"w\"]]] + [cPN7[qdict[\"w\"]]]\n",
    "ga =  [cPN6[qdict[\"gamma\"]]] + [cPN7[qdict[\"gamma\"]]]"
   ]
  },
  {
   "cell_type": "code",
   "execution_count": 18,
   "metadata": {
    "collapsed": false
   },
   "outputs": [
    {
     "name": "stdout",
     "output_type": "stream",
     "text": [
      "A file named BeamSpectrum in /Users/pmlee/Documents/LPA_PDB_diagnostics/result/ is created.\n"
     ]
    },
    {
     "name": "stderr",
     "output_type": "stream",
     "text": [
      "lpa_pdb_diagnostics/file_handling.py:62: FutureWarning: comparison to `None` will result in an elementwise object comparison in the future.\n",
      "  if self.groups != None:\n",
      "lpa_pdb_diagnostics/file_handling.py:90: FutureWarning: comparison to `None` will result in an elementwise object comparison in the future.\n",
      "  if self.groups!=None:\n"
     ]
    }
   ],
   "source": [
    "energy, dQdE = beam_spectrum(ga, wa, lwrite=True)"
   ]
  },
  {
   "cell_type": "code",
   "execution_count": 19,
   "metadata": {
    "collapsed": false
   },
   "outputs": [
    {
     "data": {
      "image/png": "[encoded data removed]",
      "text/plain": [
       "<matplotlib.figure.Figure at 0x1387e6e90>"
      ]
     },
     "metadata": {},
     "output_type": "display_data"
    }
   ],
   "source": [
    "f = plt.figure(dpi = 120)\n",
    "f.patch.set_facecolor('white')\n",
    "num_species = np.shape(energy)[0]\n",
    "c=[ \"blue\",\"red\",\"black\"]\n",
    "l = [r\"$N6$\", r\"$N7$\", r\"$Sum$\"]\n",
    "\n",
    "for i in xrange(num_species):   \n",
    "\n",
    "    plt.plot( energy[i], dQdE[i], color=c[i], label =l[i])\n",
    "    \n",
    "plt.xlabel(r\"$\\mathrm{Energy[MeV]}$\")\n",
    "plt.ylabel(r\"$\\mathrm{dQdE[C/MeV]}$\")\n",
    "\n",
    "# Now add the legend with some customizations.\n",
    "legend = plt.legend(loc='best', shadow=True)\n",
    "\n",
    "# Set the fontsize\n",
    "for label in legend.get_texts():\n",
    "    label.set_fontsize('large')\n",
    "\n",
    "for label in legend.get_lines():\n",
    "    label.set_linewidth(1.5)  # the legend line width"
   ]
  },
  {
   "cell_type": "markdown",
   "metadata": {},
   "source": [
    "####Beam peak evaluation and beam energy spread\n",
    "We use the total energy spectrum to evaluate these properties."
   ]
  },
  {
   "cell_type": "code",
   "execution_count": 20,
   "metadata": {
    "collapsed": false
   },
   "outputs": [
    {
     "name": "stdout",
     "output_type": "stream",
     "text": [
      "Peaks are situated at:\n",
      "Index :  [4, 91]\n",
      "Energy:  [ 22.96115007  66.82656567]\n",
      "Charge:  [  3.93277598e-17   1.95635417e-16]\n"
     ]
    }
   ],
   "source": [
    "t_energy = energy[-1]\n",
    "t_dQdE = dQdE[-1]\n",
    "Ipeak, Epeak, Cpeak = beam_peak( t_energy, t_dQdE)\n",
    "peak=(Ipeak[-1], Epeak[-1], Cpeak[-1])\n",
    "print \"Peaks are situated at:\"\n",
    "print \"Index : \", Ipeak\n",
    "print \"Energy: \", Epeak\n",
    "print \"Charge: \", Cpeak"
   ]
  },
  {
   "cell_type": "code",
   "execution_count": 21,
   "metadata": {
    "collapsed": false
   },
   "outputs": [
    {
     "name": "stdout",
     "output_type": "stream",
     "text": [
      "Delta E: 8.385415 MeV, Delta E/E: 0.125480\n"
     ]
    }
   ],
   "source": [
    "deltaE , deltaEE = beam_energy_spread( t_energy, t_dQdE, peak = peak)\n",
    "print \"Delta E: %f MeV, Delta E/E: %f\" %(deltaE, deltaEE)"
   ]
  },
  {
   "cell_type": "markdown",
   "metadata": {},
   "source": [
    "####Beam emittance"
   ]
  },
  {
   "cell_type": "markdown",
   "metadata": {},
   "source": [
    "In transverse directions"
   ]
  },
  {
   "cell_type": "code",
   "execution_count": 22,
   "metadata": {
    "collapsed": false
   },
   "outputs": [],
   "source": [
    "#emitx = beam_emittance( xa, uxa, wa )\n",
    "#emity = beam_emittance( ya, uya, wa )\n",
    "#print \"Emittance in x-direction: \", emitx\n",
    "#print \"Emittance in y-direction: \", emity"
   ]
  },
  {
   "cell_type": "markdown",
   "metadata": {
    "collapsed": true
   },
   "source": [
    "##Multiple files reading"
   ]
  },
  {
   "cell_type": "markdown",
   "metadata": {},
   "source": [
    "####Laser $a_0$"
   ]
  },
  {
   "cell_type": "code",
   "execution_count": 23,
   "metadata": {
    "collapsed": false
   },
   "outputs": [
    {
     "name": "stdout",
     "output_type": "stream",
     "text": [
      "** Processing ** Fields: Intialisation of //Volumes/Orsay/circ_a01.1_foc1.9mm_400um_dens7.8_nzplambda50/data/fields001000.pdb **\n",
      "** Processing ** Fields: Intialisation of //Volumes/Orsay/circ_a01.1_foc1.9mm_400um_dens7.8_nzplambda50/data/fields002000.pdb **\n",
      "** Processing ** Fields: Intialisation of //Volumes/Orsay/circ_a01.1_foc1.9mm_400um_dens7.8_nzplambda50/data/fields003000.pdb **\n",
      "** Processing ** Fields: Intialisation of //Volumes/Orsay/circ_a01.1_foc1.9mm_400um_dens7.8_nzplambda50/data/fields004000.pdb **\n",
      "** Processing ** Fields: Intialisation of //Volumes/Orsay/circ_a01.1_foc1.9mm_400um_dens7.8_nzplambda50/data/fields005000.pdb **\n",
      "** Processing ** Fields: Intialisation of //Volumes/Orsay/circ_a01.1_foc1.9mm_400um_dens7.8_nzplambda50/data/fields006000.pdb **\n",
      "** Processing ** Fields: Intialisation of //Volumes/Orsay/circ_a01.1_foc1.9mm_400um_dens7.8_nzplambda50/data/fields007000.pdb **\n",
      "** Processing ** Fields: Intialisation of //Volumes/Orsay/circ_a01.1_foc1.9mm_400um_dens7.8_nzplambda50/data/fields008000.pdb **\n",
      "** Processing ** Fields: Intialisation of //Volumes/Orsay/circ_a01.1_foc1.9mm_400um_dens7.8_nzplambda50/data/fields009000.pdb **\n",
      "** Processing ** Fields: Intialisation of //Volumes/Orsay/circ_a01.1_foc1.9mm_400um_dens7.8_nzplambda50/data/fields010000.pdb **\n",
      "** Processing ** Fields: Intialisation of //Volumes/Orsay/circ_a01.1_foc1.9mm_400um_dens7.8_nzplambda50/data/fields011000.pdb **\n",
      "** Processing ** Fields: Intialisation of //Volumes/Orsay/circ_a01.1_foc1.9mm_400um_dens7.8_nzplambda50/data/fields012000.pdb **\n",
      "** Processing ** Fields: Intialisation of //Volumes/Orsay/circ_a01.1_foc1.9mm_400um_dens7.8_nzplambda50/data/fields013000.pdb **\n",
      "** Processing ** Fields: Intialisation of //Volumes/Orsay/circ_a01.1_foc1.9mm_400um_dens7.8_nzplambda50/data/fields014000.pdb **\n",
      "** Processing ** Fields: Intialisation of //Volumes/Orsay/circ_a01.1_foc1.9mm_400um_dens7.8_nzplambda50/data/fields015000.pdb **\n",
      "** Processing ** Fields: Intialisation of //Volumes/Orsay/circ_a01.1_foc1.9mm_400um_dens7.8_nzplambda50/data/fields016000.pdb **\n",
      "** Processing ** Fields: Intialisation of //Volumes/Orsay/circ_a01.1_foc1.9mm_400um_dens7.8_nzplambda50/data/fields017000.pdb **\n",
      "** Processing ** Fields: Intialisation of //Volumes/Orsay/circ_a01.1_foc1.9mm_400um_dens7.8_nzplambda50/data/fields018000.pdb **\n",
      "** Processing ** Fields: Intialisation of //Volumes/Orsay/circ_a01.1_foc1.9mm_400um_dens7.8_nzplambda50/data/fields019000.pdb **\n",
      "** Processing ** Fields: Intialisation of //Volumes/Orsay/circ_a01.1_foc1.9mm_400um_dens7.8_nzplambda50/data/fields020000.pdb **\n",
      "** Processing ** Fields: Intialisation of //Volumes/Orsay/circ_a01.1_foc1.9mm_400um_dens7.8_nzplambda50/data/fields021000.pdb **\n",
      "** Processing ** Fields: Intialisation of //Volumes/Orsay/circ_a01.1_foc1.9mm_400um_dens7.8_nzplambda50/data/fields022000.pdb **\n",
      "** Processing ** Fields: Intialisation of //Volumes/Orsay/circ_a01.1_foc1.9mm_400um_dens7.8_nzplambda50/data/fields023000.pdb **\n",
      "** Processing ** Fields: Intialisation of //Volumes/Orsay/circ_a01.1_foc1.9mm_400um_dens7.8_nzplambda50/data/fields024000.pdb **\n",
      "** Processing ** Fields: Intialisation of //Volumes/Orsay/circ_a01.1_foc1.9mm_400um_dens7.8_nzplambda50/data/fields025000.pdb **\n",
      "** Processing ** Fields: Intialisation of //Volumes/Orsay/circ_a01.1_foc1.9mm_400um_dens7.8_nzplambda50/data/fields026000.pdb **\n",
      "** Processing ** Fields: Intialisation of //Volumes/Orsay/circ_a01.1_foc1.9mm_400um_dens7.8_nzplambda50/data/fields027000.pdb **\n",
      "** Processing ** Fields: Intialisation of //Volumes/Orsay/circ_a01.1_foc1.9mm_400um_dens7.8_nzplambda50/data/fields028000.pdb **\n",
      "** Processing ** Fields: Intialisation of //Volumes/Orsay/circ_a01.1_foc1.9mm_400um_dens7.8_nzplambda50/data/fields029000.pdb **\n",
      "** Processing ** Fields: Intialisation of //Volumes/Orsay/circ_a01.1_foc1.9mm_400um_dens7.8_nzplambda50/data/fields030000.pdb **\n",
      "** Processing ** Fields: Intialisation of //Volumes/Orsay/circ_a01.1_foc1.9mm_400um_dens7.8_nzplambda50/data/fields031000.pdb **\n",
      "** Processing ** Fields: Intialisation of //Volumes/Orsay/circ_a01.1_foc1.9mm_400um_dens7.8_nzplambda50/data/fields032000.pdb **\n",
      "** Processing ** Fields: Intialisation of //Volumes/Orsay/circ_a01.1_foc1.9mm_400um_dens7.8_nzplambda50/data/fields033000.pdb **\n",
      "** Processing ** Fields: Intialisation of //Volumes/Orsay/circ_a01.1_foc1.9mm_400um_dens7.8_nzplambda50/data/fields034000.pdb **\n",
      "** Processing ** Fields: Intialisation of //Volumes/Orsay/circ_a01.1_foc1.9mm_400um_dens7.8_nzplambda50/data/fields035000.pdb **\n",
      "** Processing ** Fields: Intialisation of //Volumes/Orsay/circ_a01.1_foc1.9mm_400um_dens7.8_nzplambda50/data/fields036000.pdb **\n",
      "** Processing ** Fields: Intialisation of //Volumes/Orsay/circ_a01.1_foc1.9mm_400um_dens7.8_nzplambda50/data/fields037000.pdb **\n",
      "** Processing ** Fields: Intialisation of //Volumes/Orsay/circ_a01.1_foc1.9mm_400um_dens7.8_nzplambda50/data/fields038000.pdb **\n",
      "** Processing ** Fields: Intialisation of //Volumes/Orsay/circ_a01.1_foc1.9mm_400um_dens7.8_nzplambda50/data/fields039000.pdb **\n",
      "** Processing ** Fields: Intialisation of //Volumes/Orsay/circ_a01.1_foc1.9mm_400um_dens7.8_nzplambda50/data/fields040000.pdb **\n",
      "** Processing ** Fields: Intialisation of //Volumes/Orsay/circ_a01.1_foc1.9mm_400um_dens7.8_nzplambda50/data/fields041000.pdb **\n",
      "** Processing ** Fields: Intialisation of //Volumes/Orsay/circ_a01.1_foc1.9mm_400um_dens7.8_nzplambda50/data/fields042000.pdb **\n",
      "** Processing ** Fields: Intialisation of //Volumes/Orsay/circ_a01.1_foc1.9mm_400um_dens7.8_nzplambda50/data/fields043000.pdb **\n",
      "** Processing ** Fields: Intialisation of //Volumes/Orsay/circ_a01.1_foc1.9mm_400um_dens7.8_nzplambda50/data/fields044000.pdb **\n",
      "** Processing ** Fields: Intialisation of //Volumes/Orsay/circ_a01.1_foc1.9mm_400um_dens7.8_nzplambda50/data/fields045000.pdb **\n",
      "** Processing ** Fields: Intialisation of //Volumes/Orsay/circ_a01.1_foc1.9mm_400um_dens7.8_nzplambda50/data/fields046000.pdb **\n",
      "** Processing ** Fields: Intialisation of //Volumes/Orsay/circ_a01.1_foc1.9mm_400um_dens7.8_nzplambda50/data/fields047000.pdb **\n",
      "** Processing ** Fields: Intialisation of //Volumes/Orsay/circ_a01.1_foc1.9mm_400um_dens7.8_nzplambda50/data/fields048000.pdb **\n",
      "** Processing ** Fields: Intialisation of //Volumes/Orsay/circ_a01.1_foc1.9mm_400um_dens7.8_nzplambda50/data/fields049000.pdb **\n",
      "** Processing ** Fields: Intialisation of //Volumes/Orsay/circ_a01.1_foc1.9mm_400um_dens7.8_nzplambda50/data/fields050000.pdb **\n",
      "** Processing ** Fields: Intialisation of //Volumes/Orsay/circ_a01.1_foc1.9mm_400um_dens7.8_nzplambda50/data/fields051000.pdb **\n",
      "** Processing ** Fields: Intialisation of //Volumes/Orsay/circ_a01.1_foc1.9mm_400um_dens7.8_nzplambda50/data/fields052000.pdb **\n",
      "** Processing ** Fields: Intialisation of //Volumes/Orsay/circ_a01.1_foc1.9mm_400um_dens7.8_nzplambda50/data/fields053000.pdb **\n",
      "** Processing ** Fields: Intialisation of //Volumes/Orsay/circ_a01.1_foc1.9mm_400um_dens7.8_nzplambda50/data/fields054000.pdb **\n",
      "** Processing ** Fields: Intialisation of //Volumes/Orsay/circ_a01.1_foc1.9mm_400um_dens7.8_nzplambda50/data/fields055000.pdb **\n",
      "** Processing ** Fields: Intialisation of //Volumes/Orsay/circ_a01.1_foc1.9mm_400um_dens7.8_nzplambda50/data/fields056000.pdb **\n",
      "** Processing ** Fields: Intialisation of //Volumes/Orsay/circ_a01.1_foc1.9mm_400um_dens7.8_nzplambda50/data/fields057000.pdb **\n",
      "** Processing ** Fields: Intialisation of //Volumes/Orsay/circ_a01.1_foc1.9mm_400um_dens7.8_nzplambda50/data/fields058000.pdb **\n",
      "** Processing ** Fields: Intialisation of //Volumes/Orsay/circ_a01.1_foc1.9mm_400um_dens7.8_nzplambda50/data/fields059000.pdb **\n",
      "** Processing ** Fields: Intialisation of //Volumes/Orsay/circ_a01.1_foc1.9mm_400um_dens7.8_nzplambda50/data/fields060000.pdb **\n",
      "** Processing ** Fields: Intialisation of //Volumes/Orsay/circ_a01.1_foc1.9mm_400um_dens7.8_nzplambda50/data/fields061000.pdb **\n",
      "** Processing ** Fields: Intialisation of //Volumes/Orsay/circ_a01.1_foc1.9mm_400um_dens7.8_nzplambda50/data/fields062000.pdb **\n",
      "** Processing ** Fields: Intialisation of //Volumes/Orsay/circ_a01.1_foc1.9mm_400um_dens7.8_nzplambda50/data/fields063000.pdb **\n",
      "** Processing ** Fields: Intialisation of //Volumes/Orsay/circ_a01.1_foc1.9mm_400um_dens7.8_nzplambda50/data/fields064000.pdb **\n",
      "** Processing ** Fields: Intialisation of //Volumes/Orsay/circ_a01.1_foc1.9mm_400um_dens7.8_nzplambda50/data/fields065000.pdb **\n",
      "** Processing ** Fields: Intialisation of //Volumes/Orsay/circ_a01.1_foc1.9mm_400um_dens7.8_nzplambda50/data/fields066000.pdb **\n",
      "** Processing ** Fields: Intialisation of //Volumes/Orsay/circ_a01.1_foc1.9mm_400um_dens7.8_nzplambda50/data/fields067000.pdb **\n",
      "** Processing ** Fields: Intialisation of //Volumes/Orsay/circ_a01.1_foc1.9mm_400um_dens7.8_nzplambda50/data/fields068000.pdb **\n",
      "** Processing ** Fields: Intialisation of //Volumes/Orsay/circ_a01.1_foc1.9mm_400um_dens7.8_nzplambda50/data/fields069000.pdb **\n",
      "** Processing ** Fields: Intialisation of //Volumes/Orsay/circ_a01.1_foc1.9mm_400um_dens7.8_nzplambda50/data/fields070000.pdb **\n",
      "** Processing ** Fields: Intialisation of //Volumes/Orsay/circ_a01.1_foc1.9mm_400um_dens7.8_nzplambda50/data/fields071000.pdb **\n",
      "** Processing ** Fields: Intialisation of //Volumes/Orsay/circ_a01.1_foc1.9mm_400um_dens7.8_nzplambda50/data/fields072000.pdb **\n",
      "** Processing ** Fields: Intialisation of //Volumes/Orsay/circ_a01.1_foc1.9mm_400um_dens7.8_nzplambda50/data/fields073000.pdb **\n",
      "** Processing ** Fields: Intialisation of //Volumes/Orsay/circ_a01.1_foc1.9mm_400um_dens7.8_nzplambda50/data/fields074000.pdb **\n",
      "** Processing ** Fields: Intialisation of //Volumes/Orsay/circ_a01.1_foc1.9mm_400um_dens7.8_nzplambda50/data/fields075000.pdb **\n",
      "** Processing ** Fields: Intialisation of //Volumes/Orsay/circ_a01.1_foc1.9mm_400um_dens7.8_nzplambda50/data/fields076000.pdb **\n",
      "** Processing ** Fields: Intialisation of //Volumes/Orsay/circ_a01.1_foc1.9mm_400um_dens7.8_nzplambda50/data/fields077000.pdb **\n",
      "** Processing ** Fields: Intialisation of //Volumes/Orsay/circ_a01.1_foc1.9mm_400um_dens7.8_nzplambda50/data/fields078000.pdb **\n",
      "** Processing ** Fields: Intialisation of //Volumes/Orsay/circ_a01.1_foc1.9mm_400um_dens7.8_nzplambda50/data/fields079000.pdb **\n",
      "** Processing ** Fields: Intialisation of //Volumes/Orsay/circ_a01.1_foc1.9mm_400um_dens7.8_nzplambda50/data/fields080000.pdb **\n",
      "** Processing ** Fields: Intialisation of //Volumes/Orsay/circ_a01.1_foc1.9mm_400um_dens7.8_nzplambda50/data/fields081000.pdb **\n",
      "** Processing ** Fields: Intialisation of //Volumes/Orsay/circ_a01.1_foc1.9mm_400um_dens7.8_nzplambda50/data/fields082000.pdb **\n",
      "** Processing ** Fields: Intialisation of //Volumes/Orsay/circ_a01.1_foc1.9mm_400um_dens7.8_nzplambda50/data/fields083000.pdb **\n",
      "** Processing ** Fields: Intialisation of //Volumes/Orsay/circ_a01.1_foc1.9mm_400um_dens7.8_nzplambda50/data/fields084000.pdb **\n",
      "** Processing ** Fields: Intialisation of //Volumes/Orsay/circ_a01.1_foc1.9mm_400um_dens7.8_nzplambda50/data/fields085000.pdb **\n",
      "** Processing ** Fields: Intialisation of //Volumes/Orsay/circ_a01.1_foc1.9mm_400um_dens7.8_nzplambda50/data/fields086000.pdb **\n",
      "** Processing ** Fields: Intialisation of //Volumes/Orsay/circ_a01.1_foc1.9mm_400um_dens7.8_nzplambda50/data/fields087000.pdb **\n",
      "** Processing ** Fields: Intialisation of //Volumes/Orsay/circ_a01.1_foc1.9mm_400um_dens7.8_nzplambda50/data/fields088000.pdb **\n",
      "** Processing ** Fields: Intialisation of //Volumes/Orsay/circ_a01.1_foc1.9mm_400um_dens7.8_nzplambda50/data/fields089000.pdb **\n",
      "** Processing ** Fields: Intialisation of //Volumes/Orsay/circ_a01.1_foc1.9mm_400um_dens7.8_nzplambda50/data/fields090000.pdb **\n",
      "** Processing ** Fields: Intialisation of //Volumes/Orsay/circ_a01.1_foc1.9mm_400um_dens7.8_nzplambda50/data/fields091000.pdb **\n",
      "** Processing ** Fields: Intialisation of //Volumes/Orsay/circ_a01.1_foc1.9mm_400um_dens7.8_nzplambda50/data/fields092000.pdb **\n",
      "** Processing ** Fields: Intialisation of //Volumes/Orsay/circ_a01.1_foc1.9mm_400um_dens7.8_nzplambda50/data/fields093000.pdb **\n",
      "** Processing ** Fields: Intialisation of //Volumes/Orsay/circ_a01.1_foc1.9mm_400um_dens7.8_nzplambda50/data/fields094000.pdb **\n",
      "** Processing ** Fields: Intialisation of //Volumes/Orsay/circ_a01.1_foc1.9mm_400um_dens7.8_nzplambda50/data/fields095000.pdb **\n",
      "** Processing ** Fields: Intialisation of //Volumes/Orsay/circ_a01.1_foc1.9mm_400um_dens7.8_nzplambda50/data/fields096000.pdb **\n",
      "** Processing ** Fields: Intialisation of //Volumes/Orsay/circ_a01.1_foc1.9mm_400um_dens7.8_nzplambda50/data/fields097000.pdb **\n",
      "** Processing ** Fields: Intialisation of //Volumes/Orsay/circ_a01.1_foc1.9mm_400um_dens7.8_nzplambda50/data/fields098000.pdb **\n",
      "** Processing ** Fields: Intialisation of //Volumes/Orsay/circ_a01.1_foc1.9mm_400um_dens7.8_nzplambda50/data/fields099000.pdb **\n",
      "** Processing ** Fields: Intialisation of //Volumes/Orsay/circ_a01.1_foc1.9mm_400um_dens7.8_nzplambda50/data/fields100000.pdb **\n",
      "** Processing ** Fields: Intialisation of //Volumes/Orsay/circ_a01.1_foc1.9mm_400um_dens7.8_nzplambda50/data/fields101000.pdb **\n",
      "** Processing ** Fields: Intialisation of //Volumes/Orsay/circ_a01.1_foc1.9mm_400um_dens7.8_nzplambda50/data/fields102000.pdb **\n",
      "** Processing ** Fields: Intialisation of //Volumes/Orsay/circ_a01.1_foc1.9mm_400um_dens7.8_nzplambda50/data/fields103000.pdb **\n",
      "** Processing ** Fields: Intialisation of //Volumes/Orsay/circ_a01.1_foc1.9mm_400um_dens7.8_nzplambda50/data/fields104000.pdb **\n",
      "** Processing ** Fields: Intialisation of //Volumes/Orsay/circ_a01.1_foc1.9mm_400um_dens7.8_nzplambda50/data/fields105000.pdb **\n",
      "** Processing ** Fields: Intialisation of //Volumes/Orsay/circ_a01.1_foc1.9mm_400um_dens7.8_nzplambda50/data/fields106000.pdb **\n",
      "** Processing ** Fields: Intialisation of //Volumes/Orsay/circ_a01.1_foc1.9mm_400um_dens7.8_nzplambda50/data/fields107000.pdb **\n",
      "** Processing ** Fields: Intialisation of //Volumes/Orsay/circ_a01.1_foc1.9mm_400um_dens7.8_nzplambda50/data/fields108000.pdb **\n",
      "** Processing ** Fields: Intialisation of //Volumes/Orsay/circ_a01.1_foc1.9mm_400um_dens7.8_nzplambda50/data/fields109000.pdb **\n",
      "** Processing ** Fields: Intialisation of //Volumes/Orsay/circ_a01.1_foc1.9mm_400um_dens7.8_nzplambda50/data/fields110000.pdb **\n",
      "** Processing ** Fields: Intialisation of //Volumes/Orsay/circ_a01.1_foc1.9mm_400um_dens7.8_nzplambda50/data/fields111000.pdb **\n",
      "** Processing ** Fields: Intialisation of //Volumes/Orsay/circ_a01.1_foc1.9mm_400um_dens7.8_nzplambda50/data/fields112000.pdb **\n",
      "** Processing ** Fields: Intialisation of //Volumes/Orsay/circ_a01.1_foc1.9mm_400um_dens7.8_nzplambda50/data/fields113000.pdb **\n",
      "** Processing ** Fields: Intialisation of //Volumes/Orsay/circ_a01.1_foc1.9mm_400um_dens7.8_nzplambda50/data/fields114000.pdb **\n",
      "** Processing ** Fields: Intialisation of //Volumes/Orsay/circ_a01.1_foc1.9mm_400um_dens7.8_nzplambda50/data/fields115000.pdb **\n",
      "** Processing ** Fields: Intialisation of //Volumes/Orsay/circ_a01.1_foc1.9mm_400um_dens7.8_nzplambda50/data/fields116000.pdb **\n",
      "** Processing ** Fields: Intialisation of //Volumes/Orsay/circ_a01.1_foc1.9mm_400um_dens7.8_nzplambda50/data/fields117000.pdb **\n",
      "** Processing ** Fields: Intialisation of //Volumes/Orsay/circ_a01.1_foc1.9mm_400um_dens7.8_nzplambda50/data/fields118000.pdb **\n",
      "** Processing ** Fields: Intialisation of //Volumes/Orsay/circ_a01.1_foc1.9mm_400um_dens7.8_nzplambda50/data/fields119000.pdb **\n",
      "** Processing ** Fields: Intialisation of //Volumes/Orsay/circ_a01.1_foc1.9mm_400um_dens7.8_nzplambda50/data/fields120000.pdb **\n",
      "** Processing ** Fields: Intialisation of //Volumes/Orsay/circ_a01.1_foc1.9mm_400um_dens7.8_nzplambda50/data/fields121000.pdb **\n",
      "** Processing ** Fields: Intialisation of //Volumes/Orsay/circ_a01.1_foc1.9mm_400um_dens7.8_nzplambda50/data/fields122000.pdb **\n",
      "** Processing ** Fields: Intialisation of //Volumes/Orsay/circ_a01.1_foc1.9mm_400um_dens7.8_nzplambda50/data/fields123000.pdb **\n",
      "** Processing ** Fields: Intialisation of //Volumes/Orsay/circ_a01.1_foc1.9mm_400um_dens7.8_nzplambda50/data/fields124000.pdb **\n",
      "** Processing ** Fields: Intialisation of //Volumes/Orsay/circ_a01.1_foc1.9mm_400um_dens7.8_nzplambda50/data/fields125000.pdb **\n",
      "** Processing ** Fields: Intialisation of //Volumes/Orsay/circ_a01.1_foc1.9mm_400um_dens7.8_nzplambda50/data/fields126000.pdb **\n",
      "** Processing ** Fields: Intialisation of //Volumes/Orsay/circ_a01.1_foc1.9mm_400um_dens7.8_nzplambda50/data/fields127000.pdb **\n",
      "** Processing ** Fields: Intialisation of //Volumes/Orsay/circ_a01.1_foc1.9mm_400um_dens7.8_nzplambda50/data/fields128000.pdb **\n",
      "** Processing ** Fields: Intialisation of //Volumes/Orsay/circ_a01.1_foc1.9mm_400um_dens7.8_nzplambda50/data/fields129000.pdb **\n",
      "** Processing ** Fields: Intialisation of //Volumes/Orsay/circ_a01.1_foc1.9mm_400um_dens7.8_nzplambda50/data/fields130000.pdb **\n",
      "** Processing ** Fields: Intialisation of //Volumes/Orsay/circ_a01.1_foc1.9mm_400um_dens7.8_nzplambda50/data/fields131000.pdb **\n",
      "** Processing ** Fields: Intialisation of //Volumes/Orsay/circ_a01.1_foc1.9mm_400um_dens7.8_nzplambda50/data/fields132000.pdb **\n",
      "** Processing ** Fields: Intialisation of //Volumes/Orsay/circ_a01.1_foc1.9mm_400um_dens7.8_nzplambda50/data/fields133000.pdb **\n",
      "** Processing ** Fields: Intialisation of //Volumes/Orsay/circ_a01.1_foc1.9mm_400um_dens7.8_nzplambda50/data/fields134000.pdb **\n",
      "** Processing ** Fields: Intialisation of //Volumes/Orsay/circ_a01.1_foc1.9mm_400um_dens7.8_nzplambda50/data/fields135000.pdb **\n",
      "** Processing ** Fields: Intialisation of //Volumes/Orsay/circ_a01.1_foc1.9mm_400um_dens7.8_nzplambda50/data/fields136000.pdb **\n",
      "** Processing ** Fields: Intialisation of //Volumes/Orsay/circ_a01.1_foc1.9mm_400um_dens7.8_nzplambda50/data/fields137000.pdb **\n",
      "** Processing ** Fields: Intialisation of //Volumes/Orsay/circ_a01.1_foc1.9mm_400um_dens7.8_nzplambda50/data/fields138000.pdb **\n",
      "** Processing ** Fields: Intialisation of //Volumes/Orsay/circ_a01.1_foc1.9mm_400um_dens7.8_nzplambda50/data/fields139000.pdb **\n",
      "** Processing ** Fields: Intialisation of //Volumes/Orsay/circ_a01.1_foc1.9mm_400um_dens7.8_nzplambda50/data/fields140000.pdb **\n",
      "** Processing ** Fields: Intialisation of //Volumes/Orsay/circ_a01.1_foc1.9mm_400um_dens7.8_nzplambda50/data/fields141000.pdb **\n",
      "** Processing ** Fields: Intialisation of //Volumes/Orsay/circ_a01.1_foc1.9mm_400um_dens7.8_nzplambda50/data/fields142000.pdb **\n",
      "** Processing ** Fields: Intialisation of //Volumes/Orsay/circ_a01.1_foc1.9mm_400um_dens7.8_nzplambda50/data/fields143000.pdb **\n",
      "** Processing ** Fields: Intialisation of //Volumes/Orsay/circ_a01.1_foc1.9mm_400um_dens7.8_nzplambda50/data/fields144000.pdb **\n",
      "** Processing ** Fields: Intialisation of //Volumes/Orsay/circ_a01.1_foc1.9mm_400um_dens7.8_nzplambda50/data/fields145000.pdb **\n",
      "** Processing ** Fields: Intialisation of //Volumes/Orsay/circ_a01.1_foc1.9mm_400um_dens7.8_nzplambda50/data/fields146000.pdb **\n",
      "** Processing ** Fields: Intialisation of //Volumes/Orsay/circ_a01.1_foc1.9mm_400um_dens7.8_nzplambda50/data/fields147000.pdb **\n",
      "** Processing ** Fields: Intialisation of //Volumes/Orsay/circ_a01.1_foc1.9mm_400um_dens7.8_nzplambda50/data/fields148000.pdb **\n",
      "** Processing ** Fields: Intialisation of //Volumes/Orsay/circ_a01.1_foc1.9mm_400um_dens7.8_nzplambda50/data/fields149000.pdb **\n",
      "** Processing ** Fields: Intialisation of //Volumes/Orsay/circ_a01.1_foc1.9mm_400um_dens7.8_nzplambda50/data/fields150000.pdb **\n",
      "** Processing ** Fields: Intialisation of //Volumes/Orsay/circ_a01.1_foc1.9mm_400um_dens7.8_nzplambda50/data/fields151000.pdb **\n",
      "** Processing ** Fields: Intialisation of //Volumes/Orsay/circ_a01.1_foc1.9mm_400um_dens7.8_nzplambda50/data/fields152000.pdb **\n",
      "** Processing ** Fields: Intialisation of //Volumes/Orsay/circ_a01.1_foc1.9mm_400um_dens7.8_nzplambda50/data/fields153000.pdb **\n",
      "** Processing ** Fields: Intialisation of //Volumes/Orsay/circ_a01.1_foc1.9mm_400um_dens7.8_nzplambda50/data/fields154000.pdb **\n",
      "** Processing ** Fields: Intialisation of //Volumes/Orsay/circ_a01.1_foc1.9mm_400um_dens7.8_nzplambda50/data/fields155000.pdb **\n",
      "** Processing ** Fields: Intialisation of //Volumes/Orsay/circ_a01.1_foc1.9mm_400um_dens7.8_nzplambda50/data/fields156000.pdb **\n",
      "** Processing ** Fields: Intialisation of //Volumes/Orsay/circ_a01.1_foc1.9mm_400um_dens7.8_nzplambda50/data/fields157000.pdb **\n"
     ]
    },
    {
     "ename": "IOError",
     "evalue": "[Errno 2] No such file or directory: '//Volumes/Orsay/circ_a01.1_foc1.9mm_400um_dens7.8_nzplambda50/data/fields157000.pdb'",
     "output_type": "error",
     "traceback": [
      "\u001b[0;31m---------------------------------------------------------------------------\u001b[0m",
      "\u001b[0;31mIOError\u001b[0m                                   Traceback (most recent call last)",
      "\u001b[0;32m<ipython-input-23-45ee6afbf944>\u001b[0m in \u001b[0;36m<module>\u001b[0;34m()\u001b[0m\n\u001b[1;32m      3\u001b[0m \u001b[0;32mfor\u001b[0m \u001b[0mindex\u001b[0m \u001b[0;32min\u001b[0m \u001b[0mxrange\u001b[0m\u001b[0;34m(\u001b[0m\u001b[0mlen\u001b[0m\u001b[0;34m(\u001b[0m\u001b[0mval\u001b[0m\u001b[0;34m)\u001b[0m\u001b[0;34m)\u001b[0m\u001b[0;34m:\u001b[0m\u001b[0;34m\u001b[0m\u001b[0m\n\u001b[1;32m      4\u001b[0m     f = FieldInstant( field[index], np.pi/2, \n\u001b[0;32m----> 5\u001b[0;31m                  quantities= [\"E\", \"zfield\", \"densH\", \"densN5\", \"densN6\", \"densN7\"] )\n\u001b[0m\u001b[1;32m      6\u001b[0m     \u001b[0ma\u001b[0m\u001b[0;34m,\u001b[0m \u001b[0mz\u001b[0m \u001b[0;34m=\u001b[0m \u001b[0mf\u001b[0m\u001b[0;34m.\u001b[0m\u001b[0mlaser_a0\u001b[0m\u001b[0;34m(\u001b[0m\u001b[0mw0\u001b[0m\u001b[0;34m)\u001b[0m\u001b[0;34m\u001b[0m\u001b[0m\n\u001b[1;32m      7\u001b[0m     \u001b[0ma0\u001b[0m\u001b[0;34m.\u001b[0m\u001b[0mappend\u001b[0m\u001b[0;34m(\u001b[0m\u001b[0ma\u001b[0m\u001b[0;34m)\u001b[0m\u001b[0;34m\u001b[0m\u001b[0m\n",
      "\u001b[0;32m/Users/pmlee/Documents/LPA_PDB_diagnostics/lpa_pdb_diagnostics/fields.py\u001b[0m in \u001b[0;36m__init__\u001b[0;34m(self, filename, laser_pol, quantities)\u001b[0m\n\u001b[1;32m     29\u001b[0m \u001b[0;34m\u001b[0m\u001b[0m\n\u001b[1;32m     30\u001b[0m         \u001b[0mself\u001b[0m\u001b[0;34m.\u001b[0m\u001b[0mquantities\u001b[0m \u001b[0;34m=\u001b[0m \u001b[0mquantities\u001b[0m\u001b[0;34m\u001b[0m\u001b[0m\n\u001b[0;32m---> 31\u001b[0;31m         \u001b[0;32mwith\u001b[0m \u001b[0mopen\u001b[0m\u001b[0;34m(\u001b[0m \u001b[0mfilename\u001b[0m \u001b[0;34m)\u001b[0m \u001b[0;32mas\u001b[0m \u001b[0mpickle_file\u001b[0m\u001b[0;34m:\u001b[0m\u001b[0;34m\u001b[0m\u001b[0m\n\u001b[0m\u001b[1;32m     32\u001b[0m             \u001b[0mtmf\u001b[0m \u001b[0;34m=\u001b[0m \u001b[0mpickle\u001b[0m\u001b[0;34m.\u001b[0m\u001b[0mload\u001b[0m\u001b[0;34m(\u001b[0m \u001b[0mpickle_file\u001b[0m \u001b[0;34m)\u001b[0m\u001b[0;34m\u001b[0m\u001b[0m\n\u001b[1;32m     33\u001b[0m \u001b[0;34m\u001b[0m\u001b[0m\n",
      "\u001b[0;31mIOError\u001b[0m: [Errno 2] No such file or directory: '//Volumes/Orsay/circ_a01.1_foc1.9mm_400um_dens7.8_nzplambda50/data/fields157000.pdb'"
     ]
    }
   ],
   "source": [
    "a0 = []\n",
    "z_a0 = []\n",
    "for index in xrange(len(val)):\n",
    "    f = FieldInstant( field[index], np.pi/2, \n",
    "                 quantities= [\"E\", \"zfield\", \"densH\", \"densN5\", \"densN6\", \"densN7\"] )\n",
    "    a, z = f.laser_a0(w0)\n",
    "    a0.append(a)\n",
    "    z_a0.append(z)"
   ]
  },
  {
   "cell_type": "code",
   "execution_count": 28,
   "metadata": {
    "collapsed": false
   },
   "outputs": [
    {
     "data": {
      "text/plain": [
       "<matplotlib.text.Text at 0x1189d3550>"
      ]
     },
     "execution_count": 28,
     "metadata": {},
     "output_type": "execute_result"
    },
    {
     "data": {
      "image/png": "[encoded data removed]",
      "text/plain": [
       "<matplotlib.figure.Figure at 0x138715450>"
      ]
     },
     "metadata": {},
     "output_type": "display_data"
    }
   ],
   "source": [
    "f = plt.figure(dpi = 120)\n",
    "f.patch.set_facecolor('white')\n",
    "plt.plot(z_a0[1:], a0[1:])\n",
    "plt.xlim(min(z_a0), max(z_a0))\n",
    "plt.ylim(0, 1.1*max(a0))\n",
    "plt.xlabel(r\"$\\mathrm{z[\\mu m]}$\")\n",
    "plt.ylabel(r\"$\\mathrm{a_0}$\")"
   ]
  },
  {
   "cell_type": "code",
   "execution_count": null,
   "metadata": {
    "collapsed": true
   },
   "outputs": [],
   "source": [
    "for index in range( len(val)-20, len(val) ):\n",
    "    f = FieldInstant( field[index], np.pi/2, \n",
    "                 quantities= [\"E\", \"zfield\", \"densH\", \"densN5\", \"densN6\", \"densN7\"] )"
   ]
  }
 ],
 "metadata": {
  "kernelspec": {
   "display_name": "Python 2",
   "language": "python",
   "name": "python2"
  },
  "language_info": {
   "codemirror_mode": {
    "name": "ipython",
    "version": 2
   },
   "file_extension": ".py",
   "mimetype": "text/x-python",
   "name": "python",
   "nbconvert_exporter": "python",
   "pygments_lexer": "ipython2",
   "version": "2.7.12"
  }
 },
 "nbformat": 4,
 "nbformat_minor": 0
}
