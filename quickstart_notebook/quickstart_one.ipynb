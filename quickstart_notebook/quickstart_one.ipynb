{
 "cells": [
  {
   "cell_type": "markdown",
   "metadata": {},
   "source": [
    "###This notebook contains some usual analysis for LPA\n",
    "It only works for output format in pdb."
   ]
  },
  {
   "cell_type": "code",
   "execution_count": null,
   "metadata": {
    "collapsed": false
   },
   "outputs": [],
   "source": [
    "import numpy as np\n",
    "import pylab as plt\n",
    "from lpa_pdb_diagnostics import *\n",
    "from scipy.constants import e, c, m_e, epsilon_0\n",
    "import os\n",
    "import matplotlib\n",
    "%matplotlib inline"
   ]
  },
  {
   "cell_type": "markdown",
   "metadata": {},
   "source": [
    "Setting the directory path where the data are located:"
   ]
  },
  {
   "cell_type": "code",
   "execution_count": null,
   "metadata": {
    "collapsed": true
   },
   "outputs": [],
   "source": [
    "#dir_path = \"//Volumes/Orsay/warp_200MeV_plateau_1600_13dec/data/\"\n",
    "dir_path = os.getcwd() + \"/data\""
   ]
  },
  {
   "cell_type": "markdown",
   "metadata": {},
   "source": [
    "Setting the path for the results:"
   ]
  },
  {
   "cell_type": "code",
   "execution_count": null,
   "metadata": {
    "collapsed": false
   },
   "outputs": [],
   "source": [
    "res_path = config.result_path"
   ]
  },
  {
   "cell_type": "markdown",
   "metadata": {},
   "source": [
    "#Laser - Plasma Parameters\n",
    "Here we define some of the laser plasma parameters."
   ]
  },
  {
   "cell_type": "code",
   "execution_count": null,
   "metadata": {
    "collapsed": false
   },
   "outputs": [],
   "source": [
    "# Some definitions of the laser plasma parameters\n",
    "lambda0 = 0.8e-6\n",
    "w0 = 2*np.pi*c/lambda0\n",
    "laser_waist = 17e-6\n",
    "plasma_dens = 2e24\n",
    "plasma_length = 2.4e-3\n",
    "wp = np.sqrt(plasma_dens * e**2/ (epsilon_0 * m_e))\n",
    "lambda_plasma = 2*np.pi*c/wp"
   ]
  },
  {
   "cell_type": "markdown",
   "metadata": {},
   "source": [
    "#Numerical Parameters\n",
    "Here we define the necessary numerical parameters for the analysis"
   ]
  },
  {
   "cell_type": "code",
   "execution_count": null,
   "metadata": {
    "collapsed": true
   },
   "outputs": [],
   "source": [
    "zmax = 2*lambda0\n",
    "zmin = zmax - 6*lambda_plasma\n",
    "nzplambda = 20\n",
    "w_size = zmax - zmin\n",
    "Nz = int(w_size*nzplambda/lambda0)\n",
    "dz = w_size/Nz"
   ]
  },
  {
   "cell_type": "markdown",
   "metadata": {},
   "source": [
    "#Generate values for file reading"
   ]
  },
  {
   "cell_type": "code",
   "execution_count": null,
   "metadata": {
    "collapsed": false
   },
   "outputs": [],
   "source": [
    "inf = 0\n",
    "sup = 0\n",
    "period_int = 1000\n",
    "period_ext = 1000\n",
    "val = values( inf, sup, period_int, period_ext, plasma_length/dz )\n",
    "longitudinal_position = val*dz"
   ]
  },
  {
   "cell_type": "markdown",
   "metadata": {},
   "source": [
    "We create an array of file names that we analyze."
   ]
  },
  {
   "cell_type": "code",
   "execution_count": null,
   "metadata": {
    "collapsed": false
   },
   "outputs": [],
   "source": [
    "field = np.empty(len(val),dtype=\"S100\")\n",
    "N5 = np.empty(len(val),dtype=\"S100\")\n",
    "N6 = np.empty(len(val),dtype=\"S100\")\n",
    "N7 = np.empty(len(val),dtype=\"S100\")\n",
    "H = np.empty(len(val),dtype=\"S100\")\n",
    "\n",
    "# Initialize file names\n",
    "for i, v in enumerate(val):\n",
    "    field[i] = dir_path + \"fields%06d.pdb\" %v\n",
    "    N5[i] = dir_path + \"N5%06d.pdb\" %v\n",
    "    N6[i] = dir_path + \"N6%06d.pdb\" %v\n",
    "    N7[i] = dir_path + \"N7%06d.pdb\" %v\n",
    "    H[i] = dir_path + \"H%06d.pdb\" %v"
   ]
  },
  {
   "cell_type": "markdown",
   "metadata": {},
   "source": [
    "#Reading files"
   ]
  },
  {
   "cell_type": "markdown",
   "metadata": {},
   "source": [
    "We can either read a single file, or we can read a number of files using a loop."
   ]
  },
  {
   "cell_type": "markdown",
   "metadata": {},
   "source": [
    "##Single file reading"
   ]
  },
  {
   "cell_type": "markdown",
   "metadata": {
    "collapsed": false
   },
   "source": [
    "Example Case: Evaluation of laser c$\\tau$ at one given instant\n",
    "The instant that I would like to investigate is at $1.5mm$."
   ]
  },
  {
   "cell_type": "code",
   "execution_count": null,
   "metadata": {
    "collapsed": false
   },
   "outputs": [],
   "source": [
    "it_instant = int(0.2e-3/dz/period_int) #round off to the nearest 1000\n",
    "f = FieldInstant(field[it_instant], np.pi/2, \n",
    "                 quantities= [\"E\", \"zfield\"])"
   ]
  },
  {
   "cell_type": "markdown",
   "metadata": {},
   "source": [
    "####Zero crossing analysis\n",
    "Returns the bucket positions, can be used in particle selection."
   ]
  },
  {
   "cell_type": "code",
   "execution_count": null,
   "metadata": {
    "collapsed": false
   },
   "outputs": [],
   "source": [
    "buckets = f.wakefield_zero_crossing()"
   ]
  },
  {
   "cell_type": "markdown",
   "metadata": {},
   "source": [
    "###Fields analysis"
   ]
  },
  {
   "cell_type": "markdown",
   "metadata": {},
   "source": [
    "####2D laser field\n",
    "A 2D field laser plot using matplotlib"
   ]
  },
  {
   "cell_type": "code",
   "execution_count": null,
   "metadata": {
    "collapsed": false
   },
   "outputs": [],
   "source": [
    "fig, axarr = plt.subplots(dpi = 150)\n",
    "fig.patch.set_facecolor('white')\n",
    "plt.imshow(f.laser_field, aspect = 'auto', extent = f.extent )\n",
    "plt.xlabel(r\"$z\\,(m)$\")\n",
    "plt.ylabel(r\"$x\\,(m)$\")"
   ]
  },
  {
   "cell_type": "markdown",
   "metadata": {},
   "source": [
    "####1D laser field"
   ]
  },
  {
   "cell_type": "code",
   "execution_count": null,
   "metadata": {
    "collapsed": false
   },
   "outputs": [],
   "source": [
    "fig, axarr = plt.subplots(dpi = 150)\n",
    "fig.patch.set_facecolor('white')\n",
    "axarr.plot( np.array(f.zfield)*1e6, np.array(f.laser_field[int(f.shape[0]/2),:])*1e-12 )\n",
    "axarr.set_xlabel(r\"$\\mathrm{z[\\mu m]}$\")\n",
    "axarr.set_ylabel(r\"$\\mathrm{Ez[TV/m]}$\")\n",
    "axarr.set_xlim( min(np.array(f.zfield)*1e6), max(np.array(f.zfield)*1e6))"
   ]
  },
  {
   "cell_type": "markdown",
   "metadata": {},
   "source": [
    "####Laser c$\\tau$"
   ]
  },
  {
   "cell_type": "code",
   "execution_count": null,
   "metadata": {
    "collapsed": false
   },
   "outputs": [],
   "source": [
    "f.laser_ctau()"
   ]
  },
  {
   "cell_type": "markdown",
   "metadata": {},
   "source": [
    "####Laser envelop"
   ]
  },
  {
   "cell_type": "code",
   "execution_count": null,
   "metadata": {
    "collapsed": false
   },
   "outputs": [],
   "source": [
    "z, env = f.laser_envelop()\n",
    "#Plotting\n",
    "fig, axarr = plt.subplots(dpi = 150)\n",
    "fig.patch.set_facecolor('white')\n",
    "axarr.plot( np.array(z)*1e6, np.array(env)*1e-12 )\n",
    "axarr.set_xlabel(r\"$\\mathrm{z[\\mu m]}$\")\n",
    "axarr.set_ylabel(r\"$\\mathrm{Ez[TV/m]}$\")\n",
    "#axarr.set_xlim( min(np.array(z)*1e6), max(np.array(z)*1e6))"
   ]
  },
  {
   "cell_type": "markdown",
   "metadata": {},
   "source": [
    "####2D wakefield"
   ]
  },
  {
   "cell_type": "code",
   "execution_count": null,
   "metadata": {
    "collapsed": false
   },
   "outputs": [],
   "source": [
    "fig.patch.set_facecolor('white')\n",
    "plt.imshow(f.ez, aspect = 'auto', extent = f.extent )\n",
    "plt.xlabel(r\"$z\\,(m)$\")\n",
    "plt.ylabel(r\"$x\\,(m)$\")"
   ]
  },
  {
   "cell_type": "markdown",
   "metadata": {},
   "source": [
    "####2D transverse field"
   ]
  },
  {
   "cell_type": "code",
   "execution_count": null,
   "metadata": {
    "collapsed": false
   },
   "outputs": [],
   "source": [
    "fig.patch.set_facecolor('white')\n",
    "plt.imshow(f.ex, aspect = 'auto', extent = f.extent )\n",
    "plt.xlabel(r\"$z\\,(m)$\")\n",
    "plt.ylabel(r\"$x\\,(m)$\")"
   ]
  },
  {
   "cell_type": "markdown",
   "metadata": {},
   "source": [
    "####Superposition of 1D wakefield and transverse field"
   ]
  },
  {
   "cell_type": "code",
   "execution_count": null,
   "metadata": {
    "collapsed": false
   },
   "outputs": [],
   "source": [
    "fig, axarr = plt.subplots(dpi = 150)\n",
    "fig.patch.set_facecolor('white')\n",
    "axarr.plot( np.array(f.zfield)*1e6, np.array(f.ex[int(f.shape[0]/2)-9,:])*1e-12 )\n",
    "axarr.plot( np.array(f.zfield)*1e6, np.array(f.ez[int(f.shape[0]/2),:])*1e-12 )\n",
    "axarr.set_xlabel(r\"$\\mathrm{z[\\mu m]}$\")\n",
    "axarr.set_ylabel(r\"$\\mathrm{E_z[TV/m]}$\")\n",
    "axarr.set_xlim( min(np.array(f.zfield)*1e6), max(np.array(f.zfield)*1e6))"
   ]
  },
  {
   "cell_type": "markdown",
   "metadata": {},
   "source": [
    "###Particle analysis"
   ]
  },
  {
   "cell_type": "markdown",
   "metadata": {},
   "source": [
    "####Beam spectrum\n",
    "Instantiate partilcle objects"
   ]
  },
  {
   "cell_type": "code",
   "execution_count": null,
   "metadata": {
    "collapsed": false
   },
   "outputs": [],
   "source": [
    "HH = ParticleInstant(H[it_instant], quantities = [\"PID\", \"Weight\", \"Position\", \"Momentum\"])\n",
    "N66 = ParticleInstant(N6[it_instant])\n",
    "N77 = ParticleInstant(N7[it_instant])\n",
    "qdict = HH.get_qdict() ###qdict is normally the same for all particle quantities"
   ]
  },
  {
   "cell_type": "markdown",
   "metadata": {},
   "source": [
    "We choose particles here, two parameters of choice are offered: gamma_threshold and region of interest."
   ]
  },
  {
   "cell_type": "code",
   "execution_count": null,
   "metadata": {
    "collapsed": false
   },
   "outputs": [],
   "source": [
    "# we choose particles which have a gamma threshold between 40 to 400 \n",
    "#and situated in the first accelerating bucket \n",
    "cPH = HH.select( gamma_threshold = [40,400])\n",
    "cPN6 = N66.select( gamma_threshold = [40,400])\n",
    "cPN7 = N77.select( gamma_threshold = [40,400])"
   ]
  },
  {
   "cell_type": "markdown",
   "metadata": {},
   "source": [
    "Group all the particles before doing beam spectrum analysis. There are two ways to group particles and they are manifested using \"keep_object_name\" variable. If it's true, the information on the origin of these particles, ie the species of the particles is kept; otherwise, all the species' particle quantities will be merged."
   ]
  },
  {
   "cell_type": "code",
   "execution_count": null,
   "metadata": {
    "collapsed": false
   },
   "outputs": [],
   "source": [
    "ck_all_particles = quant_concatenate([cPN6,cPN7], keep_object_name= True) #keeping the information on the species\n",
    "c_all_particles = quant_concatenate([cPN6,cPN7])"
   ]
  },
  {
   "cell_type": "code",
   "execution_count": null,
   "metadata": {
    "collapsed": false,
    "scrolled": true
   },
   "outputs": [],
   "source": [
    "energy, dQdE = beam_spectrum(val[it_instant], \n",
    "                             ck_all_particles[qdict[\"gamma\"]], \n",
    "                             ck_all_particles[qdict[\"w\"]], lwrite=True,\n",
    "                             leg=[\"N6\",\"N7\",\"Sum\"])"
   ]
  },
  {
   "cell_type": "markdown",
   "metadata": {},
   "source": [
    "####Beam peak evaluation and beam energy spread\n",
    "We use the total energy spectrum to evaluate these properties."
   ]
  },
  {
   "cell_type": "code",
   "execution_count": null,
   "metadata": {
    "collapsed": false
   },
   "outputs": [],
   "source": [
    "#index -1: the sum of all species\n",
    "try:\n",
    "    t_energy = energy[-1]\n",
    "    t_dQdE = dQdE[-1]\n",
    "    Ipeak, Epeak, Cpeak = beam_peak( t_energy, t_dQdE)\n",
    "    print \"Peaks are situated at:\"\n",
    "    print \"Index : %d\" %Ipeak[-1]\n",
    "    print \"Energy: %f\" %Epeak[-1]\n",
    "    print \"Charge: %f\" %Cpeak[-1]\n",
    "    peak = (Ipeak[-1], Epeak[-1], Cpeak[-1])\n",
    "    deltaE , deltaEE = beam_energy_spread( t_energy, t_dQdE, peak = peak)\n",
    "    print \"Delta E: %f MeV, Delta E/E: %f\" %(deltaE, deltaEE)\n",
    "except IndexError:\n",
    "    print \"The spectrum is invalid\""
   ]
  },
  {
   "cell_type": "markdown",
   "metadata": {},
   "source": [
    "####Beam emittance"
   ]
  },
  {
   "cell_type": "markdown",
   "metadata": {},
   "source": [
    "In transverse directions"
   ]
  },
  {
   "cell_type": "code",
   "execution_count": null,
   "metadata": {
    "collapsed": false
   },
   "outputs": [],
   "source": [
    "emitx = beam_emittance( val[it_instant],  c_all_particles, qdict, \"x\", \n",
    "                       histogram= True, lplot=True, lsavefig=True, lwrite=True ) \n",
    "emity = beam_emittance( val[it_instant],  c_all_particles, qdict, \"y\", \n",
    "                       histogram= True, lplot=True, lsavefig=True, lwrite=True )\n",
    "print \"Emittance in x-direction: \", emitx\n",
    "print \"Emittance in y-direction: \", emity"
   ]
  },
  {
   "cell_type": "markdown",
   "metadata": {},
   "source": [
    "Emittance with respect to gamma"
   ]
  },
  {
   "cell_type": "code",
   "execution_count": null,
   "metadata": {
    "collapsed": false
   },
   "outputs": [],
   "source": [
    "gamma, emittance = sorted_by_gamma_beam_emittance ( val[it_instant], c_all_particles, qdict, \"x\", lwrite = True,\n",
    "                                                    lplot = True, lsavefig = True)"
   ]
  },
  {
   "cell_type": "markdown",
   "metadata": {},
   "source": [
    "###Beam total charge"
   ]
  },
  {
   "cell_type": "code",
   "execution_count": null,
   "metadata": {
    "collapsed": false
   },
   "outputs": [],
   "source": [
    "charge = beam_charge(c_all_particles[qdict[\"w\"]])\n",
    "print \"Charge: %f pC\" %(charge*1e12) "
   ]
  },
  {
   "cell_type": "markdown",
   "metadata": {},
   "source": [
    "####Phase space plot with fields"
   ]
  },
  {
   "cell_type": "code",
   "execution_count": null,
   "metadata": {
    "collapsed": false
   },
   "outputs": [],
   "source": [
    "N_laser = f.normalizedField( w0, \"laser\")\n",
    "N_wake = f.normalizedField( wp, \"wake\")\n",
    "\n",
    "bigPicture( val[it_instant], c_all_particles[qdict[\"z\"]], c_all_particles[qdict[\"gamma\"]],\n",
    "           c_all_particles[qdict[\"w\"]], f.zfield, N_wake, N_laser, lwrite= True )"
   ]
  }
 ],
 "metadata": {
  "kernelspec": {
   "display_name": "Python 2",
   "language": "python",
   "name": "python2"
  },
  "language_info": {
   "codemirror_mode": {
    "name": "ipython",
    "version": 2
   },
   "file_extension": ".py",
   "mimetype": "text/x-python",
   "name": "python",
   "nbconvert_exporter": "python",
   "pygments_lexer": "ipython2",
   "version": "2.7.12"
  }
 },
 "nbformat": 4,
 "nbformat_minor": 0
}
