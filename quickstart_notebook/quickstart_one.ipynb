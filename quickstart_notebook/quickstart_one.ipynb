{
 "cells": [
  {
   "cell_type": "markdown",
   "metadata": {},
   "source": [
    "###This notebook contains some usual analysis for LPA\n",
    "It only works for output format in pdb."
   ]
  },
  {
   "cell_type": "code",
   "execution_count": null,
   "metadata": {
    "collapsed": false
   },
   "outputs": [],
   "source": [
    "import numpy as np\n",
    "import pylab as plt\n",
    "from lpa_pdb_diagnostics import *\n",
    "from scipy.constants import e, c, m_e, epsilon_0\n",
    "import os\n",
    "import matplotlib\n",
    "from IPython.display import clear_output\n",
    "\n",
    "%matplotlib inline"
   ]
  },
  {
   "cell_type": "markdown",
   "metadata": {},
   "source": [
    "Setting the directory path where the data are located:"
   ]
  },
  {
   "cell_type": "code",
   "execution_count": null,
   "metadata": {
    "collapsed": true
   },
   "outputs": [],
   "source": [
    "dir_path = os.getcwd() +\"/data/\""
   ]
  },
  {
   "cell_type": "markdown",
   "metadata": {},
   "source": [
    "Setting the path for the results:"
   ]
  },
  {
   "cell_type": "code",
   "execution_count": null,
   "metadata": {
    "collapsed": false
   },
   "outputs": [],
   "source": [
    "res_path = config.result_path"
   ]
  },
  {
   "cell_type": "markdown",
   "metadata": {},
   "source": [
    "#Laser - Plasma Parameters\n",
    "Here we define some of the laser plasma parameters."
   ]
  },
  {
   "cell_type": "code",
   "execution_count": null,
   "metadata": {
    "collapsed": false
   },
   "outputs": [],
   "source": [
    "# Some definitions of the laser plasma parameters\n",
    "lambda0 = 0.8e-6\n",
    "w0 = 2*np.pi*c/lambda0\n",
    "laser_waist = 20e-6\n",
    "plasma_dens = 4.147e24\n",
    "plasma_length = 4.e-3\n",
    "wp = np.sqrt(plasma_dens * e**2/ (epsilon_0 * m_e))\n",
    "lambda_plasma = 2*np.pi*c/wp\n",
    "circ_m = 1"
   ]
  },
  {
   "cell_type": "markdown",
   "metadata": {},
   "source": [
    "#Numerical Parameters\n",
    "Here we define the necessary numerical parameters for the analysis"
   ]
  },
  {
   "cell_type": "code",
   "execution_count": null,
   "metadata": {
    "collapsed": true
   },
   "outputs": [],
   "source": [
    "#longitudinal direction \n",
    "zmax = 2*lambda0\n",
    "zmin = zmax - 3.3*lambda_plasma\n",
    "nzplambda = 40\n",
    "w_size = zmax - zmin\n",
    "Nz = int(w_size*nzplambda/lambda0)\n",
    "dz = w_size/Nz\n",
    "\n",
    "#transverse direction\n",
    "xmax = 120e-6\n",
    "xmin = 0 # for cylindrical coordinates\n",
    "nxplambda = 3\n",
    "Nx = int((xmax - xmin)*nxplambda/lambda0)\n",
    "dx = (xmax - xmin)/Nx\n",
    "\n",
    "#time (valid only for circ simulation)\n",
    "circ_coeffs = [ 0.2105, 1.0, 3.5234, 8.5104, 15.5059, 24.5037 ]\n",
    "\n",
    "if circ_m < len(circ_coeffs):\n",
    "    circ_alpha = circ_coeffs[circ_m]\n",
    "else:\n",
    "    circ_alpha = circ_m**2 - 0.4\n",
    "\n",
    "cdt = 1./np.sqrt((1 + circ_alpha)/dx**2 + 1./dz**2)"
   ]
  },
  {
   "cell_type": "markdown",
   "metadata": {},
   "source": [
    "#Generate values for file reading"
   ]
  },
  {
   "cell_type": "code",
   "execution_count": null,
   "metadata": {
    "collapsed": false
   },
   "outputs": [],
   "source": [
    "inf = 0\n",
    "sup = 0\n",
    "period_int = 3000\n",
    "period_ext = 3000\n",
    "val = values( inf, sup, period_int, period_ext, plasma_length/(cdt) )\n",
    "longitudinal_position = np.array(val)*cdt"
   ]
  },
  {
   "cell_type": "markdown",
   "metadata": {},
   "source": [
    "We create an array of file names that we analyze."
   ]
  },
  {
   "cell_type": "code",
   "execution_count": null,
   "metadata": {
    "collapsed": false
   },
   "outputs": [],
   "source": [
    "field = np.empty(len(val),dtype=\"S100\")\n",
    "N5 = np.empty(len(val),dtype=\"S100\")\n",
    "N6 = np.empty(len(val),dtype=\"S100\")\n",
    "N7 = np.empty(len(val),dtype=\"S100\")\n",
    "H = np.empty(len(val),dtype=\"S100\")\n",
    "\n",
    "# Initialize file names\n",
    "for i, v in enumerate(val):\n",
    "    field[i] = dir_path + \"fields%06d.pdb\" %v\n",
    "    N5[i] = dir_path + \"N5%06d.pdb\" %v\n",
    "    N6[i] = dir_path + \"N6%06d.pdb\" %v\n",
    "    N7[i] = dir_path + \"N7%06d.pdb\" %v\n",
    "    H[i] = dir_path + \"H%06d.pdb\" %v"
   ]
  },
  {
   "cell_type": "markdown",
   "metadata": {},
   "source": [
    "#Reading files"
   ]
  },
  {
   "cell_type": "markdown",
   "metadata": {},
   "source": [
    "We can either read a single file, or we can read a number of files using a loop."
   ]
  },
  {
   "cell_type": "markdown",
   "metadata": {},
   "source": [
    "##Single file reading"
   ]
  },
  {
   "cell_type": "markdown",
   "metadata": {
    "collapsed": false
   },
   "source": [
    "Example Case: Evaluation of laser c$\\tau$ at one given instant\n",
    "The instant that I would like to investigate is at $1.5mm$."
   ]
  },
  {
   "cell_type": "code",
   "execution_count": null,
   "metadata": {
    "collapsed": false
   },
   "outputs": [],
   "source": [
    "it_instant = int(3.5e-3/cdt/period_int) #round off to the nearest 1000\n",
    "f = FieldInstant(field[it_instant], np.pi/2, quantities= [\"E\", \"zfield\"])"
   ]
  },
  {
   "cell_type": "markdown",
   "metadata": {},
   "source": [
    "####Zero crossing analysis\n",
    "Returns the bucket positions, can be used in particle selection."
   ]
  },
  {
   "cell_type": "code",
   "execution_count": null,
   "metadata": {
    "collapsed": false
   },
   "outputs": [],
   "source": [
    "buckets = f.wakefield_zero_crossing()"
   ]
  },
  {
   "cell_type": "markdown",
   "metadata": {},
   "source": [
    "###Fields analysis"
   ]
  },
  {
   "cell_type": "markdown",
   "metadata": {},
   "source": [
    "####2D laser field\n",
    "A 2D field laser plot using matplotlib"
   ]
  },
  {
   "cell_type": "code",
   "execution_count": null,
   "metadata": {
    "collapsed": false
   },
   "outputs": [],
   "source": [
    "fig, axarr = plt.subplots(dpi = 150)\n",
    "fig.patch.set_facecolor('white')\n",
    "plt.imshow(f.laser_field, aspect = 'auto', extent = f.extent )\n",
    "plt.xlabel(r\"$z\\,(m)$\")\n",
    "plt.ylabel(r\"$x\\,(m)$\")"
   ]
  },
  {
   "cell_type": "markdown",
   "metadata": {},
   "source": [
    "####1D laser field"
   ]
  },
  {
   "cell_type": "code",
   "execution_count": null,
   "metadata": {
    "collapsed": false
   },
   "outputs": [],
   "source": [
    "fig, axarr = plt.subplots(dpi = 150)\n",
    "fig.patch.set_facecolor('white')\n",
    "axarr.plot( np.array(f.zfield)*1e6, np.array(f.laser_field[int(f.shape[0]/2),:])*1e-12 )\n",
    "axarr.set_xlabel(r\"$\\mathrm{z[\\mu m]}$\")\n",
    "axarr.set_ylabel(r\"$\\mathrm{Ez[TV/m]}$\")\n",
    "axarr.set_xlim( min(np.array(f.zfield)*1e6), max(np.array(f.zfield)*1e6))"
   ]
  },
  {
   "cell_type": "markdown",
   "metadata": {},
   "source": [
    "####Laser c$\\tau$"
   ]
  },
  {
   "cell_type": "code",
   "execution_count": null,
   "metadata": {
    "collapsed": false
   },
   "outputs": [],
   "source": [
    "f.laser_ctau()"
   ]
  },
  {
   "cell_type": "markdown",
   "metadata": {},
   "source": [
    "####Laser envelop"
   ]
  },
  {
   "cell_type": "code",
   "execution_count": null,
   "metadata": {
    "collapsed": false
   },
   "outputs": [],
   "source": [
    "z, env = f.laser_envelop()\n",
    "#Plotting\n",
    "fig, axarr = plt.subplots(dpi = 150)\n",
    "fig.patch.set_facecolor('white')\n",
    "axarr.plot( np.array(z)*1e6, np.array(env)*1e-12 )\n",
    "axarr.set_xlabel(r\"$\\mathrm{z[\\mu m]}$\")\n",
    "axarr.set_ylabel(r\"$\\mathrm{Ez[TV/m]}$\")\n",
    "#axarr.set_xlim( min(np.array(z)*1e6), max(np.array(z)*1e6))"
   ]
  },
  {
   "cell_type": "markdown",
   "metadata": {},
   "source": [
    "####2D wakefield"
   ]
  },
  {
   "cell_type": "code",
   "execution_count": null,
   "metadata": {
    "collapsed": false
   },
   "outputs": [],
   "source": [
    "fig.patch.set_facecolor('white')\n",
    "plt.imshow(f.ez, aspect = 'auto', extent = f.extent )\n",
    "plt.xlabel(r\"$z\\,(m)$\")\n",
    "plt.ylabel(r\"$x\\,(m)$\")"
   ]
  },
  {
   "cell_type": "markdown",
   "metadata": {},
   "source": [
    "####2D transverse field"
   ]
  },
  {
   "cell_type": "code",
   "execution_count": null,
   "metadata": {
    "collapsed": false
   },
   "outputs": [],
   "source": [
    "fig.patch.set_facecolor('white')\n",
    "plt.imshow(f.ex, aspect = 'auto', extent = f.extent )\n",
    "plt.xlabel(r\"$z\\,(m)$\")\n",
    "plt.ylabel(r\"$x\\,(m)$\")"
   ]
  },
  {
   "cell_type": "markdown",
   "metadata": {},
   "source": [
    "####Superposition of 1D wakefield and transverse field"
   ]
  },
  {
   "cell_type": "code",
   "execution_count": null,
   "metadata": {
    "collapsed": false
   },
   "outputs": [],
   "source": [
    "fig, axarr = plt.subplots(dpi = 150)\n",
    "fig.patch.set_facecolor('white')\n",
    "axarr.plot( np.array(f.zfield)*1e6, np.array(f.ex[int(f.shape[0]/2)-9,:])*1e-12 )\n",
    "axarr.plot( np.array(f.zfield)*1e6, np.array(f.ez[int(f.shape[0]/2),:])*1e-12 )\n",
    "axarr.set_xlabel(r\"$\\mathrm{z[\\mu m]}$\")\n",
    "axarr.set_ylabel(r\"$\\mathrm{E_z[TV/m]}$\")\n",
    "axarr.set_xlim( min(np.array(f.zfield)*1e6), max(np.array(f.zfield)*1e6))"
   ]
  },
  {
   "cell_type": "markdown",
   "metadata": {},
   "source": [
    "###Particle analysis"
   ]
  },
  {
   "cell_type": "markdown",
   "metadata": {},
   "source": [
    "####Beam spectrum\n",
    "Instantiate partilcle objects"
   ]
  },
  {
   "cell_type": "code",
   "execution_count": null,
   "metadata": {
    "collapsed": false
   },
   "outputs": [],
   "source": [
    "HH = ParticleInstant(H[it_instant], quantities = [\"Weight\", \"Position\", \"Momentum\"])\n",
    "N66 = ParticleInstant(N6[it_instant], quantities = [\"Weight\", \"Position\", \"Momentum\"])\n",
    "N77 = ParticleInstant(N7[it_instant], quantities = [\"Weight\", \"Position\", \"Momentum\"])\n",
    "qdict = HH.get_qdict() ###qdict is normally the same for all particle quantities"
   ]
  },
  {
   "cell_type": "markdown",
   "metadata": {},
   "source": [
    "We choose particles here, two parameters of choice are offered: gamma_threshold and region of interest."
   ]
  },
  {
   "cell_type": "code",
   "execution_count": null,
   "metadata": {
    "collapsed": false
   },
   "outputs": [],
   "source": [
    "# we choose particles which have a gamma threshold between 250 and 800\n",
    "# optionally, we can also choose particles using ROI argument in the select method. Example: ROI=bucket[0], will choose\n",
    "# the first accelerating bucket.\n",
    "gamma_inf = 250\n",
    "gamma_sup = 800\n",
    "cPH = HH.select( gamma_threshold = [gamma_inf, gamma_sup])#, ROI = [buckets[1][1]] )\n",
    "cPN6 = N66.select( gamma_threshold = [gamma_inf, gamma_sup])#, ROI = [buckets[1][1]] )\n",
    "cPN7 = N77.select( gamma_threshold = [gamma_inf, gamma_sup])#, ROI = [buckets[1][1]] )\n",
    "\n",
    "ck_all_particles = quant_concatenate([cPN6,cPN7], keep_object_name= True) \n",
    "#keeping the information on the species\n",
    "c_all_particles = quant_concatenate([cPN6,cPN7])"
   ]
  },
  {
   "cell_type": "markdown",
   "metadata": {},
   "source": [
    "####Beam peak evaluation and beam energy spread\n",
    "We use the total energy spectrum to evaluate these properties. We can also indicate to only focus on the particles in the peak by re-filtering using ROI_by_peak"
   ]
  },
  {
   "cell_type": "code",
   "execution_count": null,
   "metadata": {
    "collapsed": false,
    "scrolled": false
   },
   "outputs": [],
   "source": [
    "energy, dQdE = beam_spectrum(val[it_instant], \n",
    "                             ck_all_particles[qdict[\"gamma\"]], \n",
    "                             ck_all_particles[qdict[\"w\"]], lwrite=True,\n",
    "                             leg=[\"N6\",\"N7\",\"Sum\"])"
   ]
  },
  {
   "cell_type": "code",
   "execution_count": null,
   "metadata": {
    "collapsed": false
   },
   "outputs": [],
   "source": [
    "if energy is not None:\n",
    "    t_energy = energy[-1]\n",
    "    t_dQdE = dQdE[-1]\n",
    "    Ipeak, Epeak, Cpeak, ROI_by_peak = beam_peak( t_energy, t_dQdE, peak_width = 20.0,\n",
    "                   plot_peak_search = True, plot_ROI_search = True)\n",
    "\n",
    "    if Ipeak is not None:\n",
    "        print \"Peaks are situated at:\"\n",
    "        print \"Index : %d\" %Ipeak[-1]\n",
    "        print \"Energy: %f MeV\" %Epeak[-1]\n",
    "        print \"Charge: %f pC/MeV\" %(Cpeak[-1]*1e12)\n",
    "        peak = (Ipeak[-1], Epeak[-1], Cpeak[-1])\n",
    "        deltaE , deltaEE = beam_energy_spread( t_energy, t_dQdE, peak = peak)\n",
    "    else:\n",
    "        deltaE , deltaEE = beam_energy_spread( t_energy, t_dQdE )\n",
    "\n",
    "    print \"Delta E: %f MeV, Delta E/E: %f\" %(deltaE, deltaEE)"
   ]
  },
  {
   "cell_type": "code",
   "execution_count": null,
   "metadata": {
    "collapsed": true
   },
   "outputs": [],
   "source": [
    "# If want to focus only on particles in the peak, run this cell. Otherwise comment it.\n",
    "# Here we found only 1 peak, threfore we pass ROI_by_peak[0], \n",
    "#it's possible to look at different peaks by changing \n",
    "# the index.\n",
    "if energy is not None and ROI_by_peak:\n",
    "    print (\"You have chosen particles situated between %g MeV and %g MeV. \" \n",
    "            %(ROI_by_peak[-1][0], ROI_by_peak[-1][1]))\n",
    "    \n",
    "    # Conversion back to gamma\n",
    "    ROI_gamma = [[ROI_by_peak[i][j]/0.511 for j in xrange(len(ROI_by_peak[0]))] \\\n",
    "                 for i in xrange(len(ROI_by_peak))]\n",
    "    \n",
    "    # Selection of particles\n",
    "    cPH = HH.select( gamma_threshold = ROI_gamma[-1] )\n",
    "    cPN6 = N66.select( gamma_threshold = ROI_gamma[-1] )\n",
    "    cPN7 = N77.select( gamma_threshold = ROI_gamma[-1] )\n",
    "else:\n",
    "    clear_output"
   ]
  },
  {
   "cell_type": "markdown",
   "metadata": {},
   "source": [
    "Group all the particles before doing beam spectrum analysis. There are two ways to group particles and they are manifested using \"keep_object_name\" variable. If it's true, the information on the origin of these particles, ie the species of the particles is kept; otherwise, all the species' particle quantities will be merged."
   ]
  },
  {
   "cell_type": "code",
   "execution_count": null,
   "metadata": {
    "collapsed": false
   },
   "outputs": [],
   "source": [
    "if energy is not None and ROI_by_peak:    \n",
    "    ck_all_particles = quant_concatenate([cPN6,cPN7], keep_object_name= True) \n",
    "    #keeping the information on the species\n",
    "    c_all_particles = quant_concatenate([cPN6,cPN7])"
   ]
  },
  {
   "cell_type": "markdown",
   "metadata": {},
   "source": [
    "####Beam statistics\n",
    "Here we present the average and standard deviation of beam transverse positions, and momenta. The analysis here takes into account all trapped electrons, regardless the species"
   ]
  },
  {
   "cell_type": "markdown",
   "metadata": {},
   "source": [
    "#####Beam transverse positions\n",
    "Taking into account all trapped electrons, regardless the species"
   ]
  },
  {
   "cell_type": "code",
   "execution_count": null,
   "metadata": {
    "collapsed": false
   },
   "outputs": [],
   "source": [
    "avg_x = wavg( c_all_particles[qdict[\"x\"]] ,c_all_particles[qdict[\"w\"]] )\n",
    "avg_y = wavg( c_all_particles[qdict[\"y\"]] ,c_all_particles[qdict[\"w\"]] )\n",
    "print u\"<x>: %f \\u03BCm\" %( 1e6*avg_x )\n",
    "print u\"<y>: %f \\u03BCm\" %( 1e6*avg_y )\n",
    "std_x = wstd( c_all_particles[qdict[\"x\"]] ,c_all_particles[qdict[\"w\"]] )\n",
    "std_y = wstd( c_all_particles[qdict[\"y\"]] ,c_all_particles[qdict[\"w\"]] )\n",
    "print u\"\\u03c3x: %f \\u03BCm\" %( 1e6*std_x )\n",
    "print u\"\\u03c3y: %f \\u03BCm\" %( 1e6*std_y )"
   ]
  },
  {
   "cell_type": "markdown",
   "metadata": {},
   "source": [
    "#####Beam transverse momenta\n",
    "Taking into account all trapped electrons, regardless the species"
   ]
  },
  {
   "cell_type": "code",
   "execution_count": null,
   "metadata": {
    "collapsed": false
   },
   "outputs": [],
   "source": [
    "avg_px = wavg( c_all_particles[qdict[\"ux\"]] ,c_all_particles[qdict[\"w\"]] )\n",
    "avg_py = wavg( c_all_particles[qdict[\"uy\"]] ,c_all_particles[qdict[\"w\"]] )\n",
    "print u\"<px>: %f m_e*c\" %(avg_px)\n",
    "print u\"<py>: %f m_e*c\" %(avg_py)\n",
    "std_px = wstd( c_all_particles[qdict[\"ux\"]] ,c_all_particles[qdict[\"w\"]] )\n",
    "std_py = wstd( c_all_particles[qdict[\"uy\"]] ,c_all_particles[qdict[\"w\"]] )\n",
    "print u\"\\u03c3px: %f m_e*c\" %(std_px)\n",
    "print u\"\\u03c3py: %f m_e*c\" %(std_py)"
   ]
  },
  {
   "cell_type": "markdown",
   "metadata": {},
   "source": [
    "####Beam emittance"
   ]
  },
  {
   "cell_type": "markdown",
   "metadata": {},
   "source": [
    "In transverse directions"
   ]
  },
  {
   "cell_type": "code",
   "execution_count": null,
   "metadata": {
    "collapsed": false
   },
   "outputs": [],
   "source": [
    "emitx = beam_emittance( val[it_instant],  c_all_particles, qdict, \"x\", \n",
    "                       histogram= True, lplot=True, lsavefig=True, lwrite=True ) \n",
    "emity = beam_emittance( val[it_instant],  c_all_particles, qdict, \"y\", \n",
    "                       histogram= True, lplot=True, lsavefig=True, lwrite=True )\n",
    "print \"Emittance in x-direction: %f mm.mrad\" %(emitx*1e6)\n",
    "print \"Emittance in y-direction: %f mm.mrad\" %(emity*1e6)"
   ]
  },
  {
   "cell_type": "markdown",
   "metadata": {},
   "source": [
    "Decomposition by species"
   ]
  },
  {
   "cell_type": "code",
   "execution_count": null,
   "metadata": {
    "collapsed": false
   },
   "outputs": [],
   "source": [
    "species = [\"N6\", \"N7\"]\n",
    "emitx_sp = []\n",
    "emity_sp = []\n",
    "\n",
    "\n",
    "if np.array(ck_all_particles).size!=0:\n",
    "    # Transpose the matrix for reading only if there are data in ck_all_particles\n",
    "    transpose_ck_all_particles = np.transpose(ck_all_particles)\n",
    "\n",
    "    for index, sp_name in enumerate(species):\n",
    "        emitx_sp.append( beam_emittance( val[it_instant], \n",
    "                                        transpose_ck_all_particles[index], qdict, \"x\", \n",
    "                                        species = sp_name, histogram= True, \n",
    "                                        lplot=True, lsavefig=True, lwrite=True ) )\n",
    "        emity_sp.append( beam_emittance( val[it_instant], \n",
    "                                        transpose_ck_all_particles[index], qdict, \"y\", \n",
    "                                        species = sp_name, histogram= True, \n",
    "                                        lplot=True, lsavefig=True, lwrite=True ) )\n",
    "        print \"%s: Emittance in x-direction: %f mm.mrad\" %(sp_name, emitx_sp[index]*1e6)\n",
    "        print \"%s: Emittance in y-direction: %f mm.mrad\" %(sp_name, emity_sp[index]*1e6)"
   ]
  },
  {
   "cell_type": "markdown",
   "metadata": {},
   "source": [
    "####Emittance with respect to gamma.\n",
    "\n",
    "Taking into account all trapped electrons, regardless the species. The following cell conducts an analysis of independent species, and the results are drawn right after."
   ]
  },
  {
   "cell_type": "code",
   "execution_count": null,
   "metadata": {
    "collapsed": false
   },
   "outputs": [],
   "source": [
    "gamma_all = []\n",
    "emittance_all = []\n",
    "\n",
    "gammax, emittancex =  sorted_by_quantity_beam_property ( val[it_instant],  \n",
    "                                                         list(transpose_ck_all_particles[index]), \n",
    "                                                         qdict, direction = \"x\", quantity_to_analyze = \"gamma\" )\n",
    "\n",
    "gammay, emittancey = sorted_by_quantity_beam_property ( val[it_instant],  \n",
    "                                                        list(transpose_ck_all_particles[index]), \n",
    "                                                        qdict, direction = \"y\", quantity_to_analyze = \"gamma\" )\n",
    "\n",
    "# Appending to an array\n",
    "gamma_all.append(gammax)\n",
    "gamma_all.append(gammay)\n",
    "emittance_all.append(emittancex)\n",
    "emittance_all.append(emittancey)"
   ]
  },
  {
   "cell_type": "code",
   "execution_count": null,
   "metadata": {
    "collapsed": false
   },
   "outputs": [],
   "source": [
    "if np.array(ck_all_particles).size!=0:\n",
    "    # Plotting emittance with respect to gamma\n",
    "    if 'inline' in matplotlib.get_backend():\n",
    "        fig, ax = plt.subplots(dpi=150)\n",
    "    else:\n",
    "        fig, ax = plt.subplots( figsize=(10,8) )\n",
    "\n",
    "    fig.patch.set_facecolor('white')\n",
    "    \n",
    "    num_dir = 2\n",
    "    leg = [r\"$x-dir$\", r\"$y-dir$\"]\n",
    "    for i in xrange(num_dir):\n",
    "        ax.plot(gamma_all[i], emittance_all[i]*1e6, label = leg[i],  linewidth = 2)\n",
    "    \n",
    "    ax.set_xlabel(r\"$\\mathrm{\\gamma\\,(arb.\\,units)}$\")\n",
    "    ax.set_ylabel(r\"$\\mathrm{\\epsilon_{n}\\,(mm.mrad)}$\")\n",
    "    ax.set_ylim(0.0, 1.1*max(map(max, emittance_all))*1e6)\n",
    "    ax.xaxis.set_tick_params(width=2, length = 8)\n",
    "    ax.yaxis.set_tick_params(width=2, length = 8)\n",
    "    font = {'family':'sans-serif'}\n",
    "    plt.rc('font', **font)\n",
    "    \n",
    "    if leg is not None:\n",
    "        # Now add the legend with some customizations.\n",
    "        legend = plt.legend(loc='best', shadow=True)\n",
    "\n",
    "        # Set the fontsize\n",
    "        for label in legend.get_texts():\n",
    "            label.set_fontsize('large')\n",
    "\n",
    "        for label in legend.get_lines():\n",
    "            label.set_linewidth(1.5)  # the legend line width"
   ]
  },
  {
   "cell_type": "markdown",
   "metadata": {},
   "source": [
    "Decomposition by species"
   ]
  },
  {
   "cell_type": "code",
   "execution_count": null,
   "metadata": {
    "collapsed": false
   },
   "outputs": [],
   "source": [
    "gamma_species = []\n",
    "emittance_species = []\n",
    "\n",
    "if np.array(ck_all_particles).size!=0:\n",
    "    for index, sp_name in enumerate(species):\n",
    "        gammax, emittancex =  sorted_by_quantity_beam_property (  val[it_instant],  \n",
    "                                                               list(transpose_ck_all_particles[index]), \n",
    "                                                               qdict, direction = \"x\", quantity_to_analyze = \"gamma\",\n",
    "                                                               species = sp_name )\n",
    "        gammay, emittancey =  sorted_by_quantity_beam_property (  val[it_instant],  \n",
    "                                                               list(transpose_ck_all_particles[index]), \n",
    "                                                               qdict, direction = \"y\", quantity_to_analyze = \"gamma\",\n",
    "                                                               species = sp_name )\n",
    "        gamma_species.append(gammax)\n",
    "        gamma_species.append(gammay)\n",
    "        emittance_species.append(emittancex)\n",
    "        emittance_species.append(emittancey)"
   ]
  },
  {
   "cell_type": "code",
   "execution_count": null,
   "metadata": {
    "collapsed": false
   },
   "outputs": [],
   "source": [
    "if np.array(ck_all_particles).size!=0:\n",
    "    # Plotting emittance with respect to gamma\n",
    "    if 'inline' in matplotlib.get_backend():\n",
    "        fig, ax = plt.subplots(dpi=150)\n",
    "    else:\n",
    "        fig, ax = plt.subplots( figsize=(10,8) )\n",
    "\n",
    "    fig.patch.set_facecolor('white')\n",
    "    c = [ \"blue\", \"red\", \"black\", \"green\", \"magenta\", \"cyan\" ]\n",
    "    leg = [r\"$N6\\,(x-dir)$\", r\"$N6\\,(y-dir)$\", r\"$N7\\,(x-dir)$\",r\"$N7\\,(y-dir)$\"]\n",
    "    num_species = len(gamma_species)\n",
    "\n",
    "    for i in xrange( num_species ):\n",
    "\n",
    "        ax.plot( gamma_species[i], emittance_species[i]*1e6, color = c[i%(num_species + 1)],\n",
    "                    label = leg[i], linewidth = 2)\n",
    "\n",
    "    ax.set_xlabel(r\"$\\mathrm{\\gamma\\,(arb.\\,units)}$\")\n",
    "    ax.set_ylabel(r\"$\\mathrm{\\epsilon_{n}\\,(mm.mrad)}$\")\n",
    "    ax.set_ylim(0.0, 1.1*max(map(max, emittance_species))*1e6)\n",
    "    \n",
    "    ax.xaxis.set_tick_params(width=2, length = 8)\n",
    "    ax.yaxis.set_tick_params(width=2, length = 8)\n",
    "    font = {'family':'sans-serif'}\n",
    "    plt.rc('font', **font)\n",
    "\n",
    "    if leg is not None:\n",
    "        # Now add the legend with some customizations.\n",
    "        legend = plt.legend(title = r\"$\\mathbf{Legend}$\", loc='best',\n",
    "                            ncol=2, shadow=True)\n",
    "\n",
    "        # Set the fontsize\n",
    "        for label in legend.get_texts():\n",
    "            label.set_fontsize('large')\n",
    "\n",
    "        for label in legend.get_lines():\n",
    "            label.set_linewidth(1.5)  # the legend line width"
   ]
  },
  {
   "cell_type": "markdown",
   "metadata": {},
   "source": [
    "####Beam divergence"
   ]
  },
  {
   "cell_type": "code",
   "execution_count": null,
   "metadata": {
    "collapsed": false
   },
   "outputs": [],
   "source": [
    "divx  = beam_divergence (c_all_particles, qdict, \"x\")\n",
    "divy  = beam_divergence (c_all_particles, qdict, \"y\")\n",
    "print \"Divergence in x-direction: %f mrad\" %(divx*1e3)\n",
    "print \"Divergence in y-direction: %f mrad\" %(divy*1e3)"
   ]
  },
  {
   "cell_type": "markdown",
   "metadata": {},
   "source": [
    "####Beam total charge"
   ]
  },
  {
   "cell_type": "code",
   "execution_count": null,
   "metadata": {
    "collapsed": false
   },
   "outputs": [],
   "source": [
    "charge = beam_charge(c_all_particles[qdict[\"w\"]])\n",
    "print \"Charge: %f pC\" %(charge*1e12) "
   ]
  },
  {
   "cell_type": "markdown",
   "metadata": {},
   "source": [
    "####Beam energy properties sliced by z "
   ]
  },
  {
   "cell_type": "code",
   "execution_count": null,
   "metadata": {
    "collapsed": false
   },
   "outputs": [],
   "source": [
    "z_species = []\n",
    "gamma_species = []\n",
    "\n",
    "if np.array(ck_all_particles).size!=0:\n",
    "    for index, sp_name in enumerate(species):\n",
    "\n",
    "        temp_z, temp_gamma = sorted_by_quantity_beam_property (  val[it_instant],  \n",
    "                                                               list(transpose_ck_all_particles[index]), \n",
    "                                                               qdict, direction = None, quantity_to_analyze = \"z\",\n",
    "                                                               species = sp_name, b_property = \"energy\" )\n",
    "        gamma_species.append( temp_gamma )\n",
    "        z_species.append( temp_z )"
   ]
  },
  {
   "cell_type": "code",
   "execution_count": null,
   "metadata": {
    "collapsed": false
   },
   "outputs": [],
   "source": [
    "if np.array(ck_all_particles).size!=0:\n",
    "    # Plotting emittance with respect to gamma\n",
    "    if 'inline' in matplotlib.get_backend():\n",
    "        fig, ax = plt.subplots( 1,2, dpi=150 )\n",
    "    else:\n",
    "        fig, ax = plt.subplots( 1,2, figsize=(10,8) )\n",
    "\n",
    "    fig.patch.set_facecolor('white')\n",
    "    c = [ \"blue\", \"red\", \"black\", \"green\", \"magenta\", \"cyan\" ]\n",
    "    leg = [[r\"$N6$\", r\"$N7$\"], [r\"$N6$\", r\"$N7$\"]]\n",
    "        \n",
    "    num_species = len(gamma_species)\n",
    "    s_energy = [\"<E>\",\"\\sigma_E\"]\n",
    "    \n",
    "    for j in xrange(2):\n",
    "        for i in xrange( num_species ):\n",
    "        \n",
    "            ax[j].plot( np.array(z_species[i])*1e6, gamma_species[i][j], color = c[i%(num_species + 1)],\n",
    "                    label = leg[j][i], linewidth = 2)\n",
    "        \n",
    "        ax[j].set_xlabel(r\"$\\mathrm{z\\,(\\mu m)}$\")\n",
    "        ax[j].set_ylabel(r\"$\\mathrm{%s\\,(MeV)}$\" %s_energy[j])\n",
    "        #ax[j].set_ylim(0.0, 1.1*max(map(max, gamma_species[]))*1e6)\n",
    "        \n",
    "        ax[j].xaxis.set_tick_params(width=2, length = 8)\n",
    "        ax[j].yaxis.set_tick_params(width=2, length = 8)\n",
    "        plt.setp(ax[j].get_xticklabels()[::2], visible=False)\n",
    "        \n",
    "        if leg is not None:\n",
    "            # Now add the legend with some customizations.\n",
    "            legend = ax[j].legend(loc='best', shadow=True)\n",
    "\n",
    "            # Set the fontsize\n",
    "            for label in legend.get_texts():\n",
    "                label.set_fontsize('large')\n",
    "\n",
    "            for label in legend.get_lines():\n",
    "                label.set_linewidth(1.5)  # the legend line width\n",
    "                \n",
    "    font = {'family':'sans-serif'}\n",
    "    plt.rc('font', **font)\n",
    "   \n",
    "    plt.tight_layout()\n",
    "\n"
   ]
  },
  {
   "cell_type": "code",
   "execution_count": null,
   "metadata": {
    "collapsed": true
   },
   "outputs": [],
   "source": [
    "#Save figure\n",
    "fig.savefig( res_path + \"BeamEnergy_by_z_%s\" %val[it_instant] )"
   ]
  },
  {
   "cell_type": "markdown",
   "metadata": {},
   "source": [
    "####Phase space plot with fields"
   ]
  },
  {
   "cell_type": "code",
   "execution_count": null,
   "metadata": {
    "collapsed": false
   },
   "outputs": [],
   "source": [
    "N_laser = f.normalizedField( w0, \"laser\")\n",
    "N_wake = f.normalizedField( wp, \"wake\")\n",
    "\n",
    "bigPicture( val[it_instant], c_all_particles[qdict[\"z\"]], c_all_particles[qdict[\"gamma\"]],\n",
    "           c_all_particles[qdict[\"w\"]], f.zfield, N_wake, N_laser, lwrite= True )"
   ]
  }
 ],
 "metadata": {
  "kernelspec": {
   "display_name": "Python 2",
   "language": "python",
   "name": "python2"
  },
  "language_info": {
   "codemirror_mode": {
    "name": "ipython",
    "version": 2
   },
   "file_extension": ".py",
   "mimetype": "text/x-python",
   "name": "python",
   "nbconvert_exporter": "python",
   "pygments_lexer": "ipython2",
   "version": "2.7.9"
  }
 },
 "nbformat": 4,
 "nbformat_minor": 0
}
