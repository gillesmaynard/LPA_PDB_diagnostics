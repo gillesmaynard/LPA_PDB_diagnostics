{
 "cells": [
  {
   "cell_type": "markdown",
   "metadata": {},
   "source": [
    "###This notebook contains some usual analysis for LPA\n",
    "It only works for output format in pdb."
   ]
  },
  {
   "cell_type": "code",
   "execution_count": 1,
   "metadata": {
    "collapsed": false
   },
   "outputs": [],
   "source": [
    "import numpy as np\n",
    "import pylab as plt\n",
    "from lpa_pdb_diagnostics import *\n",
    "from scipy.constants import e, c, m_e, epsilon_0\n",
    "import os\n",
    "import matplotlib\n",
    "%matplotlib inline"
   ]
  },
  {
   "cell_type": "markdown",
   "metadata": {},
   "source": [
    "Setting the directory path where the data are located. dir_path has to be correctly attributed before analysis."
   ]
  },
  {
   "cell_type": "code",
   "execution_count": 2,
   "metadata": {
    "collapsed": false
   },
   "outputs": [],
   "source": [
    "#If reading several files\n",
    "num_res = 1\n",
    "dir_path = np.empty(num_res,dtype=\"S100\")\n",
    "#dfile = np.array([\"nxplambda2\", \"w20_a01.29_zf2.85\", \"w20_a01.2075_zf2.75\"])\n",
    "dfile = np.array([\"_hump_dens8_3250\"])\n",
    "\n",
    "for index in xrange(num_res):\n",
    "    dir_path[index] = \"/Volumes/Orsay/Nitrogen_hump/Nitrogen%s/\" %dfile[index] +\"data/\"   "
   ]
  },
  {
   "cell_type": "markdown",
   "metadata": {},
   "source": [
    "Setting the path for the results:"
   ]
  },
  {
   "cell_type": "code",
   "execution_count": 3,
   "metadata": {
    "collapsed": false
   },
   "outputs": [],
   "source": [
    "res_path = config.result_path"
   ]
  },
  {
   "cell_type": "markdown",
   "metadata": {},
   "source": [
    "#Laser - Plasma Parameters\n",
    "Here we define some of the laser plasma parameters."
   ]
  },
  {
   "cell_type": "code",
   "execution_count": 4,
   "metadata": {
    "collapsed": false
   },
   "outputs": [],
   "source": [
    "# Some definitions of the laser plasma parameters\n",
    "lambda0 = 0.8e-6\n",
    "w0 = 2*np.pi*c/lambda0\n",
    "laser_waist = 17e-6\n",
    "plasma_dens = 4.307e24\n",
    "plasma_length = 4.5e-3\n",
    "wp = np.sqrt(plasma_dens * e**2/ (epsilon_0 * m_e))\n",
    "lambda_plasma = 2*np.pi*c/wp\n",
    "circ_m = 1"
   ]
  },
  {
   "cell_type": "markdown",
   "metadata": {},
   "source": [
    "#Numerical Parameters\n",
    "Here we define the necessary numerical parameters for the analysis"
   ]
  },
  {
   "cell_type": "code",
   "execution_count": 5,
   "metadata": {
    "collapsed": false
   },
   "outputs": [],
   "source": [
    "#longitudinal direction \n",
    "zmax = 2*lambda0\n",
    "zmin = zmax - 3.5*lambda_plasma\n",
    "w_size = zmax - zmin\n",
    "#nzplambda = np.array([20,40,40])\n",
    "nzplambda = np.array([25])\n",
    "Nz = np.array(w_size*nzplambda/lambda0).astype(int)\n",
    "dz = w_size/Nz\n",
    "\n",
    "#transverse direction\n",
    "xmax = 120e-6\n",
    "xmin = 0 # for cylindrical coordinates\n",
    "#nxplambda = np.array([2,4,2])\n",
    "nxplambda = np.array([3])\n",
    "Nx = np.array((xmax - xmin)*nxplambda/lambda0).astype(int)\n",
    "dx = (xmax - xmin)/Nx\n",
    "\n",
    "#time (valid only for circ simulation)\n",
    "circ_coeffs = [ 0.2105, 1.0, 3.5234, 8.5104, 15.5059, 24.5037 ]\n",
    "\n",
    "if circ_m < len(circ_coeffs):\n",
    "    circ_alpha = circ_coeffs[circ_m]\n",
    "else:\n",
    "    circ_alpha = circ_m**2 - 0.4\n",
    "\n",
    "cdt = 1./np.sqrt((1 + circ_alpha)/dx**2 + 1./dz**2)"
   ]
  },
  {
   "cell_type": "markdown",
   "metadata": {},
   "source": [
    "#Generate values for file reading"
   ]
  },
  {
   "cell_type": "code",
   "execution_count": 6,
   "metadata": {
    "collapsed": false
   },
   "outputs": [],
   "source": [
    "inf = 0\n",
    "sup = 0\n",
    "#period_int = [1000, 2000, 3000]\n",
    "#period_ext = [1000, 2000, 3000]\n",
    "period_int = [1000]\n",
    "period_ext = [1000]\n",
    "val = []\n",
    "longitudinal_position = []\n",
    "\n",
    "for i, x in enumerate(cdt):\n",
    "    val.append(values( inf, sup, period_int[i], period_ext[i], plasma_length/x ))\n",
    "    longitudinal_position.append(np.array(val[i])*cdt[i])"
   ]
  },
  {
   "cell_type": "markdown",
   "metadata": {},
   "source": [
    "We create an array of file names that we analyze."
   ]
  },
  {
   "cell_type": "code",
   "execution_count": null,
   "metadata": {
    "collapsed": false
   },
   "outputs": [],
   "source": [
    "field = [[] for i in xrange(num_res)]\n",
    "N5 = [[] for i in xrange(num_res)]\n",
    "N6 = [[] for i in xrange(num_res)]\n",
    "N7 = [[] for i in xrange(num_res)]\n",
    "H = [[] for i in xrange(num_res)]\n",
    "\n",
    "# Initialize file names\n",
    "for k in xrange(num_res):\n",
    "    for i, v in enumerate(val[k]):\n",
    "        field[k].append(dir_path[k] + \"fields%06d.pdb\" %v)\n",
    "        N5[k].append(dir_path[k] + \"N5%06d.pdb\" %v)\n",
    "        N6[k].append(dir_path[k] + \"N6%06d.pdb\" %v)\n",
    "        N7[k].append(dir_path[k] + \"N7%06d.pdb\" %v)\n",
    "        H[k].append(dir_path[k] + \"H%06d.pdb\" %v)"
   ]
  },
  {
   "cell_type": "markdown",
   "metadata": {},
   "source": [
    "#Reading files"
   ]
  },
  {
   "cell_type": "markdown",
   "metadata": {
    "collapsed": true
   },
   "source": [
    "##Multiple files reading"
   ]
  },
  {
   "cell_type": "markdown",
   "metadata": {},
   "source": [
    "####Laser $a_0$, Beam spectrum, Big Picture"
   ]
  },
  {
   "cell_type": "code",
   "execution_count": null,
   "metadata": {
    "collapsed": false
   },
   "outputs": [
    {
     "name": "stdout",
     "output_type": "stream",
     "text": [
      "** Processing ** Fields: Intialisation of /Volumes/Orsay/Nitrogen_hump/Nitrogen_hump_dens8_3250/data/fields083000.pdb **\n",
      "** Processing ** Particles: Initialisation of /Volumes/Orsay/Nitrogen_hump/Nitrogen_hump_dens8_3250/data/N6083000.pdb **\n",
      "** Processing ** Particles: Initialisation of /Volumes/Orsay/Nitrogen_hump/Nitrogen_hump_dens8_3250/data/N7083000.pdb **\n",
      "A file named beam_spectrum_83000.hdf5 in /Volumes/Orsay/Nitrogen_hump/Nitrogen_hump_dens8_3250/result/ is created.\n",
      "** Writing is done **\n",
      "You have chosen particles situated between 244.013 MeV and 268.524 MeV. \n",
      "A file named Charge_density_83000.hdf5 in /Volumes/Orsay/Nitrogen_hump/Nitrogen_hump_dens8_3250/result/ is created.\n",
      "** Writing is done **\n",
      "A file named Normalized_Fields_83000.hdf5 in /Volumes/Orsay/Nitrogen_hump/Nitrogen_hump_dens8_3250/result/ is created.\n",
      "** Writing is done **\n",
      "** Processing ** Fields: Intialisation of /Volumes/Orsay/Nitrogen_hump/Nitrogen_hump_dens8_3250/data/fields084000.pdb **\n",
      "** Processing ** Particles: Initialisation of /Volumes/Orsay/Nitrogen_hump/Nitrogen_hump_dens8_3250/data/N6084000.pdb **\n",
      "** Processing ** Particles: Initialisation of /Volumes/Orsay/Nitrogen_hump/Nitrogen_hump_dens8_3250/data/N7084000.pdb **\n",
      "A file named beam_spectrum_84000.hdf5 in /Volumes/Orsay/Nitrogen_hump/Nitrogen_hump_dens8_3250/result/ is created.\n",
      "** Writing is done **\n",
      "You have chosen particles situated between 244.694 MeV and 269.737 MeV. \n",
      "A file named Charge_density_84000.hdf5 in /Volumes/Orsay/Nitrogen_hump/Nitrogen_hump_dens8_3250/result/ is created.\n",
      "** Writing is done **\n",
      "A file named Normalized_Fields_84000.hdf5 in /Volumes/Orsay/Nitrogen_hump/Nitrogen_hump_dens8_3250/result/ is created.\n",
      "** Writing is done **\n",
      "** Processing ** Fields: Intialisation of /Volumes/Orsay/Nitrogen_hump/Nitrogen_hump_dens8_3250/data/fields085000.pdb **\n",
      "** Processing ** Particles: Initialisation of /Volumes/Orsay/Nitrogen_hump/Nitrogen_hump_dens8_3250/data/N6085000.pdb **\n",
      "** Processing ** Particles: Initialisation of /Volumes/Orsay/Nitrogen_hump/Nitrogen_hump_dens8_3250/data/N7085000.pdb **\n",
      "A file named beam_spectrum_85000.hdf5 in /Volumes/Orsay/Nitrogen_hump/Nitrogen_hump_dens8_3250/result/ is created.\n",
      "** Writing is done **\n",
      "You have chosen particles situated between 246.667 MeV and 270.704 MeV. \n",
      "A file named Charge_density_85000.hdf5 in /Volumes/Orsay/Nitrogen_hump/Nitrogen_hump_dens8_3250/result/ is created.\n",
      "** Writing is done **\n",
      "A file named Normalized_Fields_85000.hdf5 in /Volumes/Orsay/Nitrogen_hump/Nitrogen_hump_dens8_3250/result/ is created.\n",
      "** Writing is done **\n",
      "** Processing ** Fields: Intialisation of /Volumes/Orsay/Nitrogen_hump/Nitrogen_hump_dens8_3250/data/fields086000.pdb **\n",
      "** Processing ** Particles: Initialisation of /Volumes/Orsay/Nitrogen_hump/Nitrogen_hump_dens8_3250/data/N6086000.pdb **"
     ]
    }
   ],
   "source": [
    "#preparing some empty arrays\n",
    "a0 = [[] for i in xrange(num_res)]\n",
    "z_a0 = [[] for i in xrange(num_res)]\n",
    "emitx = [[] for i in xrange(num_res)]\n",
    "emity = [[] for i in xrange(num_res)]\n",
    "deltaE = [[] for i in xrange(num_res)]\n",
    "deltaEE = [[] for i in xrange(num_res)]\n",
    "divx = [[] for i in xrange(num_res)]\n",
    "divy = [[] for i in xrange(num_res)]\n",
    "charge = [[] for i in xrange(num_res)]\n",
    "ROI_peak = [[] for i in xrange(num_res)]\n",
    "ROI_peak_left = [[] for i in xrange(num_res)]\n",
    "ROI_peak_right = [[] for i in xrange(num_res)]\n",
    "long_pos = [[] for i in xrange(num_res)]\n",
    "E_peak = [[] for i in xrange(num_res)]\n",
    "z_wstd = [[] for i in xrange(num_res)]\n",
    "x_wstd = [[] for i in xrange(num_res)]\n",
    "\n",
    "\n",
    "for k in xrange(num_res):\n",
    "    last = len(val[k])\n",
    "    first  = int(2.6e-3/cdt[k]/period_int[k]) #round off to the nearest 1000\n",
    "    for index in range( 0, last ):\n",
    "        if index>=first:\n",
    "            l_particle = True\n",
    "        else:\n",
    "            l_particle = False\n",
    "        \n",
    "        long_pos[k].append(val[k][index]*cdt[k])\n",
    "        f = FieldInstant( field[k][index], np.pi/2, \n",
    "                     quantities= [\"E\", \"zfield\"] )\n",
    "        a, z = f.laser_a0(w0)\n",
    "\n",
    "        # Store values in arrays\n",
    "        a0[k].append(a)\n",
    "        z_a0[k].append(z)\n",
    "\n",
    "        if l_particle:\n",
    "            #p_H = ParticleInstant( H[index], quantities = [ \"Weight\", \"Position\", \"Momentum\"] )\n",
    "            p_N6 = ParticleInstant( N6[k][index], quantities = [ \"Weight\", \"Position\", \"Momentum\"] )\n",
    "            p_N7 = ParticleInstant( N7[k][index], quantities = [ \"Weight\", \"Position\", \"Momentum\"] )\n",
    "            qdict = p_N6.get_qdict()\n",
    "\n",
    "            #Select particles\n",
    "            #cp_H = p_H.select( gamma_threshold = [50,800] )\n",
    "            cp_N6 = p_N6.select( gamma_threshold = [200,800] )\n",
    "            cp_N7 = p_N7.select( gamma_threshold = [200,800] )\n",
    "\n",
    "            # Concatenate particles\n",
    "            ck_all_particles = quant_concatenate([cp_N6,cp_N7], keep_object_name = True ) \n",
    "            #keeping the information on the species\n",
    "            c_all_particles = quant_concatenate([cp_N6, cp_N7])\n",
    "\n",
    "            # Analyzing beam spectrum\n",
    "            energy, dQdE = beam_spectrum(val[k][index], \n",
    "                                 ck_all_particles[qdict[\"gamma\"]], \n",
    "                                 ck_all_particles[qdict[\"w\"]], lwrite=True,\n",
    "                                 leg = [\"N6\",\"N7\",\"Sum\"])\n",
    "\n",
    "            if energy is not None:\n",
    "                t_energy = energy[-1]\n",
    "                t_dQdE = dQdE[-1]\n",
    "\n",
    "                Ipeak, Epeak, Cpeak, ROI_by_peak = beam_peak( t_energy, t_dQdE)\n",
    "\n",
    "                if Ipeak is not None:\n",
    "                    peak = (Ipeak[-1], Epeak[-1], Cpeak[-1])\n",
    "                    t_deltaE , t_deltaEE = beam_energy_spread( t_energy, t_dQdE, peak = peak)\n",
    "\n",
    "                else:\n",
    "                    t_deltaE , t_deltaEE = beam_energy_spread( t_energy, t_dQdE )\n",
    "\n",
    "                deltaE[k].append( t_deltaE )\n",
    "                deltaEE[k].append( t_deltaEE )\n",
    "                E_peak[k].append( Epeak )\n",
    "\n",
    "            if energy is not None and ROI_by_peak:\n",
    "                print \"You have chosen particles situated between %g MeV and %g MeV. \" \\\n",
    "                        %( ROI_by_peak[-1][0], ROI_by_peak[-1][1] )\n",
    "                \n",
    "                ROI_peak_left[k].append(ROI_by_peak[-1][0])\n",
    "                ROI_peak_right[k].append(ROI_by_peak[-1][-1])\n",
    "                # Conversion from MeV to gamma arb units\n",
    "                ROI_gamma = [[ROI_by_peak[i][j]/0.511 for j in xrange(len(ROI_by_peak[0]))] \\\n",
    "                             for i in xrange(len(ROI_by_peak))]\n",
    "\n",
    "                # Selection of particles\n",
    "                cPN6 = p_N6.select( gamma_threshold = ROI_gamma[-1] )\n",
    "                cPN7 = p_N7.select( gamma_threshold = ROI_gamma[-1] )\n",
    "\n",
    "                ck_all_particles = quant_concatenate([cPN6,cPN7], keep_object_name= True) \n",
    "                #keeping the information on the species\n",
    "                c_all_particles = quant_concatenate([cPN6,cPN7])\n",
    "\n",
    "                ROI_peak[k].append( ROI_gamma[-1] )\n",
    "\n",
    "            # Analysing big picture\n",
    "            N_laser = f.normalizedField( w0, \"laser\")\n",
    "            N_wake = f.normalizedField( wp, \"wake\")\n",
    "            bigPicture( val[k][index], c_all_particles[qdict[\"z\"]], c_all_particles[qdict[\"gamma\"]],\n",
    "               c_all_particles[qdict[\"w\"]], f.zfield, N_wake, N_laser, lwrite= True )\n",
    "            \n",
    "            # Analyzing beam length\n",
    "            t_z_wstd = wstd(c_all_particles[qdict[\"z\"]], c_all_particles[qdict[\"w\"]] ) \n",
    "            z_wstd[k].append(  t_z_wstd )\n",
    "            t_x_wstd = wstd(c_all_particles[qdict[\"x\"]], c_all_particles[qdict[\"w\"]] ) \n",
    "            x_wstd[k].append( t_x_wstd )\n",
    "        \n",
    "            # Analyzing beam emittance\n",
    "            t_emitx = beam_emittance( val[k][index],  c_all_particles, qdict, \"x\" ) \n",
    "            t_emity = beam_emittance( val[k][index],  c_all_particles, qdict, \"y\" )\n",
    "\n",
    "            # Store values in arrays\n",
    "            emitx[k].append( t_emitx )\n",
    "            emity[k].append( t_emity )\n",
    "\n",
    "            # Analyzing beam divergence\n",
    "            t_divx  = beam_divergence (c_all_particles, qdict, \"x\")\n",
    "            t_divy  = beam_divergence (c_all_particles, qdict, \"y\")\n",
    "\n",
    "            # Store values in arrays\n",
    "            divx[k].append( t_divx )\n",
    "            divy[k].append( t_divy )\n",
    "\n",
    "            # Analyze beam charge\n",
    "            t_charge = beam_charge(c_all_particles[qdict[\"w\"]])\n",
    "\n",
    "            # Store values in array\n",
    "            charge[k].append( t_charge )"
   ]
  },
  {
   "cell_type": "markdown",
   "metadata": {},
   "source": [
    "##Saving laser $a_0$ values and beam properties in  in files."
   ]
  },
  {
   "cell_type": "code",
   "execution_count": null,
   "metadata": {
    "collapsed": true
   },
   "outputs": [],
   "source": [
    "qname = [\"z\", \"a0\" ]\n",
    "f = FileWriting(qname, \"a0%s\" %d_file[0])\n",
    "stacked_data = np.stack(( z_a0, a0 ), axis=1)\n",
    "f.write(stacked_data, np.shape(stacked_data),  attrs = [\"m\", \"arb. unit\" ])"
   ]
  },
  {
   "cell_type": "code",
   "execution_count": null,
   "metadata": {
    "collapsed": false
   },
   "outputs": [],
   "source": [
    "if l_particle:\n",
    "    qname = [\"val\", \"deltaE\", \"deltaEE\", \"emitx\", \"emity\", \"divx\", \n",
    "             \"divy\", \"charge\", \"z_std\", \"x_std\"]\n",
    "    f = FileWriting(qname, \"beam_properties_Nitrogen%s\" %d_file[0])\n",
    "    stacked_data = np.stack(( long_pos, deltaE, deltaEE, emitx, emity, \n",
    "                             divx, divy, charge, z_wstd, x_wstd), axis=1)\n",
    "    f.write(stacked_data, np.shape(stacked_data), \n",
    "             attrs = [ \"m\", \"MeV\", \"%\", \"m.rad\", \"m.rad\", \"rad\", \"rad\", \n",
    "                      \"C\", \"m\", \"m\"])"
   ]
  },
  {
   "cell_type": "markdown",
   "metadata": {},
   "source": [
    "##Plot $a_0$"
   ]
  },
  {
   "cell_type": "code",
   "execution_count": null,
   "metadata": {
    "collapsed": true
   },
   "outputs": [],
   "source": [
    "if 'inline' in matplotlib.get_backend():\n",
    "    fig, ax = plt.subplots( dpi=150 )\n",
    "else:\n",
    "    fig, ax = plt.subplots( figsize=(10,8) )\n",
    "\n",
    "for index in xrange(num_res):\n",
    "    fig.patch.set_facecolor('white')\n",
    "    ax.plot(z_a0[index], a0[index], linewidth = 2)\n",
    "\n",
    "    ax.set_xlabel(r\"$\\mathrm{z\\,(m)}$\")\n",
    "    ax.set_ylabel(r\"$\\mathrm{a_0}$\")\n",
    "    ax.xaxis.set_tick_params(width=2, length = 8)\n",
    "    ax.yaxis.set_tick_params(width=2, length = 8)\n",
    "    font = {'family':'sans-serif'}\n",
    "    plt.rc('font', **font)\n",
    "\n",
    "fig.savefig(res_path + \"a0.pdf\")"
   ]
  },
  {
   "cell_type": "markdown",
   "metadata": {},
   "source": []
  }
 ],
 "metadata": {
  "kernelspec": {
   "display_name": "Python 2",
   "language": "python",
   "name": "python2"
  },
  "language_info": {
   "codemirror_mode": {
    "name": "ipython",
    "version": 2
   },
   "file_extension": ".py",
   "mimetype": "text/x-python",
   "name": "python",
   "nbconvert_exporter": "python",
   "pygments_lexer": "ipython2",
   "version": "2.7.9"
  }
 },
 "nbformat": 4,
 "nbformat_minor": 0
}
