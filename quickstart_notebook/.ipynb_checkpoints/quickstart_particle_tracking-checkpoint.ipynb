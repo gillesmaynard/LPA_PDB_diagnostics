{
 "cells": [
  {
   "cell_type": "markdown",
   "metadata": {},
   "source": [
    "This notebook manages particle tracking module. It sets up the environment, then saves the particles in HDF5 files."
   ]
  },
  {
   "cell_type": "code",
   "execution_count": 1,
   "metadata": {
    "collapsed": false
   },
   "outputs": [],
   "source": [
    "import numpy as np\n",
    "import pylab as plt\n",
    "from lpa_pdb_diagnostics import *\n",
    "from scipy.constants import e, c, m_e, epsilon_0\n",
    "import os\n",
    "import matplotlib\n",
    "%matplotlib inline"
   ]
  },
  {
   "cell_type": "markdown",
   "metadata": {},
   "source": [
    "#Setting up directories\n",
    "Setting up directories to fetch data and the output directory for results."
   ]
  },
  {
   "cell_type": "code",
   "execution_count": 2,
   "metadata": {
    "collapsed": true
   },
   "outputs": [],
   "source": [
    "dir_path = \"/Volumes/Orsay/circ_a01.1_foc1.9mm_400um_dens7.8_nzplambda20/data/\"\n",
    "#dir_path = os.getcwd() + \"/data/\""
   ]
  },
  {
   "cell_type": "code",
   "execution_count": 3,
   "metadata": {
    "collapsed": false
   },
   "outputs": [],
   "source": [
    "res_path = config.result_path"
   ]
  },
  {
   "cell_type": "markdown",
   "metadata": {},
   "source": [
    "#Laser plasma parameters"
   ]
  },
  {
   "cell_type": "code",
   "execution_count": 4,
   "metadata": {
    "collapsed": true
   },
   "outputs": [],
   "source": [
    "# Some definitions of the laser plasma parameters\n",
    "lambda0 = 0.8e-6\n",
    "w0 = 2*np.pi*c/lambda0\n",
    "laser_waist = 17e-6\n",
    "plasma_dens = 7.8e24\n",
    "plasma_length = 2.4e-3\n",
    "wp = np.sqrt(plasma_dens * e**2/ (epsilon_0 * m_e))\n",
    "lambda_plasma = 2*np.pi*c/wp"
   ]
  },
  {
   "cell_type": "markdown",
   "metadata": {},
   "source": [
    "#Numerical parameters"
   ]
  },
  {
   "cell_type": "code",
   "execution_count": 5,
   "metadata": {
    "collapsed": true
   },
   "outputs": [],
   "source": [
    "zmax = 2*lambda0\n",
    "zmin = zmax - 6*lambda_plasma\n",
    "nzplambda = 20\n",
    "w_size = zmax - zmin\n",
    "Nz = int(w_size*nzplambda/lambda0)\n",
    "dz = w_size/Nz"
   ]
  },
  {
   "cell_type": "markdown",
   "metadata": {
    "collapsed": false,
    "scrolled": true
   },
   "source": [
    "#Generating file array \n",
    "We choose to only do particle tracking on N6 and N7 electrons. Other electrons can also be written in the same way."
   ]
  },
  {
   "cell_type": "code",
   "execution_count": 6,
   "metadata": {
    "collapsed": false
   },
   "outputs": [
    {
     "name": "stderr",
     "output_type": "stream",
     "text": [
      "/anaconda/lib/python2.7/site-packages/IPython/kernel/__main__.py:6: VisibleDeprecationWarning: using a non-integer number instead of an integer will result in an error in the future\n"
     ]
    }
   ],
   "source": [
    "inf = 0\n",
    "sup = 0\n",
    "period_int = 1000\n",
    "period_ext = 1000\n",
    "val = values( inf, sup, period_int, period_ext, plasma_length/dz )\n",
    "longitudinal_position = val*dz"
   ]
  },
  {
   "cell_type": "code",
   "execution_count": 7,
   "metadata": {
    "collapsed": true
   },
   "outputs": [],
   "source": [
    "N6 = np.empty(len(val),dtype=\"S100\")\n",
    "N7 = np.empty(len(val),dtype=\"S100\")\n",
    "H = np.empty(len(val),dtype=\"S100\")\n",
    "\n",
    "# Initialize file names\n",
    "for i, v in enumerate(val):\n",
    "    N6[i] = dir_path + \"N6%06d.pdb\" %v\n",
    "    N7[i] = dir_path + \"N7%06d.pdb\" %v\n",
    "    H[i] = dir_path + \"H%06d.pdb\" %v"
   ]
  },
  {
   "cell_type": "code",
   "execution_count": 8,
   "metadata": {
    "collapsed": false
   },
   "outputs": [],
   "source": [
    "debutItInstant = int(2.2e-3/dz/period_int) #round off to the nearest 1000\n",
    "endItInstant = int(2.4e-3/dz/period_int) #round off to the nearest 1000\n",
    "\n",
    "#fileArray is needed for particle tracking module for the looping\n",
    "fileArray_N6 = N6[debutItInstant:endItInstant + 1]\n",
    "fileArray_N7 = N7[debutItInstant:endItInstant + 1]"
   ]
  },
  {
   "cell_type": "markdown",
   "metadata": {},
   "source": [
    "#Instantiating particles of the last position\n",
    "We instantiate the particles of the last position and in the following cell, we choose particles of our interest based on their $\\gamma$ and ROI (Region of Interest)."
   ]
  },
  {
   "cell_type": "code",
   "execution_count": 9,
   "metadata": {
    "collapsed": false
   },
   "outputs": [
    {
     "name": "stdout",
     "output_type": "stream",
     "text": [
      "** Processing ** Particles: Initialisation of /Volumes/Orsay/circ_a01.1_foc1.9mm_400um_dens7.8_nzplambda20/data/N6060000.pdb **\n",
      "** Processing ** Particles: Initialisation of /Volumes/Orsay/circ_a01.1_foc1.9mm_400um_dens7.8_nzplambda20/data/N7060000.pdb **\n"
     ]
    }
   ],
   "source": [
    "N66 = ParticleInstant(N6[ endItInstant  ])\n",
    "N77 = ParticleInstant(N7[ endItInstant  ])\n",
    "qdict = N66.get_qdict() ###qdict is normally the same for all particle quantities"
   ]
  },
  {
   "cell_type": "code",
   "execution_count": 10,
   "metadata": {
    "collapsed": false
   },
   "outputs": [],
   "source": [
    "# we choose particles which have a gamma threshold between 40 to 400 \n",
    "# and situated in the first accelerating bucket \n",
    "cPN6 = N66.select( gamma_threshold = [40,200] )\n",
    "cPN7 = N77.select( gamma_threshold = [40,200] )"
   ]
  },
  {
   "cell_type": "markdown",
   "metadata": {},
   "source": [
    "#Running Particle Tracking "
   ]
  },
  {
   "cell_type": "code",
   "execution_count": 11,
   "metadata": {
    "collapsed": false
   },
   "outputs": [
    {
     "name": "stdout",
     "output_type": "stream",
     "text": [
      "A file named TrParticles_N6.hdf5 in /Users/pmlee/Documents/LPA_PDB_diagnostics/quickstart_notebook/result/ is created.\n",
      "{3216856877406513.0: 1, 3313362588065450.0: 3, 3345531160766404.0: 4, 3281194017291621.0: 2, 3216856877397846.0: 0}\n",
      "Running particle tracking algorithm. This may take a while...\n",
      "** Processing ** Particles: Initialisation of /Volumes/Orsay/circ_a01.1_foc1.9mm_400um_dens7.8_nzplambda20/data/N6059000.pdb **\n",
      "** Processing ** Particles: Initialisation of /Volumes/Orsay/circ_a01.1_foc1.9mm_400um_dens7.8_nzplambda20/data/N6058000.pdb **\n",
      "** Processing ** Particles: Initialisation of /Volumes/Orsay/circ_a01.1_foc1.9mm_400um_dens7.8_nzplambda20/data/N6057000.pdb **\n",
      "** Processing ** Particles: Initialisation of /Volumes/Orsay/circ_a01.1_foc1.9mm_400um_dens7.8_nzplambda20/data/N6056000.pdb **\n",
      "** Processing ** Particles: Initialisation of /Volumes/Orsay/circ_a01.1_foc1.9mm_400um_dens7.8_nzplambda20/data/N6055000.pdb **\n",
      "** Writing is done **\n"
     ]
    }
   ],
   "source": [
    "PN6 = ParticleTracking( fileArray_N6, cPN6, \"N6\", NUM_TRACKED_PARTICLES = 2 )\n",
    "PN6.run()"
   ]
  },
  {
   "cell_type": "code",
   "execution_count": 12,
   "metadata": {
    "collapsed": false
   },
   "outputs": [],
   "source": [
    "#PN7 = ParticleTracking( fileArray_N7, cPN7, \"N7\", NUM_TRACKED_PARTICLES = 10000 )\n",
    "#PN7.run()"
   ]
  }
 ],
 "metadata": {
  "kernelspec": {
   "display_name": "Python 2",
   "language": "python",
   "name": "python2"
  },
  "language_info": {
   "codemirror_mode": {
    "name": "ipython",
    "version": 2
   },
   "file_extension": ".py",
   "mimetype": "text/x-python",
   "name": "python",
   "nbconvert_exporter": "python",
   "pygments_lexer": "ipython2",
   "version": "2.7.9"
  }
 },
 "nbformat": 4,
 "nbformat_minor": 0
}
