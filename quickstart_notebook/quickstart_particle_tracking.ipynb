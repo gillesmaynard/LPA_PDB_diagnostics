{
 "cells": [
  {
   "cell_type": "markdown",
   "metadata": {},
   "source": [
    "This notebook manages particle tracking module. It sets up the environment, then saves the particles in HDF5 files."
   ]
  },
  {
   "cell_type": "code",
   "execution_count": 1,
   "metadata": {
    "collapsed": false
   },
   "outputs": [],
   "source": [
    "import numpy as np\n",
    "import pylab as plt\n",
    "from lpa_pdb_diagnostics import *\n",
    "from scipy.constants import e, c, m_e, epsilon_0\n",
    "import os\n",
    "import matplotlib\n",
    "%matplotlib inline"
   ]
  },
  {
   "cell_type": "markdown",
   "metadata": {},
   "source": [
    "#Setting up directories\n",
    "Setting up directories to fetch data and the output directory for results."
   ]
  },
  {
   "cell_type": "code",
   "execution_count": 2,
   "metadata": {
    "collapsed": true
   },
   "outputs": [],
   "source": [
    "dir_path = \"/Volumes/Orsay/circ_a01.1_foc1.9mm_400um_dens7.8_nzplambda20/data/\"\n",
    "#dir_path = os.getcwd() + \"/data/\""
   ]
  },
  {
   "cell_type": "code",
   "execution_count": 3,
   "metadata": {
    "collapsed": false
   },
   "outputs": [],
   "source": [
    "res_path = config.result_path"
   ]
  },
  {
   "cell_type": "markdown",
   "metadata": {},
   "source": [
    "#Laser plasma parameters"
   ]
  },
  {
   "cell_type": "code",
   "execution_count": 4,
   "metadata": {
    "collapsed": true
   },
   "outputs": [],
   "source": [
    "# Some definitions of the laser plasma parameters\n",
    "lambda0 = 0.8e-6\n",
    "w0 = 2*np.pi*c/lambda0\n",
    "laser_waist = 17e-6\n",
    "plasma_dens = 7.8e24\n",
    "plasma_length = 2.4e-3\n",
    "wp = np.sqrt(plasma_dens * e**2/ (epsilon_0 * m_e))\n",
    "lambda_plasma = 2*np.pi*c/wp"
   ]
  },
  {
   "cell_type": "markdown",
   "metadata": {},
   "source": [
    "#Numerical parameters"
   ]
  },
  {
   "cell_type": "code",
   "execution_count": 5,
   "metadata": {
    "collapsed": true
   },
   "outputs": [],
   "source": [
    "zmax = 2*lambda0\n",
    "zmin = zmax - 6*lambda_plasma\n",
    "nzplambda = 20\n",
    "w_size = zmax - zmin\n",
    "Nz = int(w_size*nzplambda/lambda0)\n",
    "dz = w_size/Nz"
   ]
  },
  {
   "cell_type": "markdown",
   "metadata": {
    "collapsed": false,
    "scrolled": true
   },
   "source": [
    "#Generating file array \n",
    "We choose to only do particle tracking on N6 and N7 electrons. Other electrons can also be written in the same way."
   ]
  },
  {
   "cell_type": "code",
   "execution_count": 6,
   "metadata": {
    "collapsed": false
   },
   "outputs": [
    {
     "name": "stderr",
     "output_type": "stream",
     "text": [
      "/anaconda/lib/python2.7/site-packages/IPython/kernel/__main__.py:6: VisibleDeprecationWarning: using a non-integer number instead of an integer will result in an error in the future\n"
     ]
    }
   ],
   "source": [
    "inf = 0\n",
    "sup = 0\n",
    "period_int = 1000\n",
    "period_ext = 1000\n",
    "val = values( inf, sup, period_int, period_ext, plasma_length/dz )\n",
    "longitudinal_position = val*dz"
   ]
  },
  {
   "cell_type": "code",
   "execution_count": 7,
   "metadata": {
    "collapsed": true
   },
   "outputs": [],
   "source": [
    "N6 = np.empty(len(val),dtype=\"S100\")\n",
    "N7 = np.empty(len(val),dtype=\"S100\")\n",
    "H = np.empty(len(val),dtype=\"S100\")\n",
    "\n",
    "# Initialize file names\n",
    "for i, v in enumerate(val):\n",
    "    N6[i] = dir_path + \"N6%06d.pdb\" %v\n",
    "    N7[i] = dir_path + \"N7%06d.pdb\" %v\n",
    "    H[i] = dir_path + \"H%06d.pdb\" %v"
   ]
  },
  {
   "cell_type": "code",
   "execution_count": 8,
   "metadata": {
    "collapsed": false
   },
   "outputs": [],
   "source": [
    "debutItInstant = int(2.2e-3/dz/period_int) #round off to the nearest 1000\n",
    "endItInstant = int(2.4e-3/dz/period_int) #round off to the nearest 1000\n",
    "\n",
    "#fileArray is needed for particle tracking module for the looping\n",
    "fileArray_N6 = N6[debutItInstant:endItInstant + 1]\n",
    "fileArray_N7 = N7[debutItInstant:endItInstant + 1]"
   ]
  },
  {
   "cell_type": "markdown",
   "metadata": {},
   "source": [
    "#Instantiating particles of the last position\n",
    "We instantiate the particles of the last position and in the following cell, we choose particles of our interest based on their $\\gamma$ and ROI (Region of Interest)."
   ]
  },
  {
   "cell_type": "code",
   "execution_count": 9,
   "metadata": {
    "collapsed": false
   },
   "outputs": [
    {
     "name": "stdout",
     "output_type": "stream",
     "text": [
      "** Processing ** Particles: Initialisation of /Volumes/Orsay/circ_a01.1_foc1.9mm_400um_dens7.8_nzplambda20/data/N6060000.pdb **\n",
      "** Processing ** Particles: Initialisation of /Volumes/Orsay/circ_a01.1_foc1.9mm_400um_dens7.8_nzplambda20/data/N7060000.pdb **\n"
     ]
    }
   ],
   "source": [
    "N66 = ParticleInstant(N6[ endItInstant  ])\n",
    "N77 = ParticleInstant(N7[ endItInstant  ])\n",
    "qdict = N66.get_qdict() ###qdict is normally the same for all particle quantities"
   ]
  },
  {
   "cell_type": "code",
   "execution_count": 10,
   "metadata": {
    "collapsed": false
   },
   "outputs": [],
   "source": [
    "# we choose particles which have a gamma threshold between 40 to 400 \n",
    "# and situated in the first accelerating bucket \n",
    "cPN6 = N66.select( gamma_threshold = [40,200] )\n",
    "cPN7 = N77.select( gamma_threshold = [40,200] )"
   ]
  },
  {
   "cell_type": "markdown",
   "metadata": {},
   "source": [
    "#Running Particle Tracking "
   ]
  },
  {
   "cell_type": "code",
   "execution_count": 11,
   "metadata": {
    "collapsed": false
   },
   "outputs": [
    {
     "name": "stdout",
     "output_type": "stream",
     "text": [
      "A file named TrParticles_N6.hdf5 in /Users/pmlee/Documents/LPA_PDB_diagnostics/quickstart_notebook/result/ is created.\n",
      "Running particle tracking algorithm. This may take a while...\n",
      "** Processing ** Particles: Initialisation of /Volumes/Orsay/circ_a01.1_foc1.9mm_400um_dens7.8_nzplambda20/data/N6059000.pdb **\n",
      "> /Users/pmlee/Documents/LPA_PDB_diagnostics/quickstart_notebook/build/bdist.macosx-10.5-x86_64/egg/lpa_pdb_diagnostics/particle_tracking.py(160)run()\n",
      "-> if len(self.particle_buffer[ssn_dict[ssn]]) == 0:\n",
      "(Pdb) reshaped_current_chosen_particles\n",
      "array([[  3.21685688e+15],\n",
      "       [  1.16493510e-03],\n",
      "       [ -1.16807697e-05],\n",
      "       [ -4.03010362e-05],\n",
      "       [  2.24086711e-03],\n",
      "       [ -8.37871537e-01],\n",
      "       [ -3.16894711e+00],\n",
      "       [  4.58386116e+00],\n",
      "       [  4.96242963e+00],\n",
      "       [ -2.80405721e+10],\n",
      "       [ -2.80367910e+11],\n",
      "       [ -1.31768814e+08],\n",
      "       [ -9.05254615e+02],\n",
      "       [ -9.67250751e+01],\n",
      "       [ -1.26873434e+00]])\n",
      "(Pdb) self.particle_buffer[ssn_dict[ssn]]\n",
      "array([[  3.21685688e+15],\n",
      "       [  4.20628455e-04],\n",
      "       [  4.50734465e-08],\n",
      "       [  1.25291429e-06],\n",
      "       [  2.33829772e-03],\n",
      "       [ -1.87067084e-02],\n",
      "       [  1.06971751e+00],\n",
      "       [  1.18853086e+02],\n",
      "       [  1.18917288e+02],\n",
      "       [ -3.28241110e+09],\n",
      "       [ -9.74448427e+10],\n",
      "       [  2.71598304e+09],\n",
      "       [ -1.81025153e+01],\n",
      "       [ -1.09780568e+01],\n",
      "       [ -3.59058103e-02]])\n",
      "(Pdb) c\n",
      "> /Users/pmlee/Documents/LPA_PDB_diagnostics/quickstart_notebook/build/bdist.macosx-10.5-x86_64/egg/lpa_pdb_diagnostics/particle_tracking.py(149)run()\n",
      "-> for i, ssn in enumerate( previous_ssn ) :\n",
      "(Pdb) reshaped_current_chosen_particles\n",
      "array([[  3.21685688e+15],\n",
      "       [  1.16493510e-03],\n",
      "       [ -1.16807697e-05],\n",
      "       [ -4.03010362e-05],\n",
      "       [  2.24086711e-03],\n",
      "       [ -8.37871537e-01],\n",
      "       [ -3.16894711e+00],\n",
      "       [  4.58386116e+00],\n",
      "       [  4.96242963e+00],\n",
      "       [ -2.80405721e+10],\n",
      "       [ -2.80367910e+11],\n",
      "       [ -1.31768814e+08],\n",
      "       [ -9.05254615e+02],\n",
      "       [ -9.67250751e+01],\n",
      "       [ -1.26873434e+00]])\n",
      "(Pdb) self.particle_buffer[ssn_dict[ssn]]\n",
      "array([[  3.21685688e+15,   3.21685688e+15],\n",
      "       [  4.20628455e-04,   1.16493510e-03],\n",
      "       [  4.50734465e-08,  -1.16807697e-05],\n",
      "       [  1.25291429e-06,  -4.03010362e-05],\n",
      "       [  2.33829772e-03,   2.24086711e-03],\n",
      "       [ -1.87067084e-02,  -8.37871537e-01],\n",
      "       [  1.06971751e+00,  -3.16894711e+00],\n",
      "       [  1.18853086e+02,   4.58386116e+00],\n",
      "       [  1.18917288e+02,   4.96242963e+00],\n",
      "       [ -3.28241110e+09,  -2.80405721e+10],\n",
      "       [ -9.74448427e+10,  -2.80367910e+11],\n",
      "       [  2.71598304e+09,  -1.31768814e+08],\n",
      "       [ -1.81025153e+01,  -9.05254615e+02],\n",
      "       [ -1.09780568e+01,  -9.67250751e+01],\n",
      "       [ -3.59058103e-02,  -1.26873434e+00]])\n",
      "(Pdb) self.particle_buffer\n",
      "[array([[  3.21685688e+15,   3.21685688e+15],\n",
      "       [  4.20628455e-04,   1.16493510e-03],\n",
      "       [  4.50734465e-08,  -1.16807697e-05],\n",
      "       [  1.25291429e-06,  -4.03010362e-05],\n",
      "       [  2.33829772e-03,   2.24086711e-03],\n",
      "       [ -1.87067084e-02,  -8.37871537e-01],\n",
      "       [  1.06971751e+00,  -3.16894711e+00],\n",
      "       [  1.18853086e+02,   4.58386116e+00],\n",
      "       [  1.18917288e+02,   4.96242963e+00],\n",
      "       [ -3.28241110e+09,  -2.80405721e+10],\n",
      "       [ -9.74448427e+10,  -2.80367910e+11],\n",
      "       [  2.71598304e+09,  -1.31768814e+08],\n",
      "       [ -1.81025153e+01,  -9.05254615e+02],\n",
      "       [ -1.09780568e+01,  -9.67250751e+01],\n",
      "       [ -3.59058103e-02,  -1.26873434e+00]]), array([[  3.31336259e+15],\n",
      "       [  3.93632427e-03],\n",
      "       [  2.10807819e-07],\n",
      "       [  9.69763284e-06],\n",
      "       [  2.33875274e-03],\n",
      "       [  1.54353403e-02],\n",
      "       [  3.77691099e+00],\n",
      "       [  1.27440286e+02],\n",
      "       [  1.27448700e+02],\n",
      "       [ -2.36139575e+08],\n",
      "       [  5.61279959e+09],\n",
      "       [  5.50729622e+09],\n",
      "       [  3.24745517e+02],\n",
      "       [ -7.66332686e-01],\n",
      "       [  3.72738558e-01]])]\n",
      "(Pdb) c\n",
      "> /Users/pmlee/Documents/LPA_PDB_diagnostics/quickstart_notebook/build/bdist.macosx-10.5-x86_64/egg/lpa_pdb_diagnostics/particle_tracking.py(160)run()\n",
      "-> if len(self.particle_buffer[ssn_dict[ssn]]) == 0:\n",
      "(Pdb) reshaped_current_chosen_particles\n",
      "array([[  3.31336259e+15],\n",
      "       [  8.68924415e-03],\n",
      "       [ -1.13063316e-07],\n",
      "       [ -9.40570724e-07],\n",
      "       [  2.29610782e-03],\n",
      "       [ -4.71334540e-02],\n",
      "       [ -4.86627871e-01],\n",
      "       [  1.20037366e+02],\n",
      "       [  1.20063846e+02],\n",
      "       [ -1.83592781e+08],\n",
      "       [ -2.24526579e+09],\n",
      "       [  5.42749783e+09],\n",
      "       [ -7.34730351e+00],\n",
      "       [ -5.88541631e-01],\n",
      "       [ -3.58708853e-02]])\n",
      "(Pdb) self.particle_buffer[ssn_dict[ssn]]\n",
      "array([[  3.31336259e+15],\n",
      "       [  3.93632427e-03],\n",
      "       [  2.10807819e-07],\n",
      "       [  9.69763284e-06],\n",
      "       [  2.33875274e-03],\n",
      "       [  1.54353403e-02],\n",
      "       [  3.77691099e+00],\n",
      "       [  1.27440286e+02],\n",
      "       [  1.27448700e+02],\n",
      "       [ -2.36139575e+08],\n",
      "       [  5.61279959e+09],\n",
      "       [  5.50729622e+09],\n",
      "       [  3.24745517e+02],\n",
      "       [ -7.66332686e-01],\n",
      "       [  3.72738558e-01]])\n",
      "(Pdb) c\n",
      "> /Users/pmlee/Documents/LPA_PDB_diagnostics/quickstart_notebook/build/bdist.macosx-10.5-x86_64/egg/lpa_pdb_diagnostics/particle_tracking.py(149)run()\n",
      "-> for i, ssn in enumerate( previous_ssn ) :\n",
      "(Pdb) self.particle_buffer[ssn_dict[ssn]]\n",
      "array([[  3.31336259e+15,   3.31336259e+15],\n",
      "       [  3.93632427e-03,   8.68924415e-03],\n",
      "       [  2.10807819e-07,  -1.13063316e-07],\n",
      "       [  9.69763284e-06,  -9.40570724e-07],\n",
      "       [  2.33875274e-03,   2.29610782e-03],\n",
      "       [  1.54353403e-02,  -4.71334540e-02],\n",
      "       [  3.77691099e+00,  -4.86627871e-01],\n",
      "       [  1.27440286e+02,   1.20037366e+02],\n",
      "       [  1.27448700e+02,   1.20063846e+02],\n",
      "       [ -2.36139575e+08,  -1.83592781e+08],\n",
      "       [  5.61279959e+09,  -2.24526579e+09],\n",
      "       [  5.50729622e+09,   5.42749783e+09],\n",
      "       [  3.24745517e+02,  -7.34730351e+00],\n",
      "       [ -7.66332686e-01,  -5.88541631e-01],\n",
      "       [  3.72738558e-01,  -3.58708853e-02]])\n",
      "(Pdb) c\n",
      "in the loop of particle tracking\n",
      "** Processing ** Particles: Initialisation of /Volumes/Orsay/circ_a01.1_foc1.9mm_400um_dens7.8_nzplambda20/data/N6058000.pdb **\n",
      "> /Users/pmlee/Documents/LPA_PDB_diagnostics/quickstart_notebook/build/bdist.macosx-10.5-x86_64/egg/lpa_pdb_diagnostics/particle_tracking.py(160)run()\n",
      "-> if len(self.particle_buffer[ssn_dict[ssn]]) == 0:\n",
      "(Pdb) self.particle_buffer\n",
      "[[], []]\n",
      "(Pdb) self.particle_buffer[0[0]\n",
      "*** SyntaxError: unexpected EOF while parsing (<stdin>, line 1)\n",
      "(Pdb) self.particle_buffer[0]\n",
      "[]\n",
      "(Pdb) c\n",
      "> /Users/pmlee/Documents/LPA_PDB_diagnostics/quickstart_notebook/build/bdist.macosx-10.5-x86_64/egg/lpa_pdb_diagnostics/particle_tracking.py(149)run()\n",
      "-> for i, ssn in enumerate( previous_ssn ) :\n",
      "(Pdb) c\n",
      "> /Users/pmlee/Documents/LPA_PDB_diagnostics/quickstart_notebook/build/bdist.macosx-10.5-x86_64/egg/lpa_pdb_diagnostics/particle_tracking.py(160)run()\n",
      "-> if len(self.particle_buffer[ssn_dict[ssn]]) == 0:\n",
      "(Pdb) c\n",
      "> /Users/pmlee/Documents/LPA_PDB_diagnostics/quickstart_notebook/build/bdist.macosx-10.5-x86_64/egg/lpa_pdb_diagnostics/particle_tracking.py(149)run()\n",
      "-> for i, ssn in enumerate( previous_ssn ) :\n",
      "(Pdb) c\n",
      "** Processing ** Particles: Initialisation of /Volumes/Orsay/circ_a01.1_foc1.9mm_400um_dens7.8_nzplambda20/data/N6057000.pdb **\n",
      "> /Users/pmlee/Documents/LPA_PDB_diagnostics/quickstart_notebook/build/bdist.macosx-10.5-x86_64/egg/lpa_pdb_diagnostics/particle_tracking.py(160)run()\n",
      "-> if len(self.particle_buffer[ssn_dict[ssn]]) == 0:\n",
      "(Pdb) self.particle_buffer\n",
      "[array([[  3.21685688e+15],\n",
      "       [  1.04890447e-03],\n",
      "       [ -2.06485349e-05],\n",
      "       [ -5.78320573e-05],\n",
      "       [  2.20038644e-03],\n",
      "       [ -9.47449444e-01],\n",
      "       [ -2.98175861e+00],\n",
      "       [  4.11104180e+00],\n",
      "       [  4.49595176e+00],\n",
      "       [ -3.12496887e+10],\n",
      "       [ -2.97499124e+11],\n",
      "       [ -1.60106298e+07],\n",
      "       [ -9.71383232e+02],\n",
      "       [ -1.08964094e+02],\n",
      "       [ -1.33055749e+00]]), array([[  3.31336259e+15],\n",
      "       [  8.22702123e-03],\n",
      "       [ -1.40658886e-07],\n",
      "       [ -1.00439698e-06],\n",
      "       [  2.25621841e-03],\n",
      "       [ -5.97050138e-02],\n",
      "       [ -5.74688885e-01],\n",
      "       [  1.15810086e+02],\n",
      "       [  1.15831172e+02],\n",
      "       [ -1.82348705e+08],\n",
      "       [ -2.05123023e+09],\n",
      "       [  5.97585064e+09],\n",
      "       [ -6.39495270e+00],\n",
      "       [ -6.07509344e-01],\n",
      "       [ -3.36402028e-02]])]\n",
      "(Pdb) c\n",
      "> /Users/pmlee/Documents/LPA_PDB_diagnostics/quickstart_notebook/build/bdist.macosx-10.5-x86_64/egg/lpa_pdb_diagnostics/particle_tracking.py(149)run()\n",
      "-> for i, ssn in enumerate( previous_ssn ) :\n",
      "(Pdb) c\n",
      "> /Users/pmlee/Documents/LPA_PDB_diagnostics/quickstart_notebook/build/bdist.macosx-10.5-x86_64/egg/lpa_pdb_diagnostics/particle_tracking.py(160)run()\n",
      "-> if len(self.particle_buffer[ssn_dict[ssn]]) == 0:\n",
      "(Pdb) c\n",
      "> /Users/pmlee/Documents/LPA_PDB_diagnostics/quickstart_notebook/build/bdist.macosx-10.5-x86_64/egg/lpa_pdb_diagnostics/particle_tracking.py(149)run()\n",
      "-> for i, ssn in enumerate( previous_ssn ) :\n",
      "(Pdb) c\n",
      "** Processing ** Particles: Initialisation of /Volumes/Orsay/circ_a01.1_foc1.9mm_400um_dens7.8_nzplambda20/data/N6056000.pdb **\n",
      "> /Users/pmlee/Documents/LPA_PDB_diagnostics/quickstart_notebook/build/bdist.macosx-10.5-x86_64/egg/lpa_pdb_diagnostics/particle_tracking.py(160)run()\n",
      "-> if len(self.particle_buffer[ssn_dict[ssn]]) == 0:\n",
      "(Pdb) self.particle_buffer\n",
      "[array([[  3.21685688e+15,   3.21685688e+15],\n",
      "       [  1.04890447e-03,   7.43689996e-04],\n",
      "       [ -2.06485349e-05,  -3.21005246e-05],\n",
      "       [ -5.78320573e-05,  -7.51690742e-05],\n",
      "       [  2.20038644e-03,   2.16007727e-03],\n",
      "       [ -9.47449444e-01,  -1.08534337e+00],\n",
      "       [ -2.98175861e+00,  -2.89029678e+00],\n",
      "       [  4.11104180e+00,   3.30991709e+00],\n",
      "       [  4.49595176e+00,   3.74676156e+00],\n",
      "       [ -3.12496887e+10,  -3.54249096e+10],\n",
      "       [ -2.97499124e+11,  -3.15764671e+11],\n",
      "       [ -1.60106298e+07,  -7.49020750e+06],\n",
      "       [ -9.71383232e+02,  -1.04748467e+03],\n",
      "       [ -1.08964094e+02,  -1.24346893e+02],\n",
      "       [ -1.33055749e+00,  -1.44558453e+00]]), array([[  3.31336259e+15,   3.31336259e+15],\n",
      "       [  8.22702123e-03,   7.58422230e-03],\n",
      "       [ -1.40658886e-07,  -1.91792508e-07],\n",
      "       [ -1.00439698e-06,  -1.12772833e-06],\n",
      "       [  2.25621841e-03,   2.21562963e-03],\n",
      "       [ -5.97050138e-02,  -8.07689961e-02],\n",
      "       [ -5.74688885e-01,  -6.81194043e-01],\n",
      "       [  1.15810086e+02,   6.13210253e+01],\n",
      "       [  1.15831172e+02,   6.13358481e+01],\n",
      "       [ -1.82348705e+08,  -1.69852017e+08],\n",
      "       [ -2.05123023e+09,  -1.93328689e+09],\n",
      "       [  5.97585064e+09,   6.12007201e+09],\n",
      "       [ -6.39495270e+00,  -6.04860155e+00],\n",
      "       [ -6.07509344e-01,  -6.40834600e-01],\n",
      "       [ -3.36402028e-02,  -3.61251489e-02]])]\n",
      "(Pdb) c\n",
      "> /Users/pmlee/Documents/LPA_PDB_diagnostics/quickstart_notebook/build/bdist.macosx-10.5-x86_64/egg/lpa_pdb_diagnostics/particle_tracking.py(149)run()\n",
      "-> for i, ssn in enumerate( previous_ssn ) :\n",
      "(Pdb) c\n",
      "> /Users/pmlee/Documents/LPA_PDB_diagnostics/quickstart_notebook/build/bdist.macosx-10.5-x86_64/egg/lpa_pdb_diagnostics/particle_tracking.py(160)run()\n",
      "-> if len(self.particle_buffer[ssn_dict[ssn]]) == 0:\n",
      "(Pdb) c\n",
      "> /Users/pmlee/Documents/LPA_PDB_diagnostics/quickstart_notebook/build/bdist.macosx-10.5-x86_64/egg/lpa_pdb_diagnostics/particle_tracking.py(149)run()\n",
      "-> for i, ssn in enumerate( previous_ssn ) :\n",
      "(Pdb) c\n",
      "** Processing ** Particles: Initialisation of /Volumes/Orsay/circ_a01.1_foc1.9mm_400um_dens7.8_nzplambda20/data/N6055000.pdb **\n",
      "> /Users/pmlee/Documents/LPA_PDB_diagnostics/quickstart_notebook/build/bdist.macosx-10.5-x86_64/egg/lpa_pdb_diagnostics/particle_tracking.py(160)run()\n",
      "-> if len(self.particle_buffer[ssn_dict[ssn]]) == 0:\n"
     ]
    },
    {
     "ename": "KeyboardInterrupt",
     "evalue": "",
     "output_type": "error",
     "traceback": [
      "\u001b[0;31m---------------------------------------------------------------------------\u001b[0m",
      "\u001b[0;31mKeyboardInterrupt\u001b[0m                         Traceback (most recent call last)",
      "\u001b[0;32m<ipython-input-11-e14c4a21f95e>\u001b[0m in \u001b[0;36m<module>\u001b[0;34m()\u001b[0m\n\u001b[1;32m      1\u001b[0m \u001b[0mPN6\u001b[0m \u001b[0;34m=\u001b[0m \u001b[0mParticleTracking\u001b[0m\u001b[0;34m(\u001b[0m \u001b[0mfileArray_N6\u001b[0m\u001b[0;34m,\u001b[0m \u001b[0mcPN6\u001b[0m\u001b[0;34m,\u001b[0m \u001b[0;34m\"N6\"\u001b[0m\u001b[0;34m,\u001b[0m \u001b[0mNUM_TRACKED_PARTICLES\u001b[0m \u001b[0;34m=\u001b[0m \u001b[0;36m2\u001b[0m \u001b[0;34m)\u001b[0m\u001b[0;34m\u001b[0m\u001b[0m\n\u001b[0;32m----> 2\u001b[0;31m \u001b[0mPN6\u001b[0m\u001b[0;34m.\u001b[0m\u001b[0mrun\u001b[0m\u001b[0;34m(\u001b[0m\u001b[0;34m)\u001b[0m\u001b[0;34m\u001b[0m\u001b[0m\n\u001b[0m",
      "\u001b[0;32m//anaconda/lib/python2.7/site-packages/lpa_pdb_diagnostics-0.0.0-py2.7.egg/lpa_pdb_diagnostics/particle_tracking.pyc\u001b[0m in \u001b[0;36mrun\u001b[0;34m(self)\u001b[0m\n\u001b[1;32m    158\u001b[0m                             (self.num_quantities, 1))\n\u001b[1;32m    159\u001b[0m                     \u001b[0mpdb\u001b[0m\u001b[0;34m.\u001b[0m\u001b[0mset_trace\u001b[0m\u001b[0;34m(\u001b[0m\u001b[0;34m)\u001b[0m\u001b[0;34m\u001b[0m\u001b[0m\n\u001b[0;32m--> 160\u001b[0;31m                     \u001b[0;32mif\u001b[0m \u001b[0mlen\u001b[0m\u001b[0;34m(\u001b[0m\u001b[0mself\u001b[0m\u001b[0;34m.\u001b[0m\u001b[0mparticle_buffer\u001b[0m\u001b[0;34m[\u001b[0m\u001b[0mssn_dict\u001b[0m\u001b[0;34m[\u001b[0m\u001b[0mssn\u001b[0m\u001b[0;34m]\u001b[0m\u001b[0;34m]\u001b[0m\u001b[0;34m)\u001b[0m \u001b[0;34m==\u001b[0m \u001b[0;36m0\u001b[0m\u001b[0;34m:\u001b[0m\u001b[0;34m\u001b[0m\u001b[0m\n\u001b[0m\u001b[1;32m    161\u001b[0m                         \u001b[0mself\u001b[0m\u001b[0;34m.\u001b[0m\u001b[0mparticle_buffer\u001b[0m\u001b[0;34m[\u001b[0m\u001b[0mssn_dict\u001b[0m\u001b[0;34m[\u001b[0m\u001b[0mssn\u001b[0m\u001b[0;34m]\u001b[0m\u001b[0;34m]\u001b[0m \u001b[0;34m=\u001b[0m\u001b[0;31m \u001b[0m\u001b[0;31m\\\u001b[0m\u001b[0;34m\u001b[0m\u001b[0m\n\u001b[1;32m    162\u001b[0m                             \u001b[0mreshaped_current_chosen_particles\u001b[0m\u001b[0;34m\u001b[0m\u001b[0m\n",
      "\u001b[0;32m//anaconda/lib/python2.7/site-packages/lpa_pdb_diagnostics-0.0.0-py2.7.egg/lpa_pdb_diagnostics/particle_tracking.pyc\u001b[0m in \u001b[0;36mrun\u001b[0;34m(self)\u001b[0m\n\u001b[1;32m    158\u001b[0m                             (self.num_quantities, 1))\n\u001b[1;32m    159\u001b[0m                     \u001b[0mpdb\u001b[0m\u001b[0;34m.\u001b[0m\u001b[0mset_trace\u001b[0m\u001b[0;34m(\u001b[0m\u001b[0;34m)\u001b[0m\u001b[0;34m\u001b[0m\u001b[0m\n\u001b[0;32m--> 160\u001b[0;31m                     \u001b[0;32mif\u001b[0m \u001b[0mlen\u001b[0m\u001b[0;34m(\u001b[0m\u001b[0mself\u001b[0m\u001b[0;34m.\u001b[0m\u001b[0mparticle_buffer\u001b[0m\u001b[0;34m[\u001b[0m\u001b[0mssn_dict\u001b[0m\u001b[0;34m[\u001b[0m\u001b[0mssn\u001b[0m\u001b[0;34m]\u001b[0m\u001b[0;34m]\u001b[0m\u001b[0;34m)\u001b[0m \u001b[0;34m==\u001b[0m \u001b[0;36m0\u001b[0m\u001b[0;34m:\u001b[0m\u001b[0;34m\u001b[0m\u001b[0m\n\u001b[0m\u001b[1;32m    161\u001b[0m                         \u001b[0mself\u001b[0m\u001b[0;34m.\u001b[0m\u001b[0mparticle_buffer\u001b[0m\u001b[0;34m[\u001b[0m\u001b[0mssn_dict\u001b[0m\u001b[0;34m[\u001b[0m\u001b[0mssn\u001b[0m\u001b[0;34m]\u001b[0m\u001b[0;34m]\u001b[0m \u001b[0;34m=\u001b[0m\u001b[0;31m \u001b[0m\u001b[0;31m\\\u001b[0m\u001b[0;34m\u001b[0m\u001b[0m\n\u001b[1;32m    162\u001b[0m                             \u001b[0mreshaped_current_chosen_particles\u001b[0m\u001b[0;34m\u001b[0m\u001b[0m\n",
      "\u001b[0;32m//anaconda/lib/python2.7/bdb.pyc\u001b[0m in \u001b[0;36mtrace_dispatch\u001b[0;34m(self, frame, event, arg)\u001b[0m\n\u001b[1;32m     47\u001b[0m             \u001b[0;32mreturn\u001b[0m \u001b[0;31m# None\u001b[0m\u001b[0;34m\u001b[0m\u001b[0m\n\u001b[1;32m     48\u001b[0m         \u001b[0;32mif\u001b[0m \u001b[0mevent\u001b[0m \u001b[0;34m==\u001b[0m \u001b[0;34m'line'\u001b[0m\u001b[0;34m:\u001b[0m\u001b[0;34m\u001b[0m\u001b[0m\n\u001b[0;32m---> 49\u001b[0;31m             \u001b[0;32mreturn\u001b[0m \u001b[0mself\u001b[0m\u001b[0;34m.\u001b[0m\u001b[0mdispatch_line\u001b[0m\u001b[0;34m(\u001b[0m\u001b[0mframe\u001b[0m\u001b[0;34m)\u001b[0m\u001b[0;34m\u001b[0m\u001b[0m\n\u001b[0m\u001b[1;32m     50\u001b[0m         \u001b[0;32mif\u001b[0m \u001b[0mevent\u001b[0m \u001b[0;34m==\u001b[0m \u001b[0;34m'call'\u001b[0m\u001b[0;34m:\u001b[0m\u001b[0;34m\u001b[0m\u001b[0m\n\u001b[1;32m     51\u001b[0m             \u001b[0;32mreturn\u001b[0m \u001b[0mself\u001b[0m\u001b[0;34m.\u001b[0m\u001b[0mdispatch_call\u001b[0m\u001b[0;34m(\u001b[0m\u001b[0mframe\u001b[0m\u001b[0;34m,\u001b[0m \u001b[0marg\u001b[0m\u001b[0;34m)\u001b[0m\u001b[0;34m\u001b[0m\u001b[0m\n",
      "\u001b[0;32m//anaconda/lib/python2.7/bdb.pyc\u001b[0m in \u001b[0;36mdispatch_line\u001b[0;34m(self, frame)\u001b[0m\n\u001b[1;32m     65\u001b[0m     \u001b[0;32mdef\u001b[0m \u001b[0mdispatch_line\u001b[0m\u001b[0;34m(\u001b[0m\u001b[0mself\u001b[0m\u001b[0;34m,\u001b[0m \u001b[0mframe\u001b[0m\u001b[0;34m)\u001b[0m\u001b[0;34m:\u001b[0m\u001b[0;34m\u001b[0m\u001b[0m\n\u001b[1;32m     66\u001b[0m         \u001b[0;32mif\u001b[0m \u001b[0mself\u001b[0m\u001b[0;34m.\u001b[0m\u001b[0mstop_here\u001b[0m\u001b[0;34m(\u001b[0m\u001b[0mframe\u001b[0m\u001b[0;34m)\u001b[0m \u001b[0;32mor\u001b[0m \u001b[0mself\u001b[0m\u001b[0;34m.\u001b[0m\u001b[0mbreak_here\u001b[0m\u001b[0;34m(\u001b[0m\u001b[0mframe\u001b[0m\u001b[0;34m)\u001b[0m\u001b[0;34m:\u001b[0m\u001b[0;34m\u001b[0m\u001b[0m\n\u001b[0;32m---> 67\u001b[0;31m             \u001b[0mself\u001b[0m\u001b[0;34m.\u001b[0m\u001b[0muser_line\u001b[0m\u001b[0;34m(\u001b[0m\u001b[0mframe\u001b[0m\u001b[0;34m)\u001b[0m\u001b[0;34m\u001b[0m\u001b[0m\n\u001b[0m\u001b[1;32m     68\u001b[0m             \u001b[0;32mif\u001b[0m \u001b[0mself\u001b[0m\u001b[0;34m.\u001b[0m\u001b[0mquitting\u001b[0m\u001b[0;34m:\u001b[0m \u001b[0;32mraise\u001b[0m \u001b[0mBdbQuit\u001b[0m\u001b[0;34m\u001b[0m\u001b[0m\n\u001b[1;32m     69\u001b[0m         \u001b[0;32mreturn\u001b[0m \u001b[0mself\u001b[0m\u001b[0;34m.\u001b[0m\u001b[0mtrace_dispatch\u001b[0m\u001b[0;34m\u001b[0m\u001b[0m\n",
      "\u001b[0;32m//anaconda/lib/python2.7/pdb.pyc\u001b[0m in \u001b[0;36muser_line\u001b[0;34m(self, frame)\u001b[0m\n\u001b[1;32m    156\u001b[0m             \u001b[0mself\u001b[0m\u001b[0;34m.\u001b[0m\u001b[0m_wait_for_mainpyfile\u001b[0m \u001b[0;34m=\u001b[0m \u001b[0;36m0\u001b[0m\u001b[0;34m\u001b[0m\u001b[0m\n\u001b[1;32m    157\u001b[0m         \u001b[0;32mif\u001b[0m \u001b[0mself\u001b[0m\u001b[0;34m.\u001b[0m\u001b[0mbp_commands\u001b[0m\u001b[0;34m(\u001b[0m\u001b[0mframe\u001b[0m\u001b[0;34m)\u001b[0m\u001b[0;34m:\u001b[0m\u001b[0;34m\u001b[0m\u001b[0m\n\u001b[0;32m--> 158\u001b[0;31m             \u001b[0mself\u001b[0m\u001b[0;34m.\u001b[0m\u001b[0minteraction\u001b[0m\u001b[0;34m(\u001b[0m\u001b[0mframe\u001b[0m\u001b[0;34m,\u001b[0m \u001b[0mNone\u001b[0m\u001b[0;34m)\u001b[0m\u001b[0;34m\u001b[0m\u001b[0m\n\u001b[0m\u001b[1;32m    159\u001b[0m \u001b[0;34m\u001b[0m\u001b[0m\n\u001b[1;32m    160\u001b[0m     \u001b[0;32mdef\u001b[0m \u001b[0mbp_commands\u001b[0m\u001b[0;34m(\u001b[0m\u001b[0mself\u001b[0m\u001b[0;34m,\u001b[0m\u001b[0mframe\u001b[0m\u001b[0;34m)\u001b[0m\u001b[0;34m:\u001b[0m\u001b[0;34m\u001b[0m\u001b[0m\n",
      "\u001b[0;32m//anaconda/lib/python2.7/pdb.pyc\u001b[0m in \u001b[0;36minteraction\u001b[0;34m(self, frame, traceback)\u001b[0m\n\u001b[1;32m    208\u001b[0m         \u001b[0mself\u001b[0m\u001b[0;34m.\u001b[0m\u001b[0msetup\u001b[0m\u001b[0;34m(\u001b[0m\u001b[0mframe\u001b[0m\u001b[0;34m,\u001b[0m \u001b[0mtraceback\u001b[0m\u001b[0;34m)\u001b[0m\u001b[0;34m\u001b[0m\u001b[0m\n\u001b[1;32m    209\u001b[0m         \u001b[0mself\u001b[0m\u001b[0;34m.\u001b[0m\u001b[0mprint_stack_entry\u001b[0m\u001b[0;34m(\u001b[0m\u001b[0mself\u001b[0m\u001b[0;34m.\u001b[0m\u001b[0mstack\u001b[0m\u001b[0;34m[\u001b[0m\u001b[0mself\u001b[0m\u001b[0;34m.\u001b[0m\u001b[0mcurindex\u001b[0m\u001b[0;34m]\u001b[0m\u001b[0;34m)\u001b[0m\u001b[0;34m\u001b[0m\u001b[0m\n\u001b[0;32m--> 210\u001b[0;31m         \u001b[0mself\u001b[0m\u001b[0;34m.\u001b[0m\u001b[0mcmdloop\u001b[0m\u001b[0;34m(\u001b[0m\u001b[0;34m)\u001b[0m\u001b[0;34m\u001b[0m\u001b[0m\n\u001b[0m\u001b[1;32m    211\u001b[0m         \u001b[0mself\u001b[0m\u001b[0;34m.\u001b[0m\u001b[0mforget\u001b[0m\u001b[0;34m(\u001b[0m\u001b[0;34m)\u001b[0m\u001b[0;34m\u001b[0m\u001b[0m\n\u001b[1;32m    212\u001b[0m \u001b[0;34m\u001b[0m\u001b[0m\n",
      "\u001b[0;32m//anaconda/lib/python2.7/cmd.pyc\u001b[0m in \u001b[0;36mcmdloop\u001b[0;34m(self, intro)\u001b[0m\n\u001b[1;32m    128\u001b[0m                     \u001b[0;32mif\u001b[0m \u001b[0mself\u001b[0m\u001b[0;34m.\u001b[0m\u001b[0muse_rawinput\u001b[0m\u001b[0;34m:\u001b[0m\u001b[0;34m\u001b[0m\u001b[0m\n\u001b[1;32m    129\u001b[0m                         \u001b[0;32mtry\u001b[0m\u001b[0;34m:\u001b[0m\u001b[0;34m\u001b[0m\u001b[0m\n\u001b[0;32m--> 130\u001b[0;31m                             \u001b[0mline\u001b[0m \u001b[0;34m=\u001b[0m \u001b[0mraw_input\u001b[0m\u001b[0;34m(\u001b[0m\u001b[0mself\u001b[0m\u001b[0;34m.\u001b[0m\u001b[0mprompt\u001b[0m\u001b[0;34m)\u001b[0m\u001b[0;34m\u001b[0m\u001b[0m\n\u001b[0m\u001b[1;32m    131\u001b[0m                         \u001b[0;32mexcept\u001b[0m \u001b[0mEOFError\u001b[0m\u001b[0;34m:\u001b[0m\u001b[0;34m\u001b[0m\u001b[0m\n\u001b[1;32m    132\u001b[0m                             \u001b[0mline\u001b[0m \u001b[0;34m=\u001b[0m \u001b[0;34m'EOF'\u001b[0m\u001b[0;34m\u001b[0m\u001b[0m\n",
      "\u001b[0;32m//anaconda/lib/python2.7/site-packages/IPython/kernel/zmq/kernelbase.pyc\u001b[0m in \u001b[0;36mraw_input\u001b[0;34m(self, prompt)\u001b[0m\n\u001b[1;32m    649\u001b[0m             \u001b[0mself\u001b[0m\u001b[0;34m.\u001b[0m\u001b[0m_parent_ident\u001b[0m\u001b[0;34m,\u001b[0m\u001b[0;34m\u001b[0m\u001b[0m\n\u001b[1;32m    650\u001b[0m             \u001b[0mself\u001b[0m\u001b[0;34m.\u001b[0m\u001b[0m_parent_header\u001b[0m\u001b[0;34m,\u001b[0m\u001b[0;34m\u001b[0m\u001b[0m\n\u001b[0;32m--> 651\u001b[0;31m             \u001b[0mpassword\u001b[0m\u001b[0;34m=\u001b[0m\u001b[0mFalse\u001b[0m\u001b[0;34m,\u001b[0m\u001b[0;34m\u001b[0m\u001b[0m\n\u001b[0m\u001b[1;32m    652\u001b[0m         )\n\u001b[1;32m    653\u001b[0m \u001b[0;34m\u001b[0m\u001b[0m\n",
      "\u001b[0;32m//anaconda/lib/python2.7/site-packages/IPython/kernel/zmq/kernelbase.pyc\u001b[0m in \u001b[0;36m_input_request\u001b[0;34m(self, prompt, ident, parent, password)\u001b[0m\n\u001b[1;32m    679\u001b[0m             \u001b[0;32mexcept\u001b[0m \u001b[0mKeyboardInterrupt\u001b[0m\u001b[0;34m:\u001b[0m\u001b[0;34m\u001b[0m\u001b[0m\n\u001b[1;32m    680\u001b[0m                 \u001b[0;31m# re-raise KeyboardInterrupt, to truncate traceback\u001b[0m\u001b[0;34m\u001b[0m\u001b[0;34m\u001b[0m\u001b[0m\n\u001b[0;32m--> 681\u001b[0;31m                 \u001b[0;32mraise\u001b[0m \u001b[0mKeyboardInterrupt\u001b[0m\u001b[0;34m\u001b[0m\u001b[0m\n\u001b[0m\u001b[1;32m    682\u001b[0m             \u001b[0;32melse\u001b[0m\u001b[0;34m:\u001b[0m\u001b[0;34m\u001b[0m\u001b[0m\n\u001b[1;32m    683\u001b[0m                 \u001b[0;32mbreak\u001b[0m\u001b[0;34m\u001b[0m\u001b[0m\n",
      "\u001b[0;31mKeyboardInterrupt\u001b[0m: "
     ]
    }
   ],
   "source": [
    "PN6 = ParticleTracking( fileArray_N6, cPN6, \"N6\", NUM_TRACKED_PARTICLES = 2 )\n",
    "PN6.run()c"
   ]
  },
  {
   "cell_type": "code",
   "execution_count": null,
   "metadata": {
    "collapsed": false
   },
   "outputs": [],
   "source": [
    "#PN7 = ParticleTracking( fileArray_N7, cPN7, \"N7\", NUM_TRACKED_PARTICLES = 10000 )\n",
    "#PN7.run()"
   ]
  }
 ],
 "metadata": {
  "kernelspec": {
   "display_name": "Python 2",
   "language": "python",
   "name": "python2"
  },
  "language_info": {
   "codemirror_mode": {
    "name": "ipython",
    "version": 2
   },
   "file_extension": ".py",
   "mimetype": "text/x-python",
   "name": "python",
   "nbconvert_exporter": "python",
   "pygments_lexer": "ipython2",
   "version": "2.7.9"
  }
 },
 "nbformat": 4,
 "nbformat_minor": 0
}
