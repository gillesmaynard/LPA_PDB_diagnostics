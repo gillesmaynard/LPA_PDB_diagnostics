{
 "cells": [
  {
   "cell_type": "markdown",
   "metadata": {},
   "source": [
    "###This notebook contains some usual analysis for LPA\n",
    "It only works for output format in pdb."
   ]
  },
  {
   "cell_type": "code",
   "execution_count": 1,
   "metadata": {},
   "outputs": [
    {
     "name": "stdout",
     "output_type": "stream",
     "text": [
      "Result path /Volumes/Orsay2/boosted_Nitrogen_a0_1.6_waist_16_tau_16.99/result/ is created\n"
     ]
    }
   ],
   "source": [
    "import numpy as np\n",
    "import pylab as plt\n",
    "from lpa_pdb_diagnostics import *\n",
    "from scipy.constants import e, c, m_e, epsilon_0\n",
    "import os\n",
    "import matplotlib\n",
    "%matplotlib inline"
   ]
  },
  {
   "cell_type": "markdown",
   "metadata": {},
   "source": [
    "Setting the directory path where the data are located. dir_path has to be correctly attributed before analysis."
   ]
  },
  {
   "cell_type": "code",
   "execution_count": 2,
   "metadata": {
    "collapsed": true
   },
   "outputs": [],
   "source": [
    "dir_path = os.getcwd() + \"/lab_diags/hdf5\""
   ]
  },
  {
   "cell_type": "markdown",
   "metadata": {},
   "source": [
    "Setting the path for the results:"
   ]
  },
  {
   "cell_type": "code",
   "execution_count": 3,
   "metadata": {
    "collapsed": true
   },
   "outputs": [],
   "source": [
    "res_path = config.result_path"
   ]
  },
  {
   "cell_type": "markdown",
   "metadata": {},
   "source": [
    "#Laser - Plasma Parameters\n",
    "Here we define some of the laser plasma parameters."
   ]
  },
  {
   "cell_type": "code",
   "execution_count": 4,
   "metadata": {
    "collapsed": true
   },
   "outputs": [],
   "source": [
    "# Some definitions of the laser plasma parameters\n",
    "lambda0 = 0.8e-6\n",
    "w0 = 2*np.pi*c/lambda0\n",
    "laser_waist = 16e-6\n",
    "plasma_dens = 4e24\n",
    "plasma_length = 5.1e-3\n",
    "wp = np.sqrt(plasma_dens * e**2/ (epsilon_0 * m_e))\n",
    "lambda_plasma = 2*np.pi*c/wp\n",
    "circ_m = 1"
   ]
  },
  {
   "cell_type": "markdown",
   "metadata": {},
   "source": [
    "#Numerical Parameters\n",
    "Here we define the necessary numerical parameters for the analysis"
   ]
  },
  {
   "cell_type": "code",
   "execution_count": 11,
   "metadata": {
    "collapsed": true
   },
   "outputs": [],
   "source": [
    "#longitudinal direction \n",
    "zmax = 2*lambda0\n",
    "zmin = zmax - 3.5*lambda_plasma\n",
    "nzplambda = 25\n",
    "w_size = zmax - zmin\n",
    "Nz = int(w_size*nzplambda/lambda0)\n",
    "dz = w_size/Nz\n",
    "\n",
    "#transverse direction\n",
    "xmax = 120e-6\n",
    "xmin = 0 # for cylindrical coordinates\n",
    "nxplambda = 6\n",
    "Nx = int((xmax - xmin)*nxplambda/lambda0)\n",
    "dx = (xmax - xmin)/Nx\n",
    "dz_snapshot_lab = 4*(zmax - zmin)\n",
    "gamma_boost = 2\n",
    "\n",
    "#time (valid only for circ simulation)\n",
    "circ_coeffs = [ 0.2105, 1.0, 3.5234, 8.5104, 15.5059, 24.5037 ]\n",
    "\n",
    "if circ_m < len(circ_coeffs):\n",
    "    circ_alpha = circ_coeffs[circ_m]\n",
    "else:\n",
    "    circ_alpha = circ_m**2 - 0.4\n",
    "\n",
    "cdt = 1./np.sqrt((1 + circ_alpha)/dx**2 + 1./dz**2)"
   ]
  },
  {
   "cell_type": "markdown",
   "metadata": {},
   "source": [
    "#Generate values for file reading"
   ]
  },
  {
   "cell_type": "code",
   "execution_count": 12,
   "metadata": {},
   "outputs": [],
   "source": [
    "if gamma_boost>1:\n",
    "    val = np.arange(tot_num_files)\n",
    "    longitudinal_position = np.array(val*dz_snapshot_lab)\n",
    "else:\n",
    "    inf = 0\n",
    "    sup = 0\n",
    "    period_int = 3000\n",
    "    period_ext = 3000\n",
    "    val = values( inf, sup, period_int, period_ext, plasma_length/cdt )\n",
    "    longitudinal_position = np.array(val)*cdt"
   ]
  },
  {
   "cell_type": "code",
   "execution_count": 13,
   "metadata": {
    "collapsed": true
   },
   "outputs": [],
   "source": [
    "tot_num_files = len(os.listdir(dir_path))"
   ]
  },
  {
   "cell_type": "markdown",
   "metadata": {},
   "source": [
    "We create an array of file names that we analyze."
   ]
  },
  {
   "cell_type": "markdown",
   "metadata": {},
   "source": [
    "#Reading files"
   ]
  },
  {
   "cell_type": "markdown",
   "metadata": {
    "collapsed": true
   },
   "source": [
    "##Multiple files reading"
   ]
  },
  {
   "cell_type": "markdown",
   "metadata": {},
   "source": [
    "####Laser $a_0$, Beam spectrum, Big Picture"
   ]
  },
  {
   "cell_type": "code",
   "execution_count": 14,
   "metadata": {},
   "outputs": [
    {
     "name": "stdout",
     "output_type": "stream",
     "text": [
      "Instant: 0.0 um\n",
      "** Processing ** Fields: Intialisation of /Volumes/Orsay2/boosted_Nitrogen_a0_1.6_waist_16_tau_16.99/lab_diags/hdf5 **\n",
      "Instant: 233.7 um\n",
      "** Processing ** Fields: Intialisation of /Volumes/Orsay2/boosted_Nitrogen_a0_1.6_waist_16_tau_16.99/lab_diags/hdf5 **\n",
      "Instant: 467.5 um\n",
      "** Processing ** Fields: Intialisation of /Volumes/Orsay2/boosted_Nitrogen_a0_1.6_waist_16_tau_16.99/lab_diags/hdf5 **\n",
      "Instant: 701.2 um\n",
      "** Processing ** Fields: Intialisation of /Volumes/Orsay2/boosted_Nitrogen_a0_1.6_waist_16_tau_16.99/lab_diags/hdf5 **\n",
      "Instant: 934.9 um\n",
      "** Processing ** Fields: Intialisation of /Volumes/Orsay2/boosted_Nitrogen_a0_1.6_waist_16_tau_16.99/lab_diags/hdf5 **\n",
      "Instant: 1168.6 um\n",
      "** Processing ** Fields: Intialisation of /Volumes/Orsay2/boosted_Nitrogen_a0_1.6_waist_16_tau_16.99/lab_diags/hdf5 **\n",
      "Instant: 1402.4 um\n",
      "** Processing ** Fields: Intialisation of /Volumes/Orsay2/boosted_Nitrogen_a0_1.6_waist_16_tau_16.99/lab_diags/hdf5 **\n",
      "Instant: 1636.1 um\n",
      "** Processing ** Fields: Intialisation of /Volumes/Orsay2/boosted_Nitrogen_a0_1.6_waist_16_tau_16.99/lab_diags/hdf5 **\n",
      "Instant: 1869.8 um\n",
      "** Processing ** Fields: Intialisation of /Volumes/Orsay2/boosted_Nitrogen_a0_1.6_waist_16_tau_16.99/lab_diags/hdf5 **\n",
      "Instant: 2103.5 um\n",
      "** Processing ** Fields: Intialisation of /Volumes/Orsay2/boosted_Nitrogen_a0_1.6_waist_16_tau_16.99/lab_diags/hdf5 **\n",
      "Instant: 2337.3 um\n",
      "** Processing ** Fields: Intialisation of /Volumes/Orsay2/boosted_Nitrogen_a0_1.6_waist_16_tau_16.99/lab_diags/hdf5 **\n",
      "Instant: 2571.0 um\n",
      "** Processing ** Fields: Intialisation of /Volumes/Orsay2/boosted_Nitrogen_a0_1.6_waist_16_tau_16.99/lab_diags/hdf5 **\n",
      "Instant: 2804.7 um\n",
      "** Processing ** Fields: Intialisation of /Volumes/Orsay2/boosted_Nitrogen_a0_1.6_waist_16_tau_16.99/lab_diags/hdf5 **\n",
      "Instant: 3038.4 um\n",
      "** Processing ** Fields: Intialisation of /Volumes/Orsay2/boosted_Nitrogen_a0_1.6_waist_16_tau_16.99/lab_diags/hdf5 **\n",
      "Instant: 3272.2 um\n",
      "** Processing ** Fields: Intialisation of /Volumes/Orsay2/boosted_Nitrogen_a0_1.6_waist_16_tau_16.99/lab_diags/hdf5 **\n",
      "Instant: 3505.9 um\n",
      "** Processing ** Fields: Intialisation of /Volumes/Orsay2/boosted_Nitrogen_a0_1.6_waist_16_tau_16.99/lab_diags/hdf5 **\n",
      "Instant: 3739.6 um\n",
      "** Processing ** Fields: Intialisation of /Volumes/Orsay2/boosted_Nitrogen_a0_1.6_waist_16_tau_16.99/lab_diags/hdf5 **\n",
      "Instant: 3973.3 um\n",
      "** Processing ** Fields: Intialisation of /Volumes/Orsay2/boosted_Nitrogen_a0_1.6_waist_16_tau_16.99/lab_diags/hdf5 **\n",
      "Instant: 4207.1 um\n",
      "** Processing ** Fields: Intialisation of /Volumes/Orsay2/boosted_Nitrogen_a0_1.6_waist_16_tau_16.99/lab_diags/hdf5 **\n",
      "Instant: 4440.8 um\n",
      "** Processing ** Fields: Intialisation of /Volumes/Orsay2/boosted_Nitrogen_a0_1.6_waist_16_tau_16.99/lab_diags/hdf5 **\n",
      "Instant: 4674.5 um\n",
      "** Processing ** Fields: Intialisation of /Volumes/Orsay2/boosted_Nitrogen_a0_1.6_waist_16_tau_16.99/lab_diags/hdf5 **\n",
      "Instant: 4908.2 um\n",
      "** Processing ** Fields: Intialisation of /Volumes/Orsay2/boosted_Nitrogen_a0_1.6_waist_16_tau_16.99/lab_diags/hdf5 **\n",
      "Instant: 5142.0 um\n",
      "** Processing ** Fields: Intialisation of /Volumes/Orsay2/boosted_Nitrogen_a0_1.6_waist_16_tau_16.99/lab_diags/hdf5 **\n"
     ]
    }
   ],
   "source": [
    "#preparing some empty arrays\n",
    "a0 = []\n",
    "z_a0 = []\n",
    "emitx = []\n",
    "emity = []\n",
    "deltaE = []\n",
    "deltaEE = []\n",
    "divx = []\n",
    "divy = []\n",
    "charge = []\n",
    "ROI_peak = []\n",
    "E_peak = []\n",
    "zstd = []\n",
    "xstd = []\n",
    "\n",
    "last = tot_num_files\n",
    "#h5_file_dir = \"./lab_diags/hdf5/\"\n",
    "first  = last #int(2.e-3/dz/period_int) #round off to the nearest 1000\n",
    "\n",
    "for index in range( 0, last ):\n",
    "    print \"Instant: %.1f um\" %(longitudinal_position[index]*1.e6)\n",
    "    if index>=first:\n",
    "        l_particle=True\n",
    "    else:\n",
    "        l_particle=False\n",
    "    \n",
    "    f = FieldInstant(dir_path, np.pi/2, \n",
    "                     quantities= [\"E\", \"zfield\"], it = val[index])\n",
    "    a, z = f.laser_a0(w0)\n",
    "    \n",
    "    # Store values in arrays\n",
    "    a0.append(a)\n",
    "    z_a0.append(z)\n",
    "    \n",
    "    if l_particle:\n",
    "        #p_H = ParticleInstant( H[index], quantities = [ \"Weight\", \"Position\", \"Momentum\"] )\n",
    "        p_N6 = ParticleInstant( N6[index], quantities = [ \"Weight\", \"Position\", \"Momentum\"] )\n",
    "        p_N7 = ParticleInstant( N7[index], quantities = [ \"Weight\", \"Position\", \"Momentum\"] )\n",
    "        qdict = p_N6.get_qdict()\n",
    "        \n",
    "        #Select particles\n",
    "        #cp_H = p_H.select( gamma_threshold = [50,800] )\n",
    "        cp_N6 = p_N6.select( gamma_threshold = [200,800] )\n",
    "        cp_N7 = p_N7.select( gamma_threshold = [200,800] )\n",
    "        \n",
    "        # Concatenate particles\n",
    "        ck_all_particles = quant_concatenate([cp_N6,cp_N7], keep_object_name = True ) \n",
    "        #keeping the information on the species\n",
    "        c_all_particles = quant_concatenate([cp_N6, cp_N7])\n",
    "        \n",
    "        # Analyzing beam spectrum\n",
    "        energy, dQdE = beam_spectrum(val[index], \n",
    "                             ck_all_particles[qdict[\"gamma\"]], \n",
    "                             ck_all_particles[qdict[\"w\"]], lwrite=True,\n",
    "                             leg = [\"N6\",\"N7\",\"Sum\"])\n",
    "        \n",
    "        if energy is not None:\n",
    "            t_energy = energy[-1]\n",
    "            t_dQdE = dQdE[-1]\n",
    "            \n",
    "            Ipeak, Epeak, Cpeak, ROI_by_peak = beam_peak( t_energy, t_dQdE)\n",
    "\n",
    "            if Ipeak is not None:\n",
    "                peak = (Ipeak[-1], Epeak[-1], Cpeak[-1])\n",
    "                t_deltaE , t_deltaEE = beam_energy_spread( t_energy, t_dQdE, peak = peak)\n",
    "            \n",
    "            else:\n",
    "                t_deltaE , t_deltaEE = beam_energy_spread( t_energy, t_dQdE )\n",
    "            \n",
    "            deltaE.append( t_deltaE )\n",
    "            deltaEE.append( t_deltaEE )\n",
    "            E_peak.append( Epeak )\n",
    "        \n",
    "        if energy is not None and ROI_by_peak:\n",
    "            print \"You have chosen particles situated between %g MeV and %g MeV. \" \\\n",
    "                    %( ROI_by_peak[-1][0], ROI_by_peak[-1][1] )\n",
    "    \n",
    "            # Conversion from MeV to gamma arb units\n",
    "            ROI_gamma = [[ROI_by_peak[i][j]/0.511 for j in xrange(len(ROI_by_peak[0]))] \\\n",
    "                         for i in xrange(len(ROI_by_peak))]\n",
    "    \n",
    "            # Selection of particles\n",
    "            cPN6 = p_N6.select( gamma_threshold = ROI_gamma[-1] )\n",
    "            cPN7 = p_N7.select( gamma_threshold = ROI_gamma[-1] )\n",
    "            \n",
    "            ck_all_particles = quant_concatenate([cPN6,cPN7], keep_object_name= True) \n",
    "            #keeping the information on the species\n",
    "            c_all_particles = quant_concatenate([cPN6,cPN7])\n",
    "            \n",
    "            ROI_peak.append( ROI_gamma[-1] )\n",
    "        \n",
    "        # Analysing big picture\n",
    "        N_laser = f.normalizedField( w0, \"laser\")\n",
    "        N_wake = f.normalizedField( wp, \"wake\")\n",
    "        bigPicture( val[index], c_all_particles[qdict[\"z\"]], c_all_particles[qdict[\"gamma\"]],\n",
    "           c_all_particles[qdict[\"w\"]], f.zfield, N_wake, N_laser, lwrite= True )\n",
    "        \n",
    "        \n",
    "        # Analyzing beam emittance\n",
    "        t_emitx = beam_emittance( val[index],  c_all_particles, qdict, \"x\" ) \n",
    "        t_emity = beam_emittance( val[index],  c_all_particles, qdict, \"y\" )\n",
    "        \n",
    "        # Store values in arrays\n",
    "        emitx.append( t_emitx )\n",
    "        emity.append( t_emity )\n",
    "        \n",
    "        # Analyzing beam divergence\n",
    "        t_divx  = beam_divergence (c_all_particles, qdict, \"x\")\n",
    "        t_divy  = beam_divergence (c_all_particles, qdict, \"y\")\n",
    "        \n",
    "        # Store values in arrays\n",
    "        divx.append( t_divx )\n",
    "        divy.append( t_divy )\n",
    "        \n",
    "        #Analyze beam length\n",
    "        t_zstd = wstd( c_all_particles[qdict[\"z\"]],  c_all_particles[qdict[\"w\"]])\n",
    "        zstd.append(t_zstd)\n",
    "        \n",
    "        #Analyze transverse beam length\n",
    "        t_xstd = wstd( c_all_particles[qdict[\"x\"]],  c_all_particles[qdict[\"w\"]])\n",
    "        xstd.append(t_xstd)\n",
    "        \n",
    "        # Analyze beam charge\n",
    "        t_charge = beam_charge(c_all_particles[qdict[\"w\"]])\n",
    "        \n",
    "        # Store values in array\n",
    "        charge.append( t_charge )"
   ]
  },
  {
   "cell_type": "markdown",
   "metadata": {},
   "source": [
    "##Saving laser $a_0$ values and beam properties in  in files."
   ]
  },
  {
   "cell_type": "code",
   "execution_count": 15,
   "metadata": {},
   "outputs": [
    {
     "name": "stdout",
     "output_type": "stream",
     "text": [
      "A file named a0.hdf5 in /Volumes/Orsay2/boosted_Nitrogen_a0_1.6_waist_16_tau_16.99/result/ is created.\n",
      "** Writing is done **\n"
     ]
    }
   ],
   "source": [
    "qname = [\"z\", \"a0\" ]\n",
    "f = FileWriting(qname, \"a0\")\n",
    "stacked_data = np.stack(( z_a0, a0 ), axis=0)\n",
    "f.write(stacked_data, np.shape(stacked_data), \n",
    "            attrs = [\"m\", \"arb. unit\" ])"
   ]
  },
  {
   "cell_type": "code",
   "execution_count": 16,
   "metadata": {
    "collapsed": true
   },
   "outputs": [],
   "source": [
    "long_position = longitudinal_position[first:last]"
   ]
  },
  {
   "cell_type": "code",
   "execution_count": 17,
   "metadata": {
    "collapsed": true
   },
   "outputs": [],
   "source": [
    "if l_particle:\n",
    "    qname = [\"val\", \"deltaE\", \"deltaEE\", \"emitx\", \"emity\", \"divx\", \n",
    "             \"divy\", \"charge\", \"z_std\", \"x_std\"]\n",
    "    f = FileWriting(qname, \"beam_properties_Nitrogen\")\n",
    "    stacked_data = np.stack(( long_position, deltaE, deltaEE, emitx, emity, \n",
    "                             divx, divy, charge, zstd, xstd ), axis=0)\n",
    "    f.write(stacked_data, np.shape(stacked_data), \n",
    "             attrs = [ \"m\", \"MeV\", \"%\", \"m.rad\", \"m.rad\", \"rad\", \"rad\", \n",
    "                      \"C\", \"um\", \"um\"])"
   ]
  },
  {
   "cell_type": "markdown",
   "metadata": {},
   "source": [
    "##Plot $a_0$"
   ]
  },
  {
   "cell_type": "code",
   "execution_count": 21,
   "metadata": {},
   "outputs": [
    {
     "data": {
      "image/png": "[encoded data removed]",
      "text/plain": [
       "<matplotlib.figure.Figure at 0x129831e50>"
      ]
     },
     "metadata": {},
     "output_type": "display_data"
    }
   ],
   "source": [
    "if 'inline' in matplotlib.get_backend():\n",
    "    fig, ax = plt.subplots( dpi=150 )\n",
    "else:\n",
    "    fig, ax = plt.subplots( figsize=(10,8) )\n",
    "\n",
    "fig.patch.set_facecolor('white')\n",
    "ax.plot(z_a0[1::], a0[1::], linewidth = 2)\n",
    "\n",
    "ax.set_xlabel(r\"$\\mathrm{z\\,(m)}$\")\n",
    "ax.set_ylabel(r\"$\\mathrm{a_0}$\")\n",
    "ax.set_xlim(0.0, 1.01*longitudinal_position[-1])\n",
    "\n",
    "ax.set_ylim(0.0, 1.1*max(a0))\n",
    "ax.xaxis.set_tick_params(width=2, length = 8)\n",
    "ax.yaxis.set_tick_params(width=2, length = 8)\n",
    "font = {'family':'sans-serif'}\n",
    "plt.rc('font', **font)\n",
    "\n",
    "fig.savefig(res_path + \"a0.pdf\")"
   ]
  },
  {
   "cell_type": "code",
   "execution_count": null,
   "metadata": {
    "collapsed": true
   },
   "outputs": [],
   "source": []
  }
 ],
 "metadata": {
  "kernelspec": {
   "display_name": "Python 2",
   "language": "python",
   "name": "python2"
  },
  "language_info": {
   "codemirror_mode": {
    "name": "ipython",
    "version": 2
   },
   "file_extension": ".py",
   "mimetype": "text/x-python",
   "name": "python",
   "nbconvert_exporter": "python",
   "pygments_lexer": "ipython2",
   "version": "2.7.13"
  }
 },
 "nbformat": 4,
 "nbformat_minor": 1
}
