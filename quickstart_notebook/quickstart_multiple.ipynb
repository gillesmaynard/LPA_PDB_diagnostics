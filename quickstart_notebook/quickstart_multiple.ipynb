{
 "cells": [
  {
   "cell_type": "markdown",
   "metadata": {},
   "source": [
    "###This notebook contains some usual analysis for LPA\n",
    "It only works for output format in pdb."
   ]
  },
  {
   "cell_type": "code",
   "execution_count": 11,
   "metadata": {
    "collapsed": false
   },
   "outputs": [],
   "source": [
    "import numpy as np\n",
    "import pylab as plt\n",
    "from lpa_pdb_diagnostics import *\n",
    "from scipy.constants import e, c, m_e, epsilon_0\n",
    "import os\n",
    "import matplotlib\n",
    "%matplotlib inline"
   ]
  },
  {
   "cell_type": "markdown",
   "metadata": {},
   "source": [
    "Setting the directory path where the data are located. dir_path has to be correctly attributed before analysis."
   ]
  },
  {
   "cell_type": "code",
   "execution_count": 12,
   "metadata": {
    "collapsed": true
   },
   "outputs": [],
   "source": [
    "dir_path = \"//Volumes/Orsay/warp_200MeV_plateau_1600_13dec/data/\"\n",
    "#dir_path = os.getcwd() + \"/data\""
   ]
  },
  {
   "cell_type": "markdown",
   "metadata": {},
   "source": [
    "Setting the path for the results:"
   ]
  },
  {
   "cell_type": "code",
   "execution_count": 13,
   "metadata": {
    "collapsed": false
   },
   "outputs": [],
   "source": [
    "res_path = config.result_path"
   ]
  },
  {
   "cell_type": "markdown",
   "metadata": {},
   "source": [
    "#Laser - Plasma Parameters\n",
    "Here we define some of the laser plasma parameters."
   ]
  },
  {
   "cell_type": "code",
   "execution_count": 14,
   "metadata": {
    "collapsed": false
   },
   "outputs": [],
   "source": [
    "# Some definitions of the laser plasma parameters\n",
    "lambda0 = 0.8e-6\n",
    "w0 = 2*np.pi*c/lambda0\n",
    "laser_waist = 17e-6\n",
    "plasma_dens = 4e24\n",
    "plasma_length = 2.4e-3\n",
    "wp = np.sqrt(plasma_dens * e**2/ (epsilon_0 * m_e))\n",
    "lambda_plasma = 2*np.pi*c/wp"
   ]
  },
  {
   "cell_type": "markdown",
   "metadata": {},
   "source": [
    "#Numerical Parameters\n",
    "Here we define the necessary numerical parameters for the analysis"
   ]
  },
  {
   "cell_type": "code",
   "execution_count": 15,
   "metadata": {
    "collapsed": true
   },
   "outputs": [],
   "source": [
    "zmax = 2*lambda0\n",
    "zmin = zmax - 6*lambda_plasma\n",
    "nzplambda = 20\n",
    "w_size = zmax - zmin\n",
    "Nz = int(w_size*nzplambda/lambda0)\n",
    "dz = w_size/Nz"
   ]
  },
  {
   "cell_type": "markdown",
   "metadata": {},
   "source": [
    "#Generate values for file reading"
   ]
  },
  {
   "cell_type": "code",
   "execution_count": 16,
   "metadata": {
    "collapsed": false
   },
   "outputs": [
    {
     "name": "stderr",
     "output_type": "stream",
     "text": [
      "/anaconda/lib/python2.7/site-packages/IPython/kernel/__main__.py:6: VisibleDeprecationWarning: using a non-integer number instead of an integer will result in an error in the future\n"
     ]
    }
   ],
   "source": [
    "inf = 0\n",
    "sup = 0\n",
    "period_int = 1000\n",
    "period_ext = 1000\n",
    "val = values( inf, sup, period_int, period_ext, plasma_length/dz )\n",
    "longitudinal_position = val*dz"
   ]
  },
  {
   "cell_type": "markdown",
   "metadata": {},
   "source": [
    "We create an array of file names that we analyze."
   ]
  },
  {
   "cell_type": "code",
   "execution_count": 17,
   "metadata": {
    "collapsed": false
   },
   "outputs": [],
   "source": [
    "field = np.empty(len(val),dtype=\"S100\")\n",
    "N5 = np.empty(len(val),dtype=\"S100\")\n",
    "N6 = np.empty(len(val),dtype=\"S100\")\n",
    "N7 = np.empty(len(val),dtype=\"S100\")\n",
    "H = np.empty(len(val),dtype=\"S100\")\n",
    "\n",
    "# Initialize file names\n",
    "for i, v in enumerate(val):\n",
    "    field[i] = dir_path + \"fields%06d.pdb\" %v\n",
    "    N5[i] = dir_path + \"N5%06d.pdb\" %v\n",
    "    N6[i] = dir_path + \"N6%06d.pdb\" %v\n",
    "    N7[i] = dir_path + \"N7%06d.pdb\" %v\n",
    "    H[i] = dir_path + \"H%06d.pdb\" %v"
   ]
  },
  {
   "cell_type": "markdown",
   "metadata": {},
   "source": [
    "#Reading files"
   ]
  },
  {
   "cell_type": "markdown",
   "metadata": {
    "collapsed": true
   },
   "source": [
    "##Multiple files reading"
   ]
  },
  {
   "cell_type": "markdown",
   "metadata": {},
   "source": [
    "####Laser $a_0$, Beam spectrum, Big Picture"
   ]
  },
  {
   "cell_type": "code",
   "execution_count": 18,
   "metadata": {
    "collapsed": false
   },
   "outputs": [
    {
     "name": "stdout",
     "output_type": "stream",
     "text": [
      "** Processing ** Fields: Intialisation of //Volumes/Orsay/warp_200MeV_plateau_1600_13dec/data/fields060000.pdb **\n",
      "** Processing ** Particles: Initialisation of //Volumes/Orsay/warp_200MeV_plateau_1600_13dec/data/H060000.pdb **\n",
      "** Processing ** Particles: Initialisation of //Volumes/Orsay/warp_200MeV_plateau_1600_13dec/data/N6060000.pdb **\n",
      "** Processing ** Particles: Initialisation of //Volumes/Orsay/warp_200MeV_plateau_1600_13dec/data/N7060000.pdb **\n",
      "A file named Charge_density_60000.hdf5 in /Users/pmlee/Documents/LPA_PDB_diagnostics/quickstart_notebook/result/ is created.\n",
      "A file named Normalized_Fields_60000.hdf5 in /Users/pmlee/Documents/LPA_PDB_diagnostics/quickstart_notebook/result/ is created.\n",
      "A file named beam_spectrum_60000.hdf5 in /Users/pmlee/Documents/LPA_PDB_diagnostics/quickstart_notebook/result/ is created.\n"
     ]
    },
    {
     "name": "stderr",
     "output_type": "stream",
     "text": [
      "//anaconda/lib/python2.7/site-packages/matplotlib/collections.py:590: FutureWarning: elementwise comparison failed; returning scalar instead, but in the future will perform elementwise comparison\n",
      "  if self._edgecolors == str('face'):\n"
     ]
    },
    {
     "data": {
      "image/png": "[encoded data removed]",
      "text/plain": [
       "<matplotlib.figure.Figure at 0x110dab510>"
      ]
     },
     "metadata": {},
     "output_type": "display_data"
    },
    {
     "data": {
      "image/png": "[encoded data removed]",
      "text/plain": [
       "<matplotlib.figure.Figure at 0x11b7a1450>"
      ]
     },
     "metadata": {},
     "output_type": "display_data"
    }
   ],
   "source": [
    "l_particle = True\n",
    "\n",
    "#preparing some empty arrays\n",
    "a0 = []\n",
    "z_a0 = []\n",
    "emitx = []\n",
    "emity = []\n",
    "energy = []\n",
    "dQdE = []\n",
    "\n",
    "last = len(val)\n",
    "first = len(val) - 1\n",
    "for index in range( first, last ):\n",
    "    f = FieldInstant( field[index], np.pi/2, \n",
    "                 quantities= [\"E\", \"zfield\"] )\n",
    "    a, z = f.laser_a0(w0)\n",
    "    \n",
    "    # Store values in arrays\n",
    "    a0.append(a)\n",
    "    z_a0.append(z)\n",
    "    \n",
    "    if l_particle:\n",
    "        p_H = ParticleInstant( H[index], quantities = [ \"Weight\", \"Position\", \"Momentum\"] )\n",
    "        p_N6 = ParticleInstant( N6[index], quantities = [ \"Weight\", \"Position\", \"Momentum\"]  )\n",
    "        p_N7 = ParticleInstant( N7[index], quantities = [ \"Weight\", \"Position\", \"Momentum\"]  )\n",
    "        qdict = p_N6.get_qdict()\n",
    "        \n",
    "        #Select particles\n",
    "        cp_H = p_H.select( gamma_threshold = [0,400])\n",
    "        cp_N6 = p_N6.select( gamma_threshold = [0,400])\n",
    "        cp_N7 = p_N7.select( gamma_threshold = [0,400])\n",
    "        \n",
    "        # Concatenate particles\n",
    "        ck_all_particles = quant_concatenate([cp_N6,cp_N7], keep_object_name = True ) #keeping the information on the species\n",
    "        c_all_particles = quant_concatenate([cp_N6, cp_N7])\n",
    "        \n",
    "        # Analysing big picture\n",
    "        N_laser = f.normalizedField( w0, \"laser\")\n",
    "        N_wake = f.normalizedField( wp, \"wake\")\n",
    "        bigPicture( val[index], c_all_particles[qdict[\"z\"]], c_all_particles[qdict[\"gamma\"]],\n",
    "           c_all_particles[qdict[\"w\"]], f.zfield, N_wake, N_laser, lwrite= True )\n",
    "        \n",
    "        # Analyzing beam spectrum\n",
    "        t_energy, t_dQdE = beam_spectrum(val[index], \n",
    "                             ck_all_particles[qdict[\"gamma\"]], \n",
    "                             ck_all_particles[qdict[\"w\"]], lwrite=True,\n",
    "                             leg = [\"N6\",\"N7\",\"Sum\"])\n",
    "        # Store values in arrays\n",
    "        energy.append( t_energy )\n",
    "        dQdE.append( t_dQdE )\n",
    "        \n",
    "        # Analyzing beam emittance\n",
    "        t_emitx = beam_emittance( val[index],  c_all_particles, qdict, \"x\" ) \n",
    "        t_emity = beam_emittance( val[index],  c_all_particles, qdict, \"y\" )\n",
    "        \n",
    "        # Store values in arrays\n",
    "        emitx.append( t_emitx )\n",
    "        emity.append( t_emity )"
   ]
  },
  {
   "cell_type": "markdown",
   "metadata": {},
   "source": [
    "Saving laser a0 values in files."
   ]
  },
  {
   "cell_type": "code",
   "execution_count": 19,
   "metadata": {
    "collapsed": false
   },
   "outputs": [
    {
     "name": "stdout",
     "output_type": "stream",
     "text": [
      "A file named a0.hdf5 in /Users/pmlee/Documents/LPA_PDB_diagnostics/quickstart_notebook/result/ is created.\n"
     ]
    }
   ],
   "source": [
    "qname = [\"z\", \"a0\"]\n",
    "f = FileWriting(qname, \"a0\")\n",
    "stacked_data = np.stack(( z_a0, a0 ), axis=0)\n",
    "f.write(stacked_data, np.shape(stacked_data), attrs = [\"m\", \"arb. unit\"])"
   ]
  },
  {
   "cell_type": "markdown",
   "metadata": {},
   "source": [
    "Plotting and saving figure in png format"
   ]
  },
  {
   "cell_type": "code",
   "execution_count": 20,
   "metadata": {
    "collapsed": false
   },
   "outputs": [
    {
     "name": "stderr",
     "output_type": "stream",
     "text": [
      "//anaconda/lib/python2.7/site-packages/matplotlib/axes/_base.py:2562: UserWarning: Attempting to set identical left==right results\n",
      "in singular transformations; automatically expanding.\n",
      "left=0.00235470173022, right=0.00235470173022\n",
      "  'left=%s, right=%s') % (left, right))\n"
     ]
    },
    {
     "data": {
      "image/png": "[encoded data removed]",
      "text/plain": [
       "<matplotlib.figure.Figure at 0x11b7a92d0>"
      ]
     },
     "metadata": {},
     "output_type": "display_data"
    }
   ],
   "source": [
    "if 'inline' in matplotlib.get_backend():\n",
    "    fig, ax = plt.subplots( dpi=150 )\n",
    "else:\n",
    "    fig, ax = plt.subplots( figsize=(10,8) )\n",
    "    \n",
    "fig.patch.set_facecolor('white')\n",
    "ax.plot(z_a0[1:], a0[1:])\n",
    "ax.set_xlim(min(z_a0), max(z_a0))\n",
    "ax.set_ylim(0, 1.1*max(a0))\n",
    "ax.set_xlabel(r\"$\\mathrm{z[\\mu m]}$\")\n",
    "ax.set_ylabel(r\"$\\mathrm{a_0}$\")\n",
    "plt.setp(ax.get_xticklabels()[::2], visible=False)\n",
    "font = {'family':'sans-serif', 'size': 20}\n",
    "plt.rc('font', **font)\n",
    "plt.tight_layout()\n",
    "\n",
    "#Saving file\n",
    "fig.savefig(res_path + \"a0.png\", dpi =300)"
   ]
  },
  {
   "cell_type": "code",
   "execution_count": null,
   "metadata": {
    "collapsed": true
   },
   "outputs": [],
   "source": []
  }
 ],
 "metadata": {
  "kernelspec": {
   "display_name": "Python 2",
   "language": "python",
   "name": "python2"
  },
  "language_info": {
   "codemirror_mode": {
    "name": "ipython",
    "version": 2
   },
   "file_extension": ".py",
   "mimetype": "text/x-python",
   "name": "python",
   "nbconvert_exporter": "python",
   "pygments_lexer": "ipython2",
   "version": "2.7.12"
  }
 },
 "nbformat": 4,
 "nbformat_minor": 0
}
