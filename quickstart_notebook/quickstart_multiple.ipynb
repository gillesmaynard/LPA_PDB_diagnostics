{
 "cells": [
  {
   "cell_type": "markdown",
   "metadata": {},
   "source": [
    "###This notebook contains some usual analysis for LPA\n",
    "It only works for output format in pdb."
   ]
  },
  {
   "cell_type": "code",
   "execution_count": 1,
   "metadata": {
    "collapsed": false
   },
   "outputs": [
    {
     "name": "stdout",
     "output_type": "stream",
     "text": [
      "Result path /Volumes/Orsay/gilles_Nitrogen/gilles_Nitrogen0.01_a01.4/result/ is created\n"
     ]
    }
   ],
   "source": [
    "import numpy as np\n",
    "import pylab as plt\n",
    "from lpa_pdb_diagnostics import *\n",
    "from scipy.constants import e, c, m_e, epsilon_0\n",
    "import os\n",
    "import matplotlib\n",
    "%matplotlib inline"
   ]
  },
  {
   "cell_type": "markdown",
   "metadata": {},
   "source": [
    "Setting the directory path where the data are located. dir_path has to be correctly attributed before analysis."
   ]
  },
  {
   "cell_type": "code",
   "execution_count": 2,
   "metadata": {
    "collapsed": false
   },
   "outputs": [],
   "source": [
    "dir_path = os.getcwd() +\"/data/\""
   ]
  },
  {
   "cell_type": "markdown",
   "metadata": {},
   "source": [
    "Setting the path for the results:"
   ]
  },
  {
   "cell_type": "code",
   "execution_count": 3,
   "metadata": {
    "collapsed": false
   },
   "outputs": [],
   "source": [
    "res_path = config.result_path"
   ]
  },
  {
   "cell_type": "markdown",
   "metadata": {},
   "source": [
    "#Laser - Plasma Parameters\n",
    "Here we define some of the laser plasma parameters."
   ]
  },
  {
   "cell_type": "code",
   "execution_count": 4,
   "metadata": {
    "collapsed": false
   },
   "outputs": [],
   "source": [
    "# Some definitions of the laser plasma parameters\n",
    "lambda0 = 0.8e-6\n",
    "w0 = 2*np.pi*c/lambda0\n",
    "laser_waist = 17e-6\n",
    "plasma_dens = 4e24\n",
    "plasma_length = 4.5e-3\n",
    "wp = np.sqrt(plasma_dens * e**2/ (epsilon_0 * m_e))\n",
    "lambda_plasma = 2*np.pi*c/wp"
   ]
  },
  {
   "cell_type": "markdown",
   "metadata": {},
   "source": [
    "#Numerical Parameters\n",
    "Here we define the necessary numerical parameters for the analysis"
   ]
  },
  {
   "cell_type": "code",
   "execution_count": 5,
   "metadata": {
    "collapsed": true
   },
   "outputs": [],
   "source": [
    "zmax = 2*lambda0\n",
    "zmin = zmax - 4*lambda_plasma\n",
    "nzplambda = 20\n",
    "w_size = zmax - zmin\n",
    "Nz = int(w_size*nzplambda/lambda0)\n",
    "dz = w_size/Nz"
   ]
  },
  {
   "cell_type": "markdown",
   "metadata": {},
   "source": [
    "#Generate values for file reading"
   ]
  },
  {
   "cell_type": "code",
   "execution_count": 6,
   "metadata": {
    "collapsed": false
   },
   "outputs": [],
   "source": [
    "inf = 0\n",
    "sup = 0\n",
    "period_int = 1000\n",
    "period_ext = 1000\n",
    "val = values( inf, sup, period_int, period_ext, plasma_length/dz )\n",
    "longitudinal_position = np.array(val)*dz"
   ]
  },
  {
   "cell_type": "markdown",
   "metadata": {},
   "source": [
    "We create an array of file names that we analyze."
   ]
  },
  {
   "cell_type": "code",
   "execution_count": 7,
   "metadata": {
    "collapsed": false
   },
   "outputs": [],
   "source": [
    "field = np.empty(len(val),dtype=\"S100\")\n",
    "N5 = np.empty(len(val),dtype=\"S100\")\n",
    "N6 = np.empty(len(val),dtype=\"S100\")\n",
    "N7 = np.empty(len(val),dtype=\"S100\")\n",
    "H = np.empty(len(val),dtype=\"S100\")\n",
    "\n",
    "# Initialize file names\n",
    "for i, v in enumerate(val):\n",
    "    field[i] = dir_path + \"fields%06d.pdb\" %v\n",
    "    N5[i] = dir_path + \"N5%06d.pdb\" %v\n",
    "    N6[i] = dir_path + \"N6%06d.pdb\" %v\n",
    "    N7[i] = dir_path + \"N7%06d.pdb\" %v\n",
    "    H[i] = dir_path + \"H%06d.pdb\" %v"
   ]
  },
  {
   "cell_type": "markdown",
   "metadata": {},
   "source": [
    "#Reading files"
   ]
  },
  {
   "cell_type": "markdown",
   "metadata": {
    "collapsed": true
   },
   "source": [
    "##Multiple files reading"
   ]
  },
  {
   "cell_type": "markdown",
   "metadata": {},
   "source": [
    "####Laser $a_0$, Beam spectrum, Big Picture"
   ]
  },
  {
   "cell_type": "code",
   "execution_count": 8,
   "metadata": {
    "collapsed": false
   },
   "outputs": [
    {
     "name": "stdout",
     "output_type": "stream",
     "text": [
      "** Processing ** Fields: Intialisation of /Volumes/Orsay/gilles_Nitrogen/gilles_Nitrogen0.01_a01.4/data/fields001000.pdb **\n",
      "** Processing ** Fields: Intialisation of /Volumes/Orsay/gilles_Nitrogen/gilles_Nitrogen0.01_a01.4/data/fields002000.pdb **\n",
      "** Processing ** Fields: Intialisation of /Volumes/Orsay/gilles_Nitrogen/gilles_Nitrogen0.01_a01.4/data/fields003000.pdb **\n",
      "** Processing ** Fields: Intialisation of /Volumes/Orsay/gilles_Nitrogen/gilles_Nitrogen0.01_a01.4/data/fields004000.pdb **\n",
      "** Processing ** Fields: Intialisation of /Volumes/Orsay/gilles_Nitrogen/gilles_Nitrogen0.01_a01.4/data/fields005000.pdb **\n",
      "** Processing ** Fields: Intialisation of /Volumes/Orsay/gilles_Nitrogen/gilles_Nitrogen0.01_a01.4/data/fields006000.pdb **\n",
      "** Processing ** Fields: Intialisation of /Volumes/Orsay/gilles_Nitrogen/gilles_Nitrogen0.01_a01.4/data/fields007000.pdb **\n",
      "** Processing ** Fields: Intialisation of /Volumes/Orsay/gilles_Nitrogen/gilles_Nitrogen0.01_a01.4/data/fields008000.pdb **\n",
      "** Processing ** Fields: Intialisation of /Volumes/Orsay/gilles_Nitrogen/gilles_Nitrogen0.01_a01.4/data/fields009000.pdb **\n",
      "** Processing ** Fields: Intialisation of /Volumes/Orsay/gilles_Nitrogen/gilles_Nitrogen0.01_a01.4/data/fields010000.pdb **\n",
      "** Processing ** Fields: Intialisation of /Volumes/Orsay/gilles_Nitrogen/gilles_Nitrogen0.01_a01.4/data/fields011000.pdb **\n",
      "** Processing ** Fields: Intialisation of /Volumes/Orsay/gilles_Nitrogen/gilles_Nitrogen0.01_a01.4/data/fields012000.pdb **\n",
      "** Processing ** Fields: Intialisation of /Volumes/Orsay/gilles_Nitrogen/gilles_Nitrogen0.01_a01.4/data/fields013000.pdb **\n",
      "** Processing ** Fields: Intialisation of /Volumes/Orsay/gilles_Nitrogen/gilles_Nitrogen0.01_a01.4/data/fields014000.pdb **\n",
      "** Processing ** Fields: Intialisation of /Volumes/Orsay/gilles_Nitrogen/gilles_Nitrogen0.01_a01.4/data/fields015000.pdb **\n",
      "** Processing ** Fields: Intialisation of /Volumes/Orsay/gilles_Nitrogen/gilles_Nitrogen0.01_a01.4/data/fields016000.pdb **\n",
      "** Processing ** Fields: Intialisation of /Volumes/Orsay/gilles_Nitrogen/gilles_Nitrogen0.01_a01.4/data/fields017000.pdb **\n",
      "** Processing ** Fields: Intialisation of /Volumes/Orsay/gilles_Nitrogen/gilles_Nitrogen0.01_a01.4/data/fields018000.pdb **\n",
      "** Processing ** Fields: Intialisation of /Volumes/Orsay/gilles_Nitrogen/gilles_Nitrogen0.01_a01.4/data/fields019000.pdb **\n",
      "** Processing ** Fields: Intialisation of /Volumes/Orsay/gilles_Nitrogen/gilles_Nitrogen0.01_a01.4/data/fields020000.pdb **\n",
      "** Processing ** Fields: Intialisation of /Volumes/Orsay/gilles_Nitrogen/gilles_Nitrogen0.01_a01.4/data/fields021000.pdb **\n",
      "** Processing ** Fields: Intialisation of /Volumes/Orsay/gilles_Nitrogen/gilles_Nitrogen0.01_a01.4/data/fields022000.pdb **\n",
      "** Processing ** Fields: Intialisation of /Volumes/Orsay/gilles_Nitrogen/gilles_Nitrogen0.01_a01.4/data/fields023000.pdb **\n",
      "** Processing ** Fields: Intialisation of /Volumes/Orsay/gilles_Nitrogen/gilles_Nitrogen0.01_a01.4/data/fields024000.pdb **\n",
      "** Processing ** Fields: Intialisation of /Volumes/Orsay/gilles_Nitrogen/gilles_Nitrogen0.01_a01.4/data/fields025000.pdb **\n",
      "** Processing ** Fields: Intialisation of /Volumes/Orsay/gilles_Nitrogen/gilles_Nitrogen0.01_a01.4/data/fields026000.pdb **\n",
      "** Processing ** Fields: Intialisation of /Volumes/Orsay/gilles_Nitrogen/gilles_Nitrogen0.01_a01.4/data/fields027000.pdb **\n",
      "** Processing ** Fields: Intialisation of /Volumes/Orsay/gilles_Nitrogen/gilles_Nitrogen0.01_a01.4/data/fields028000.pdb **\n",
      "** Processing ** Fields: Intialisation of /Volumes/Orsay/gilles_Nitrogen/gilles_Nitrogen0.01_a01.4/data/fields029000.pdb **\n",
      "** Processing ** Fields: Intialisation of /Volumes/Orsay/gilles_Nitrogen/gilles_Nitrogen0.01_a01.4/data/fields030000.pdb **\n",
      "** Processing ** Fields: Intialisation of /Volumes/Orsay/gilles_Nitrogen/gilles_Nitrogen0.01_a01.4/data/fields031000.pdb **\n",
      "** Processing ** Fields: Intialisation of /Volumes/Orsay/gilles_Nitrogen/gilles_Nitrogen0.01_a01.4/data/fields032000.pdb **\n",
      "** Processing ** Fields: Intialisation of /Volumes/Orsay/gilles_Nitrogen/gilles_Nitrogen0.01_a01.4/data/fields033000.pdb **\n",
      "** Processing ** Fields: Intialisation of /Volumes/Orsay/gilles_Nitrogen/gilles_Nitrogen0.01_a01.4/data/fields034000.pdb **\n",
      "** Processing ** Fields: Intialisation of /Volumes/Orsay/gilles_Nitrogen/gilles_Nitrogen0.01_a01.4/data/fields035000.pdb **\n",
      "** Processing ** Fields: Intialisation of /Volumes/Orsay/gilles_Nitrogen/gilles_Nitrogen0.01_a01.4/data/fields036000.pdb **\n",
      "** Processing ** Fields: Intialisation of /Volumes/Orsay/gilles_Nitrogen/gilles_Nitrogen0.01_a01.4/data/fields037000.pdb **\n",
      "** Processing ** Fields: Intialisation of /Volumes/Orsay/gilles_Nitrogen/gilles_Nitrogen0.01_a01.4/data/fields038000.pdb **\n",
      "** Processing ** Fields: Intialisation of /Volumes/Orsay/gilles_Nitrogen/gilles_Nitrogen0.01_a01.4/data/fields039000.pdb **\n",
      "** Processing ** Fields: Intialisation of /Volumes/Orsay/gilles_Nitrogen/gilles_Nitrogen0.01_a01.4/data/fields040000.pdb **\n",
      "** Processing ** Fields: Intialisation of /Volumes/Orsay/gilles_Nitrogen/gilles_Nitrogen0.01_a01.4/data/fields041000.pdb **\n",
      "** Processing ** Fields: Intialisation of /Volumes/Orsay/gilles_Nitrogen/gilles_Nitrogen0.01_a01.4/data/fields042000.pdb **\n",
      "** Processing ** Fields: Intialisation of /Volumes/Orsay/gilles_Nitrogen/gilles_Nitrogen0.01_a01.4/data/fields043000.pdb **\n",
      "** Processing ** Fields: Intialisation of /Volumes/Orsay/gilles_Nitrogen/gilles_Nitrogen0.01_a01.4/data/fields044000.pdb **\n",
      "** Processing ** Fields: Intialisation of /Volumes/Orsay/gilles_Nitrogen/gilles_Nitrogen0.01_a01.4/data/fields045000.pdb **\n",
      "** Processing ** Fields: Intialisation of /Volumes/Orsay/gilles_Nitrogen/gilles_Nitrogen0.01_a01.4/data/fields046000.pdb **\n",
      "** Processing ** Fields: Intialisation of /Volumes/Orsay/gilles_Nitrogen/gilles_Nitrogen0.01_a01.4/data/fields047000.pdb **\n",
      "** Processing ** Fields: Intialisation of /Volumes/Orsay/gilles_Nitrogen/gilles_Nitrogen0.01_a01.4/data/fields048000.pdb **\n",
      "** Processing ** Fields: Intialisation of /Volumes/Orsay/gilles_Nitrogen/gilles_Nitrogen0.01_a01.4/data/fields049000.pdb **\n",
      "** Processing ** Fields: Intialisation of /Volumes/Orsay/gilles_Nitrogen/gilles_Nitrogen0.01_a01.4/data/fields050000.pdb **\n",
      "** Processing ** Fields: Intialisation of /Volumes/Orsay/gilles_Nitrogen/gilles_Nitrogen0.01_a01.4/data/fields051000.pdb **\n",
      "** Processing ** Fields: Intialisation of /Volumes/Orsay/gilles_Nitrogen/gilles_Nitrogen0.01_a01.4/data/fields052000.pdb **\n",
      "** Processing ** Fields: Intialisation of /Volumes/Orsay/gilles_Nitrogen/gilles_Nitrogen0.01_a01.4/data/fields053000.pdb **\n",
      "** Processing ** Fields: Intialisation of /Volumes/Orsay/gilles_Nitrogen/gilles_Nitrogen0.01_a01.4/data/fields054000.pdb **\n",
      "** Processing ** Fields: Intialisation of /Volumes/Orsay/gilles_Nitrogen/gilles_Nitrogen0.01_a01.4/data/fields055000.pdb **\n",
      "** Processing ** Fields: Intialisation of /Volumes/Orsay/gilles_Nitrogen/gilles_Nitrogen0.01_a01.4/data/fields056000.pdb **\n",
      "** Processing ** Fields: Intialisation of /Volumes/Orsay/gilles_Nitrogen/gilles_Nitrogen0.01_a01.4/data/fields057000.pdb **\n",
      "** Processing ** Fields: Intialisation of /Volumes/Orsay/gilles_Nitrogen/gilles_Nitrogen0.01_a01.4/data/fields058000.pdb **\n",
      "** Processing ** Fields: Intialisation of /Volumes/Orsay/gilles_Nitrogen/gilles_Nitrogen0.01_a01.4/data/fields059000.pdb **\n",
      "** Processing ** Fields: Intialisation of /Volumes/Orsay/gilles_Nitrogen/gilles_Nitrogen0.01_a01.4/data/fields060000.pdb **\n",
      "** Processing ** Fields: Intialisation of /Volumes/Orsay/gilles_Nitrogen/gilles_Nitrogen0.01_a01.4/data/fields061000.pdb **\n",
      "** Processing ** Fields: Intialisation of /Volumes/Orsay/gilles_Nitrogen/gilles_Nitrogen0.01_a01.4/data/fields062000.pdb **\n",
      "** Processing ** Fields: Intialisation of /Volumes/Orsay/gilles_Nitrogen/gilles_Nitrogen0.01_a01.4/data/fields063000.pdb **\n",
      "** Processing ** Fields: Intialisation of /Volumes/Orsay/gilles_Nitrogen/gilles_Nitrogen0.01_a01.4/data/fields064000.pdb **\n",
      "** Processing ** Fields: Intialisation of /Volumes/Orsay/gilles_Nitrogen/gilles_Nitrogen0.01_a01.4/data/fields065000.pdb **\n",
      "** Processing ** Fields: Intialisation of /Volumes/Orsay/gilles_Nitrogen/gilles_Nitrogen0.01_a01.4/data/fields066000.pdb **\n",
      "** Processing ** Fields: Intialisation of /Volumes/Orsay/gilles_Nitrogen/gilles_Nitrogen0.01_a01.4/data/fields067000.pdb **\n",
      "** Processing ** Fields: Intialisation of /Volumes/Orsay/gilles_Nitrogen/gilles_Nitrogen0.01_a01.4/data/fields068000.pdb **\n",
      "** Processing ** Fields: Intialisation of /Volumes/Orsay/gilles_Nitrogen/gilles_Nitrogen0.01_a01.4/data/fields069000.pdb **\n",
      "** Processing ** Fields: Intialisation of /Volumes/Orsay/gilles_Nitrogen/gilles_Nitrogen0.01_a01.4/data/fields070000.pdb **\n",
      "** Processing ** Fields: Intialisation of /Volumes/Orsay/gilles_Nitrogen/gilles_Nitrogen0.01_a01.4/data/fields071000.pdb **\n",
      "** Processing ** Fields: Intialisation of /Volumes/Orsay/gilles_Nitrogen/gilles_Nitrogen0.01_a01.4/data/fields072000.pdb **\n",
      "** Processing ** Fields: Intialisation of /Volumes/Orsay/gilles_Nitrogen/gilles_Nitrogen0.01_a01.4/data/fields073000.pdb **\n",
      "** Processing ** Fields: Intialisation of /Volumes/Orsay/gilles_Nitrogen/gilles_Nitrogen0.01_a01.4/data/fields074000.pdb **\n",
      "** Processing ** Fields: Intialisation of /Volumes/Orsay/gilles_Nitrogen/gilles_Nitrogen0.01_a01.4/data/fields075000.pdb **\n",
      "** Processing ** Fields: Intialisation of /Volumes/Orsay/gilles_Nitrogen/gilles_Nitrogen0.01_a01.4/data/fields076000.pdb **\n",
      "** Processing ** Fields: Intialisation of /Volumes/Orsay/gilles_Nitrogen/gilles_Nitrogen0.01_a01.4/data/fields077000.pdb **\n",
      "** Processing ** Fields: Intialisation of /Volumes/Orsay/gilles_Nitrogen/gilles_Nitrogen0.01_a01.4/data/fields078000.pdb **\n",
      "** Processing ** Fields: Intialisation of /Volumes/Orsay/gilles_Nitrogen/gilles_Nitrogen0.01_a01.4/data/fields079000.pdb **\n",
      "** Processing ** Fields: Intialisation of /Volumes/Orsay/gilles_Nitrogen/gilles_Nitrogen0.01_a01.4/data/fields080000.pdb **\n",
      "** Processing ** Fields: Intialisation of /Volumes/Orsay/gilles_Nitrogen/gilles_Nitrogen0.01_a01.4/data/fields081000.pdb **\n",
      "** Processing ** Fields: Intialisation of /Volumes/Orsay/gilles_Nitrogen/gilles_Nitrogen0.01_a01.4/data/fields082000.pdb **\n",
      "** Processing ** Fields: Intialisation of /Volumes/Orsay/gilles_Nitrogen/gilles_Nitrogen0.01_a01.4/data/fields083000.pdb **\n",
      "** Processing ** Fields: Intialisation of /Volumes/Orsay/gilles_Nitrogen/gilles_Nitrogen0.01_a01.4/data/fields084000.pdb **\n",
      "** Processing ** Fields: Intialisation of /Volumes/Orsay/gilles_Nitrogen/gilles_Nitrogen0.01_a01.4/data/fields085000.pdb **\n",
      "** Processing ** Fields: Intialisation of /Volumes/Orsay/gilles_Nitrogen/gilles_Nitrogen0.01_a01.4/data/fields086000.pdb **\n",
      "** Processing ** Fields: Intialisation of /Volumes/Orsay/gilles_Nitrogen/gilles_Nitrogen0.01_a01.4/data/fields087000.pdb **\n",
      "** Processing ** Fields: Intialisation of /Volumes/Orsay/gilles_Nitrogen/gilles_Nitrogen0.01_a01.4/data/fields088000.pdb **\n",
      "** Processing ** Fields: Intialisation of /Volumes/Orsay/gilles_Nitrogen/gilles_Nitrogen0.01_a01.4/data/fields089000.pdb **\n",
      "** Processing ** Fields: Intialisation of /Volumes/Orsay/gilles_Nitrogen/gilles_Nitrogen0.01_a01.4/data/fields090000.pdb **\n",
      "** Processing ** Fields: Intialisation of /Volumes/Orsay/gilles_Nitrogen/gilles_Nitrogen0.01_a01.4/data/fields091000.pdb **\n",
      "** Processing ** Fields: Intialisation of /Volumes/Orsay/gilles_Nitrogen/gilles_Nitrogen0.01_a01.4/data/fields092000.pdb **\n",
      "** Processing ** Fields: Intialisation of /Volumes/Orsay/gilles_Nitrogen/gilles_Nitrogen0.01_a01.4/data/fields093000.pdb **\n",
      "** Processing ** Fields: Intialisation of /Volumes/Orsay/gilles_Nitrogen/gilles_Nitrogen0.01_a01.4/data/fields094000.pdb **\n",
      "** Processing ** Fields: Intialisation of /Volumes/Orsay/gilles_Nitrogen/gilles_Nitrogen0.01_a01.4/data/fields095000.pdb **\n",
      "** Processing ** Fields: Intialisation of /Volumes/Orsay/gilles_Nitrogen/gilles_Nitrogen0.01_a01.4/data/fields096000.pdb **\n",
      "** Processing ** Fields: Intialisation of /Volumes/Orsay/gilles_Nitrogen/gilles_Nitrogen0.01_a01.4/data/fields097000.pdb **\n",
      "** Processing ** Fields: Intialisation of /Volumes/Orsay/gilles_Nitrogen/gilles_Nitrogen0.01_a01.4/data/fields098000.pdb **\n",
      "** Processing ** Fields: Intialisation of /Volumes/Orsay/gilles_Nitrogen/gilles_Nitrogen0.01_a01.4/data/fields099000.pdb **\n",
      "** Processing ** Fields: Intialisation of /Volumes/Orsay/gilles_Nitrogen/gilles_Nitrogen0.01_a01.4/data/fields100000.pdb **\n",
      "** Processing ** Fields: Intialisation of /Volumes/Orsay/gilles_Nitrogen/gilles_Nitrogen0.01_a01.4/data/fields101000.pdb **\n",
      "** Processing ** Fields: Intialisation of /Volumes/Orsay/gilles_Nitrogen/gilles_Nitrogen0.01_a01.4/data/fields102000.pdb **\n",
      "** Processing ** Fields: Intialisation of /Volumes/Orsay/gilles_Nitrogen/gilles_Nitrogen0.01_a01.4/data/fields103000.pdb **\n",
      "** Processing ** Fields: Intialisation of /Volumes/Orsay/gilles_Nitrogen/gilles_Nitrogen0.01_a01.4/data/fields104000.pdb **\n",
      "** Processing ** Fields: Intialisation of /Volumes/Orsay/gilles_Nitrogen/gilles_Nitrogen0.01_a01.4/data/fields105000.pdb **\n",
      "** Processing ** Fields: Intialisation of /Volumes/Orsay/gilles_Nitrogen/gilles_Nitrogen0.01_a01.4/data/fields106000.pdb **\n",
      "** Processing ** Fields: Intialisation of /Volumes/Orsay/gilles_Nitrogen/gilles_Nitrogen0.01_a01.4/data/fields107000.pdb **\n",
      "** Processing ** Fields: Intialisation of /Volumes/Orsay/gilles_Nitrogen/gilles_Nitrogen0.01_a01.4/data/fields108000.pdb **\n",
      "** Processing ** Fields: Intialisation of /Volumes/Orsay/gilles_Nitrogen/gilles_Nitrogen0.01_a01.4/data/fields109000.pdb **\n",
      "** Processing ** Fields: Intialisation of /Volumes/Orsay/gilles_Nitrogen/gilles_Nitrogen0.01_a01.4/data/fields110000.pdb **\n",
      "** Processing ** Fields: Intialisation of /Volumes/Orsay/gilles_Nitrogen/gilles_Nitrogen0.01_a01.4/data/fields111000.pdb **\n",
      "** Processing ** Fields: Intialisation of /Volumes/Orsay/gilles_Nitrogen/gilles_Nitrogen0.01_a01.4/data/fields112000.pdb **\n",
      "** Processing ** Fields: Intialisation of /Volumes/Orsay/gilles_Nitrogen/gilles_Nitrogen0.01_a01.4/data/fields113000.pdb **\n"
     ]
    }
   ],
   "source": [
    "l_particle = False\n",
    "\n",
    "#preparing some empty arrays\n",
    "a0 = []\n",
    "z_a0 = []\n",
    "emitx = []\n",
    "emity = []\n",
    "deltaE = []\n",
    "deltaEE = []\n",
    "divx = []\n",
    "divy = []\n",
    "charge = []\n",
    "ROI_peak = []\n",
    "E_peak = []\n",
    "\n",
    "last = len(val)\n",
    "first  = 0#int(2.5e-3/dz/period_int) #round off to the nearest 1000\n",
    "\n",
    "for index in range( first, last ):\n",
    "    \n",
    "    f = FieldInstant( field[index], np.pi/2, \n",
    "                 quantities= [\"E\", \"zfield\"] )\n",
    "    a, z = f.laser_a0(w0)\n",
    "    \n",
    "    # Store values in arrays\n",
    "    a0.append(a)\n",
    "    z_a0.append(z)\n",
    "    \n",
    "    if l_particle:\n",
    "        #p_H = ParticleInstant( H[index], quantities = [ \"Weight\", \"Position\", \"Momentum\"] )\n",
    "        p_N6 = ParticleInstant( N6[index], quantities = [ \"Weight\", \"Position\", \"Momentum\"] )\n",
    "        p_N7 = ParticleInstant( N7[index], quantities = [ \"Weight\", \"Position\", \"Momentum\"] )\n",
    "        qdict = p_N6.get_qdict()\n",
    "        \n",
    "        #Select particles\n",
    "        #cp_H = p_H.select( gamma_threshold = [50,800] )\n",
    "        cp_N6 = p_N6.select( gamma_threshold = [50,800] )\n",
    "        cp_N7 = p_N7.select( gamma_threshold = [50,800] )\n",
    "        \n",
    "        # Concatenate particles\n",
    "        ck_all_particles = quant_concatenate([cp_N6,cp_N7], keep_object_name = True ) \n",
    "        #keeping the information on the species\n",
    "        c_all_particles = quant_concatenate([cp_N6, cp_N7])\n",
    "        \n",
    "        # Analyzing beam spectrum\n",
    "        energy, dQdE = beam_spectrum(val[index], \n",
    "                             ck_all_particles[qdict[\"gamma\"]], \n",
    "                             ck_all_particles[qdict[\"w\"]], lwrite=True,\n",
    "                             leg = [\"N6\",\"N7\",\"Sum\"])\n",
    "        \n",
    "        if energy is not None:\n",
    "            t_energy = energy[-1]\n",
    "            t_dQdE = dQdE[-1]\n",
    "            \n",
    "            Ipeak, Epeak, Cpeak, ROI_by_peak = beam_peak( t_energy, t_dQdE)\n",
    "\n",
    "            if Ipeak is not None:\n",
    "                peak = (Ipeak[-1], Epeak[-1], Cpeak[-1])\n",
    "                t_deltaE , t_deltaEE = beam_energy_spread( t_energy, t_dQdE, peak = peak)\n",
    "            \n",
    "            else:\n",
    "                t_deltaE , t_deltaEE = beam_energy_spread( t_energy, t_dQdE )\n",
    "            \n",
    "            deltaE.append( t_deltaE )\n",
    "            deltaEE.append( t_deltaEE )\n",
    "            E_peak.append( Epeak )\n",
    "        \n",
    "        if energy is not None and ROI_by_peak:\n",
    "            print \"You have chosen particles situated between %g MeV and %g MeV. \" \\\n",
    "                    %( ROI_by_peak[-1][0], ROI_by_peak[-1][1] )\n",
    "    \n",
    "            # Conversion from MeV to gamma arb units\n",
    "            ROI_gamma = [[ROI_by_peak[i][j]/0.511 for j in xrange(len(ROI_by_peak[0]))] \\\n",
    "                         for i in xrange(len(ROI_by_peak))]\n",
    "    \n",
    "            # Selection of particles\n",
    "            cPN6 = p_N6.select( gamma_threshold = ROI_gamma[-1] )\n",
    "            cPN7 = p_N7.select( gamma_threshold = ROI_gamma[-1] )\n",
    "            \n",
    "            ck_all_particles = quant_concatenate([cPN6,cPN7], keep_object_name= True) \n",
    "            #keeping the information on the species\n",
    "            c_all_particles = quant_concatenate([cPN6,cPN7])\n",
    "            \n",
    "            ROI_peak.append( ROI_gamma[-1] )\n",
    "        \n",
    "        # Analysing big picture\n",
    "        N_laser = f.normalizedField( w0, \"laser\")\n",
    "        N_wake = f.normalizedField( wp, \"wake\")\n",
    "        bigPicture( val[index], c_all_particles[qdict[\"z\"]], c_all_particles[qdict[\"gamma\"]],\n",
    "           c_all_particles[qdict[\"w\"]], f.zfield, N_wake, N_laser, lwrite= True )\n",
    "        \n",
    "        \n",
    "        # Analyzing beam emittance\n",
    "        t_emitx = beam_emittance( val[index],  c_all_particles, qdict, \"x\" ) \n",
    "        t_emity = beam_emittance( val[index],  c_all_particles, qdict, \"y\" )\n",
    "        \n",
    "        # Store values in arrays\n",
    "        emitx.append( t_emitx )\n",
    "        emity.append( t_emity )\n",
    "        \n",
    "        # Analyzing beam divergence\n",
    "        t_divx  = beam_divergence (c_all_particles, qdict, \"x\")\n",
    "        t_divy  = beam_divergence (c_all_particles, qdict, \"y\")\n",
    "        \n",
    "        # Store values in arrays\n",
    "        divx.append( t_divx )\n",
    "        divy.append( t_divy )\n",
    "        \n",
    "        # Analyze beam charge\n",
    "        t_charge = beam_charge(c_all_particles[qdict[\"w\"]])\n",
    "        \n",
    "        # Store values in array\n",
    "        charge.append( t_charge )"
   ]
  },
  {
   "cell_type": "markdown",
   "metadata": {},
   "source": [
    "##Saving laser $a_0$ values and beam properties in  in files."
   ]
  },
  {
   "cell_type": "code",
   "execution_count": 9,
   "metadata": {
    "collapsed": false
   },
   "outputs": [
    {
     "name": "stdout",
     "output_type": "stream",
     "text": [
      "A file named a0.hdf5 in /Volumes/Orsay/gilles_Nitrogen/gilles_Nitrogen0.01_a01.4/result/ is created.\n",
      "** Writing is done **\n"
     ]
    }
   ],
   "source": [
    "qname = [\"z\", \"a0\" ]\n",
    "f = FileWriting(qname, \"a0\")\n",
    "stacked_data = np.stack(( z_a0, a0 ), axis=0)\n",
    "f.write(stacked_data, np.shape(stacked_data), \n",
    "        attrs = [\"m\", \"arb. unit\" ])"
   ]
  },
  {
   "cell_type": "code",
   "execution_count": 10,
   "metadata": {
    "collapsed": false
   },
   "outputs": [
    {
     "name": "stdout",
     "output_type": "stream",
     "text": [
      "A file named beam_properties_Nitrogen.hdf5 in /Volumes/Orsay/gilles_Nitrogen/gilles_Nitrogen0.01_a01.4/result/ is created.\n"
     ]
    },
    {
     "ename": "NameError",
     "evalue": "name 'long_pos' is not defined",
     "output_type": "error",
     "traceback": [
      "\u001b[0;31m---------------------------------------------------------------------------\u001b[0m",
      "\u001b[0;31mNameError\u001b[0m                                 Traceback (most recent call last)",
      "\u001b[0;32m<ipython-input-10-cd1174863b3b>\u001b[0m in \u001b[0;36m<module>\u001b[0;34m()\u001b[0m\n\u001b[1;32m      2\u001b[0m          \"divy\", \"charge\", \"ROI_peak_left\", \"ROI_peak_right\"]\n\u001b[1;32m      3\u001b[0m \u001b[0mf\u001b[0m \u001b[0;34m=\u001b[0m \u001b[0mFileWriting\u001b[0m\u001b[0;34m(\u001b[0m\u001b[0mqname\u001b[0m\u001b[0;34m,\u001b[0m \u001b[0;34m\"beam_properties_Nitrogen\"\u001b[0m\u001b[0;34m)\u001b[0m\u001b[0;34m\u001b[0m\u001b[0m\n\u001b[0;32m----> 4\u001b[0;31m stacked_data = np.stack(( long_pos, deltaE, deltaEE, emitx, emity, \n\u001b[0m\u001b[1;32m      5\u001b[0m                          \u001b[0mdivx\u001b[0m\u001b[0;34m,\u001b[0m \u001b[0mdivy\u001b[0m\u001b[0;34m,\u001b[0m \u001b[0mcharge\u001b[0m\u001b[0;34m,\u001b[0m \u001b[0mROI_peak_left\u001b[0m\u001b[0;34m,\u001b[0m\u001b[0;34m\u001b[0m\u001b[0m\n\u001b[1;32m      6\u001b[0m                          ROI_peak_right), axis=0)\n",
      "\u001b[0;31mNameError\u001b[0m: name 'long_pos' is not defined"
     ]
    }
   ],
   "source": [
    "if l_particle:\n",
    "    qname = [\"val\", \"deltaE\", \"deltaEE\", \"emitx\", \"emity\", \"divx\", \n",
    "             \"divy\", \"charge\", \"ROI_peak_left\", \"ROI_peak_right\"]\n",
    "    f = FileWriting(qname, \"beam_properties_Nitrogen\")\n",
    "    stacked_data = np.stack(( longitudinal_position, deltaE, deltaEE, emitx, emity, \n",
    "                             divx, divy, charge, ROI_peak_left,  \n",
    "                             ROI_peak_right), axis=0)\n",
    "    f.write(stacked_data, np.shape(stacked_data), \n",
    "             attrs = [ \"m\", \"MeV\", \"%\", \"m.rad\", \"m.rad\", \"rad\", \"rad\", \n",
    "                      \"C\", \"arb. units\",\"arb. units\"])"
   ]
  },
  {
   "cell_type": "markdown",
   "metadata": {},
   "source": [
    "##Plot $a_0$"
   ]
  },
  {
   "cell_type": "code",
   "execution_count": 11,
   "metadata": {
    "collapsed": false
   },
   "outputs": [
    {
     "data": {
      "image/png": "[encoded data removed]",
      "text/plain": [
       "<matplotlib.figure.Figure at 0x10eed7a10>"
      ]
     },
     "metadata": {},
     "output_type": "display_data"
    }
   ],
   "source": [
    "if 'inline' in matplotlib.get_backend():\n",
    "    fig, ax = plt.subplots( dpi=150 )\n",
    "else:\n",
    "    fig, ax = plt.subplots( figsize=(10,8) )\n",
    "\n",
    "fig.patch.set_facecolor('white')\n",
    "ax.plot(z_a0, a0, linewidth = 2)\n",
    "\n",
    "ax.set_xlabel(r\"$\\mathrm{z\\,(m)}$\")\n",
    "ax.set_ylabel(r\"$\\mathrm{a_0}$\")\n",
    "ax.set_ylim(0.0, 1.1*max(a0))\n",
    "ax.xaxis.set_tick_params(width=2, length = 8)\n",
    "ax.yaxis.set_tick_params(width=2, length = 8)\n",
    "font = {'family':'sans-serif'}\n",
    "plt.rc('font', **font)\n",
    "\n",
    "fig.savefig(res_path + \"a0.pdf\")"
   ]
  },
  {
   "cell_type": "code",
   "execution_count": null,
   "metadata": {
    "collapsed": true
   },
   "outputs": [],
   "source": []
  }
 ],
 "metadata": {
  "kernelspec": {
   "display_name": "Python 2",
   "language": "python",
   "name": "python2"
  },
  "language_info": {
   "codemirror_mode": {
    "name": "ipython",
    "version": 2
   },
   "file_extension": ".py",
   "mimetype": "text/x-python",
   "name": "python",
   "nbconvert_exporter": "python",
   "pygments_lexer": "ipython2",
   "version": "2.7.9"
  }
 },
 "nbformat": 4,
 "nbformat_minor": 0
}
